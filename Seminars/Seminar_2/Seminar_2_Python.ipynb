{
  "nbformat": 4,
  "nbformat_minor": 0,
  "metadata": {
    "colab": {
      "provenance": [],
      "collapsed_sections": []
    },
    "kernelspec": {
      "name": "python3",
      "display_name": "Python 3"
    },
    "language_info": {
      "name": "python"
    }
  },
  "cells": [
    {
      "cell_type": "markdown",
      "source": [
        "# Продвинутый Python, семинар 2 \n",
        "\n",
        "**Лектор:** Петров Тимур\n",
        "\n",
        "**Семинаристы:** Петров Тимур, Коган Александра, Романченко Полина\n",
        "\n",
        "**Spoiler Alert:** в рамках курса нельзя изучить ни одну из тем от и до досконально (к сожалению, на это требуется больше времени, чем даже 3 часа в неделю). Но мы попробуем рассказать столько, сколько возможно :)"
      ],
      "metadata": {
        "id": "-1VAkrLRytk6"
      }
    },
    {
      "cell_type": "markdown",
      "source": [
        "Думая о том, где можно было бы хорошо попрактиковать анализ данных, меня вдруг осенило, что одно из явных приложений - это аналитика игр\n",
        "\n",
        "Никакая успешная команда, выступающая на чемпионатах (будь то The International в Dota2 или же Worlds в LoL), всегда должна иметь аналитика, который будет анализировать игры и на их основе находить инсайты по тому, какую композицию выбрать или же различные синергии.\n",
        "\n",
        "Поэтому мы будем анализировать игру, которая очень нравится самому лектору - TFT (TeamFight Tactics). Это автобаттлер, в котором ты размещаешь фигурки, апгейдишь их, кладешь итемы и так далее.\n",
        "\n",
        "![TFT](https://genapilot.ru/wp-content/uploads/2020/03/teamfight-tactics-vyhodit-na-mobilnyh-ustrojstvah-s-ios-i-android.jpg)"
      ],
      "metadata": {
        "id": "XH-vY6vey46i"
      }
    },
    {
      "cell_type": "markdown",
      "source": [
        "Поэтому попрактикуемся на базовом датасете: [тык](https://www.kaggle.com/datasets/pvillanueva13/tft-35-500-gm-matches?select=tft_3.5_last_500_gm_match_info.csv)"
      ],
      "metadata": {
        "id": "Yqer3uw3zxLv"
      }
    },
    {
      "cell_type": "markdown",
      "source": [
        "## Грузим данные и библиотеки"
      ],
      "metadata": {
        "id": "zEUJdPBpz-6Y"
      }
    },
    {
      "cell_type": "code",
      "source": [
        "!pip install python-dateutil"
      ],
      "metadata": {
        "colab": {
          "base_uri": "https://localhost:8080/"
        },
        "id": "X1UXTkMSCXW0",
        "outputId": "540eafb7-3ed2-47b6-c0a2-1f70f8a486f9"
      },
      "execution_count": null,
      "outputs": [
        {
          "output_type": "stream",
          "name": "stdout",
          "text": [
            "Looking in indexes: https://pypi.org/simple, https://us-python.pkg.dev/colab-wheels/public/simple/\n",
            "Requirement already satisfied: python-dateutil in /usr/local/lib/python3.7/dist-packages (2.8.2)\n",
            "Requirement already satisfied: six>=1.5 in /usr/local/lib/python3.7/dist-packages (from python-dateutil) (1.15.0)\n"
          ]
        }
      ]
    },
    {
      "cell_type": "code",
      "execution_count": null,
      "metadata": {
        "id": "_OdIOiFxyCkR"
      },
      "outputs": [],
      "source": [
        "import numpy as np\n",
        "import pandas as pd\n",
        "import datetime as dt\n",
        "from dateutil.parser import parse\n",
        "import dateutil\n",
        "import pytz"
      ]
    },
    {
      "cell_type": "code",
      "source": [
        "!unzip archive.zip"
      ],
      "metadata": {
        "colab": {
          "base_uri": "https://localhost:8080/"
        },
        "id": "FUdgIa8O0IK_",
        "outputId": "11ee8ab5-162b-43fd-cde8-973cdb306ccf"
      },
      "execution_count": null,
      "outputs": [
        {
          "output_type": "stream",
          "name": "stdout",
          "text": [
            "Archive:  archive.zip\n",
            "  inflating: items.json              \n",
            "  inflating: tft_3.5_last_500_gm_match_info.csv  \n",
            "  inflating: tft_3.5_last_500_gm_unit_info.csv  \n",
            "  inflating: traits.json             \n"
          ]
        }
      ]
    },
    {
      "cell_type": "markdown",
      "source": [
        "## Что у нас есть?"
      ],
      "metadata": {
        "id": "fBQ5WXmP0QMy"
      }
    },
    {
      "cell_type": "markdown",
      "source": [
        "Наши данные - это информация о 500 матчах игроков и фигурках, которые были поставлены.\n",
        "\n",
        "А также jsonы с информацией про предметы и особенности"
      ],
      "metadata": {
        "id": "FM-j9Elj0SIn"
      }
    },
    {
      "cell_type": "markdown",
      "source": [
        "### Задание 1.\n",
        "\n",
        "Загрузите данные и посмотрите на них"
      ],
      "metadata": {
        "id": "hWG9HuyL0kMA"
      }
    },
    {
      "cell_type": "code",
      "source": [],
      "metadata": {
        "id": "a7E3XRmAUNIv"
      },
      "execution_count": null,
      "outputs": []
    },
    {
      "cell_type": "code",
      "source": [],
      "metadata": {
        "id": "H3GmJVsrUNYj"
      },
      "execution_count": null,
      "outputs": []
    },
    {
      "cell_type": "markdown",
      "source": [
        "Отлично! Что мы видим:\n",
        "\n",
        "1. Куча каких-то непонятных id\n",
        "\n",
        "2. Поля, которые нам мало что говорят (если вы только не заядлый игрок в TFT)\n",
        "\n",
        "3. И NaN, как же без них"
      ],
      "metadata": {
        "id": "2jCBiTx91K_U"
      }
    },
    {
      "cell_type": "markdown",
      "source": [
        "## Задание 2.\n",
        "\n",
        "Посчитайте число строк в датасете matches и иосмотрите на число уникальных puuid и match_id в датасете с матчами.\n",
        "\n",
        "Сделайте вывод, сколько было матчей и сколько игроков играло"
      ],
      "metadata": {
        "id": "CU0HKAkO1fTI"
      }
    },
    {
      "cell_type": "code",
      "source": [],
      "metadata": {
        "id": "l-2As6lrUOYg"
      },
      "execution_count": null,
      "outputs": []
    },
    {
      "cell_type": "markdown",
      "source": [
        "## Задание 3.\n",
        "\n",
        "Определить, сколько было челленджеров (это люди, у которых самый высокий ранг, столбец challenger)"
      ],
      "metadata": {
        "id": "nXnyAtMU5x5C"
      }
    },
    {
      "cell_type": "code",
      "source": [],
      "metadata": {
        "id": "1mMx9ZY-UPUl"
      },
      "execution_count": null,
      "outputs": []
    },
    {
      "cell_type": "markdown",
      "source": [
        "## Задание 4.\n",
        "\n",
        "Посмотреть, сколько участников было в каждом матче"
      ],
      "metadata": {
        "id": "vzllwt7o5qSb"
      }
    },
    {
      "cell_type": "code",
      "source": [],
      "metadata": {
        "id": "HtMPBGGBUQcC"
      },
      "execution_count": null,
      "outputs": []
    },
    {
      "cell_type": "markdown",
      "source": [
        "## Задание 5.\n",
        "\n",
        "Создайте колонку winner, где 1-4 место - это победа, а 5-8 - проигрыш\n",
        "\n",
        "А также создайте колонку galaxy_numb, где каждой галактике будет присвоен свой собственный номер\n",
        "\n",
        "И после этого посмотреть на распределение мест у challengers и распределение галактик в играх"
      ],
      "metadata": {
        "id": "86EElIm15_9P"
      }
    },
    {
      "cell_type": "code",
      "source": [],
      "metadata": {
        "id": "F-c5RBRXUSyW"
      },
      "execution_count": null,
      "outputs": []
    },
    {
      "cell_type": "code",
      "source": [],
      "metadata": {
        "id": "GmmowOt8UTIQ"
      },
      "execution_count": null,
      "outputs": []
    },
    {
      "cell_type": "code",
      "source": [],
      "metadata": {
        "id": "MbwqxnSjUTUt"
      },
      "execution_count": null,
      "outputs": []
    },
    {
      "cell_type": "markdown",
      "source": [
        "Видим, что игроки с высоким рейтингом очень часто выигрывают!"
      ],
      "metadata": {
        "id": "9dMbDazs-PCw"
      }
    },
    {
      "cell_type": "markdown",
      "source": [
        "## Datetime"
      ],
      "metadata": {
        "id": "x5S2n4OGOAGN"
      }
    },
    {
      "cell_type": "markdown",
      "source": [
        "Чтобы решать задачи со временем, можно было бы просто вычленить из строки нужное поле и жить спокойно. Но вот, допустим, что вы хотите посмотреть не только час, но и минута, день, месяц, год и так далее. А еще у вас там часовой пояс есть какой-нибудь.\n",
        "\n",
        "Выглядит не очень. Вот ровно для такого и существует библиотека datetime! С ее помощью можно достать из строки дату и время, преобразовать ее, привести к общему часовому поясу, посчитать разницу во времени и так далее\n",
        "\n",
        "[Документация](https://docs.python.org/3/library/datetime.html)\n",
        "\n",
        "Есть еще полезная надстройка над datetime - dateutil, которая в некоторых моментах позволяет более удобно работать со временем и его преобразованием\n",
        "\n",
        "[Документация](https://dateutil.readthedocs.io/en/stable/index.html)"
      ],
      "metadata": {
        "id": "5odQZigl-a_h"
      }
    },
    {
      "cell_type": "markdown",
      "source": [
        "Какие функции есть у datetime? Начнем с преобразований из строк\n",
        "\n",
        "* datetime.fromisoformat(s) - работает, если у вас формат выглядит как\n",
        "\n",
        "```\n",
        "YYYY-MM-DD[*HH[:MM[:SS[.fff[fff]]]][+HH:MM[:SS[.ffffff]]]]\n",
        "YYY-MM-DD - год-месяц-день\n",
        "HH:MM:SS - часы-минуты-секунды (может быть еще после точки миллисекунды)\n",
        "+HH::MM:SS - часовой пояс не через название\n",
        "```\n",
        "\n",
        "* datetime.strptime(s, format) - по заданному шаблону преобразовать в datetime (однако тут надо задать правильный шаблон)\n",
        "\n",
        "Форматы:\n",
        "\n",
        "```\n",
        "%a  Locale’s abbreviated weekday name.\n",
        "%A  Locale’s full weekday name.      \n",
        "%b  Locale’s abbreviated month name.     \n",
        "%B  Locale’s full month name.\n",
        "%c  Locale’s appropriate date and time representation.   \n",
        "%d  Day of the month as a decimal number [01,31].    \n",
        "%f  Microsecond as a decimal number [0,999999], zero-padded on the left\n",
        "%H  Hour (24-hour clock) as a decimal number [00,23].    \n",
        "%I  Hour (12-hour clock) as a decimal number [01,12].    \n",
        "%j  Day of the year as a decimal number [001,366].   \n",
        "%m  Month as a decimal number [01,12].   \n",
        "%M  Minute as a decimal number [00,59].      \n",
        "%p  Locale’s equivalent of either AM or PM.\n",
        "%S  Second as a decimal number [00,61].\n",
        "%U  Week number of the year (Sunday as the first day of the week)\n",
        "%w  Weekday as a decimal number [0(Sunday),6].   \n",
        "%W  Week number of the year (Monday as the first day of the week)\n",
        "%x  Locale’s appropriate date representation.    \n",
        "%X  Locale’s appropriate time representation.    \n",
        "%y  Year without century as a decimal number [00,99].    \n",
        "%Y  Year with century as a decimal number.   \n",
        "%z  UTC offset in the form +HHMM or -HHMM.\n",
        "%Z  Time zone name (empty string if the object is naive).    \n",
        "%%  A literal '%' character.\n",
        "```\n",
        "\n",
        "* dateutil.parser.parse(s) - спарсить в datetime (без лишних заморочек с форматом)"
      ],
      "metadata": {
        "id": "MLMIMX_O_Ic8"
      }
    },
    {
      "cell_type": "code",
      "source": [
        "d = '2022-04-26T15:14:32.001+03:00'\n",
        "\n",
        "dt.datetime.fromisoformat(d)"
      ],
      "metadata": {
        "colab": {
          "base_uri": "https://localhost:8080/"
        },
        "id": "yfYNjzMa-aDU",
        "outputId": "69aa7501-69df-4ba7-d505-20cee5fe70b8"
      },
      "execution_count": null,
      "outputs": [
        {
          "output_type": "execute_result",
          "data": {
            "text/plain": [
              "datetime.datetime(2022, 4, 26, 15, 14, 32, 1000, tzinfo=datetime.timezone(datetime.timedelta(seconds=10800)))"
            ]
          },
          "metadata": {},
          "execution_count": 51
        }
      ]
    },
    {
      "cell_type": "code",
      "source": [
        "from dateutil.parser import parse\n",
        "#А теперь поменяем: DD-MM-YYYY\n",
        "d = '05-04-2022 15:14:32.001GMT'\n",
        "format = '%d-%m-%Y %H:%M:%S.%f%Z'\n",
        "\n",
        "dt.datetime.strptime(d, format)"
      ],
      "metadata": {
        "colab": {
          "base_uri": "https://localhost:8080/"
        },
        "id": "dtn_r_K-AZy5",
        "outputId": "f25377b5-d4da-4fc3-acb1-c9313b639b9b"
      },
      "execution_count": null,
      "outputs": [
        {
          "output_type": "execute_result",
          "data": {
            "text/plain": [
              "datetime.datetime(2022, 4, 5, 15, 14, 32, 1000)"
            ]
          },
          "metadata": {},
          "execution_count": 113
        }
      ]
    },
    {
      "cell_type": "code",
      "source": [
        "print(parse(d, dayfirst=True)) #Только здесь надо было указать, что день идет первее, чем месяц\n",
        "\n",
        "tzinfos = {'MSK': 10800}\n",
        "d = 'Sat Oct 11 17:13:46 MSK 2003'\n",
        "print(parse(d, tzinfos=tzinfos)) # И даже так он умеет, но надо задавать все нужные вам таймзоны"
      ],
      "metadata": {
        "colab": {
          "base_uri": "https://localhost:8080/"
        },
        "id": "JxmhBYf_F2gk",
        "outputId": "776b17b6-d317-4a7c-fe2c-3980154dc8be"
      },
      "execution_count": null,
      "outputs": [
        {
          "output_type": "stream",
          "name": "stdout",
          "text": [
            "2003-10-11 17:13:46+03:00\n"
          ]
        }
      ]
    },
    {
      "cell_type": "code",
      "source": [
        "dt.datetime.fromtimestamp(17456034) #можно вытаскивать также и с timestamp время"
      ],
      "metadata": {
        "colab": {
          "base_uri": "https://localhost:8080/"
        },
        "id": "j-_fsxjWNR6n",
        "outputId": "90f699ac-b553-49e9-8ca4-af597153a99a"
      },
      "execution_count": null,
      "outputs": [
        {
          "output_type": "execute_result",
          "data": {
            "text/plain": [
              "datetime.datetime(1970, 7, 22, 0, 53, 54)"
            ]
          },
          "metadata": {},
          "execution_count": 156
        }
      ]
    },
    {
      "cell_type": "markdown",
      "source": [
        "Мы получили инстанс в виде datetime, из которого можно спокойно вытащить примерно все:"
      ],
      "metadata": {
        "id": "LFWPRSEDGpsc"
      }
    },
    {
      "cell_type": "code",
      "source": [
        "parse(d, tzinfos=tzinfos)"
      ],
      "metadata": {
        "colab": {
          "base_uri": "https://localhost:8080/"
        },
        "id": "jq7-gMoRGzHB",
        "outputId": "24af7fe0-0ed3-42e4-9ffb-b69ace4a1353"
      },
      "execution_count": null,
      "outputs": [
        {
          "output_type": "execute_result",
          "data": {
            "text/plain": [
              "datetime.datetime(2003, 10, 11, 17, 13, 46, tzinfo=tzoffset('MSK', 10800))"
            ]
          },
          "metadata": {},
          "execution_count": 129
        }
      ]
    },
    {
      "cell_type": "code",
      "source": [
        "d = parse(d, tzinfos=tzinfos)\n",
        "print(d.year, d.month, d.day, d.hour, d.minute, d.second, d.tzinfo)"
      ],
      "metadata": {
        "colab": {
          "base_uri": "https://localhost:8080/"
        },
        "id": "uWRMO5C_Gvsi",
        "outputId": "b9c1cb16-60f7-4665-86ff-e6ae640a8455"
      },
      "execution_count": null,
      "outputs": [
        {
          "output_type": "stream",
          "name": "stdout",
          "text": [
            "2003 10 11 17 13 46 tzoffset('MSK', 10800)\n"
          ]
        }
      ]
    },
    {
      "cell_type": "markdown",
      "source": [
        "Окей, теперь хотим избавиться от тайм-зоны (или привести к какой-нибудь другой зоне, скажем, МСК подойдет)"
      ],
      "metadata": {
        "id": "YsdL9rqAKrsj"
      }
    },
    {
      "cell_type": "code",
      "source": [
        "d = d.astimezone(pytz.timezone('UTC')) \n",
        "print(d)\n",
        "d = d.astimezone(pytz.timezone('Europe/Moscow')) \n",
        "print(d)"
      ],
      "metadata": {
        "colab": {
          "base_uri": "https://localhost:8080/"
        },
        "id": "Hc11PX1lKfTl",
        "outputId": "24d30b3c-4cd5-4b44-ae97-a76780c20a50"
      },
      "execution_count": null,
      "outputs": [
        {
          "output_type": "stream",
          "name": "stdout",
          "text": [
            "2003-10-11 14:13:46+00:00\n",
            "2003-10-11 18:13:46+04:00\n"
          ]
        }
      ]
    },
    {
      "cell_type": "code",
      "source": [
        "#Вывести все возможные таймзоны\n",
        "for tz in pytz.all_timezones:\n",
        "    print(tz)"
      ],
      "metadata": {
        "id": "_EuP9TsrK2uF"
      },
      "execution_count": null,
      "outputs": []
    },
    {
      "cell_type": "markdown",
      "source": [
        "В чем проблема с таймзонами? В том, что с ними в целом сложно (вот у нас был переход на зимнее/летнее время, теперь нет, а потом опять ввели, а потом опять нет)\n",
        "\n",
        "Поэтому такие косяки бывают всегда, но нам для точности достаточно хотя бы привести все к единому времени (так у нас данные не будут расходиться по часовым поясам)"
      ],
      "metadata": {
        "id": "dCgmSNbEFpDF"
      }
    },
    {
      "cell_type": "markdown",
      "source": [
        "Хорошо, привели все времена. Хотим теперь, наверное, считать diff между временами? Легко!"
      ],
      "metadata": {
        "id": "pKHhHDtkLs1r"
      }
    },
    {
      "cell_type": "code",
      "source": [
        "dt_1 = dt.datetime(2022, 5, 6, 14, 15, 16)\n",
        "print(dt_1)\n",
        "dt_2 = dt.datetime.now() #Дает время в UTC\n",
        "print(dt_2)"
      ],
      "metadata": {
        "colab": {
          "base_uri": "https://localhost:8080/"
        },
        "id": "gf6kgnogLzYC",
        "outputId": "1d2553e1-0c76-464e-b239-f344d0dfef64"
      },
      "execution_count": null,
      "outputs": [
        {
          "output_type": "stream",
          "name": "stdout",
          "text": [
            "2022-05-06 14:15:16\n",
            "2022-09-14 22:50:31.705200\n"
          ]
        }
      ]
    },
    {
      "cell_type": "code",
      "source": [
        "dt_2 - dt_1 #Получаем объект типа timedelta"
      ],
      "metadata": {
        "colab": {
          "base_uri": "https://localhost:8080/"
        },
        "id": "n7cPIPTjMAiA",
        "outputId": "94cf428f-316e-402c-c8d9-6340bdf3fceb"
      },
      "execution_count": null,
      "outputs": [
        {
          "output_type": "execute_result",
          "data": {
            "text/plain": [
              "datetime.timedelta(days=131, seconds=30915, microseconds=705200)"
            ]
          },
          "metadata": {},
          "execution_count": 148
        }
      ]
    },
    {
      "cell_type": "code",
      "source": [
        "diff = dt_2 - dt_1\n",
        "diff.days #хопа, разница в днях"
      ],
      "metadata": {
        "colab": {
          "base_uri": "https://localhost:8080/"
        },
        "id": "22jewOQJMq7x",
        "outputId": "99afb6f1-c3ae-4e6a-d719-9648cd74065f"
      },
      "execution_count": null,
      "outputs": [
        {
          "output_type": "execute_result",
          "data": {
            "text/plain": [
              "131"
            ]
          },
          "metadata": {},
          "execution_count": 150
        }
      ]
    },
    {
      "cell_type": "code",
      "source": [
        "dt_2 + dt.timedelta(days=15) #Хотим узнать, какое число будет через 15 дней"
      ],
      "metadata": {
        "colab": {
          "base_uri": "https://localhost:8080/"
        },
        "id": "3SgQFchHMyOa",
        "outputId": "1f78d58d-6bcc-499b-de03-0a6d63d57e24"
      },
      "execution_count": null,
      "outputs": [
        {
          "output_type": "execute_result",
          "data": {
            "text/plain": [
              "datetime.datetime(2022, 9, 29, 22, 50, 31, 705200)"
            ]
          },
          "metadata": {},
          "execution_count": 152
        }
      ]
    },
    {
      "cell_type": "code",
      "source": [
        "format = '%d-%m-%Y'\n",
        "dt.datetime.strftime(dt_2 + dt.timedelta(days=15), format) #и красивый вывод по шаблону"
      ],
      "metadata": {
        "colab": {
          "base_uri": "https://localhost:8080/",
          "height": 36
        },
        "id": "Mx7TWfMXNpu5",
        "outputId": "e5f38c79-1c2e-403c-ccaf-c7542a2d4e81"
      },
      "execution_count": null,
      "outputs": [
        {
          "output_type": "execute_result",
          "data": {
            "text/plain": [
              "'29-09-2022'"
            ],
            "application/vnd.google.colaboratory.intrinsic+json": {
              "type": "string"
            }
          },
          "metadata": {},
          "execution_count": 157
        }
      ]
    },
    {
      "cell_type": "markdown",
      "source": [
        "А теперь к заданию!"
      ],
      "metadata": {
        "id": "4_ArBJJbQnIH"
      }
    },
    {
      "cell_type": "markdown",
      "source": [
        "## Задание 6.\n",
        "\n",
        "Понять, в какие часы и дни играют challengers и выигрывают чаще. Для этого нужно создать поля days и hours с помощью datetime :)"
      ],
      "metadata": {
        "id": "d6QBt0mPODuI"
      }
    },
    {
      "cell_type": "code",
      "source": [],
      "metadata": {
        "id": "kX12HMc5UW9W"
      },
      "execution_count": null,
      "outputs": []
    },
    {
      "cell_type": "markdown",
      "source": [
        "## Задание 7.\n",
        "\n",
        "Сджойнить таблицы с героями и матчами и выбрать самого лучшего чемпиона (самое больше число побед)"
      ],
      "metadata": {
        "id": "gOXP5rdG6Ryd"
      }
    },
    {
      "cell_type": "code",
      "source": [],
      "metadata": {
        "id": "khncquo3UX3K"
      },
      "execution_count": null,
      "outputs": []
    },
    {
      "cell_type": "markdown",
      "source": [
        "## Задание 8.\n",
        "\n",
        "Поменяйте в таблице с героями все Nan на 0, а затем посчитайте и добавьте индекс \"полезности\" сборки (индекс будем считать как скалярное произведение id итемов на столбец [2, 1, 0] (то есть первый предмет самый нужный, затем второй и только после третий)\n",
        "\n",
        "Добавьте колонку \"coef\" в датасет"
      ],
      "metadata": {
        "id": "qJsU53mX7EjG"
      }
    },
    {
      "cell_type": "code",
      "source": [],
      "metadata": {
        "id": "EnFjJqe5UYzz"
      },
      "execution_count": null,
      "outputs": []
    },
    {
      "cell_type": "markdown",
      "source": [
        "## Задание 9.\n",
        "\n",
        "Посчитать, какие итемы чаще всего используют и как они называются\n",
        "\n",
        "Иногда для того, чтобы выгрузить данные, вам надо будет подгружать json-файлы. Делается это с помощью библиотеки json\n",
        "\n",
        "[Документация](https://docs.python.org/3/library/json.html) \n",
        "\n",
        "Базово, для того, чтобы выгрузить json, нужно использовать load (когда грузим из файла) или loads (если хотим выгрузить из строки)"
      ],
      "metadata": {
        "id": "Z0Xt5MPg7UpM"
      }
    },
    {
      "cell_type": "code",
      "source": [
        "import json\n",
        "\n",
        "with open('items.json') as json_data:\n",
        "    items = json.load(json_data)\n",
        "items = pd.DataFrame(items) # А дальше можно просто запихнуть это в DataFrame, очень удобно!"
      ],
      "metadata": {
        "id": "KuXnxxFUO95_"
      },
      "execution_count": null,
      "outputs": []
    },
    {
      "cell_type": "markdown",
      "source": [
        "Логичнее, наверное, вначале предрасчитать, а потом это просто добавить к item_id!"
      ],
      "metadata": {
        "id": "9F9Fb2guO78s"
      }
    },
    {
      "cell_type": "code",
      "source": [],
      "metadata": {
        "id": "xKUjJROxUaJL"
      },
      "execution_count": null,
      "outputs": []
    },
    {
      "cell_type": "markdown",
      "source": [
        "## Задание 10.\n",
        "\n",
        "Удалите поля со всеми нецелочисленными колонками.\n",
        "\n",
        "Запишите получившийся результат для матчей в matches_new.csv"
      ],
      "metadata": {
        "id": "FgNLPUNrVk39"
      }
    },
    {
      "cell_type": "code",
      "source": [],
      "metadata": {
        "id": "x3qj7etTUbMl"
      },
      "execution_count": null,
      "outputs": []
    },
    {
      "cell_type": "markdown",
      "source": [
        "![Жако](https://petshop-vrn.ru/wp-content/uploads/6/c/a/6ca4dd99334ae553c70fbc4ed4165506.jpeg)"
      ],
      "metadata": {
        "id": "16jPvyffWRlR"
      }
    },
    {
      "cell_type": "markdown",
      "source": [
        "А это Жако, или серый попугай. Считаются самыми умными попугаями в мире, потому что они способны не просто на подражание звуков (как это делают многие попугаи)\n",
        "\n",
        "В 1980-х годах ученая Ирэн Пепперберг проводила исследования по языковому мышлению различных животных, и одним из подопытных был серый попугай по имени Алекс. По результатам эксперимента Алекс мог произносить очень много слов, причем он верно отвечал на вопросы и в целом коммуницировал исходя не из подражания, а из логики. В целом было показано, что у него было мышление, как у шестилетнего ребенка, что стало полным открытием для ученых.\n",
        "\n",
        "Хотя, на самом деле, сравнивать мышление попугаев и людей сложно, потому что мышление животных и не должно быть похожим на человеческое"
      ],
      "metadata": {
        "id": "l7vAW4LpWacC"
      }
    }
  ]
}