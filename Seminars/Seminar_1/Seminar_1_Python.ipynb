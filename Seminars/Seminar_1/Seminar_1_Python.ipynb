{
  "nbformat": 4,
  "nbformat_minor": 0,
  "metadata": {
    "colab": {
      "provenance": [],
      "collapsed_sections": [
        "YZrvaMwvwpw-",
        "KTfGTNljx6MZ",
        "uCg4LIeJnfiJ",
        "jo_zHjSayPp_",
        "pGzAP9eKLD6u",
        "BU8o8XRYKw67",
        "j1tM_VXCyeBo",
        "5H76uMEtyjwk",
        "bu9tGUxbyolH",
        "B2eFoECQ8C1c",
        "9tC9yWI8zOJN",
        "L49SMJvAe0sb",
        "I4OHH8kozCTS",
        "EhgX2qTDzGF4",
        "Kqp9OCAoxjjJ",
        "wEyrKc-ExHEA",
        "lkXArI3a5MVS"
      ]
    },
    "kernelspec": {
      "name": "python3",
      "display_name": "Python 3"
    },
    "language_info": {
      "name": "python"
    }
  },
  "cells": [
    {
      "cell_type": "markdown",
      "source": [
        "# Продвинутый Python, семинар 1\n",
        "\n",
        "Лектор: Петров Тимур\n",
        "\n",
        "Семинаристы: Петров Тимур, Романченко Полина, Коган Александра\n",
        "\n",
        "**Spoiler Alert:** в рамках курса нельзя изучить ни одну из тем от и до досконально (к сожалению, на это требуется больше времени, чем даже 3 часа в неделю). Но мы попробуем рассказать столько, сколько возможно :)"
      ],
      "metadata": {
        "id": "BgbLsOIgdxy9"
      }
    },
    {
      "cell_type": "markdown",
      "source": [
        "## Пререквизиты"
      ],
      "metadata": {
        "id": "YZrvaMwvwpw-"
      }
    },
    {
      "cell_type": "markdown",
      "source": [
        "Что надо сделать для работы:\n",
        "\n",
        "1. Скачать Docker, зарегистрироваться на Docker Hub\n",
        "\n",
        "2. Скачать git (если его у вас вдруг нет)\n",
        "\n",
        "3. Зарегистрироваться на GitHub"
      ],
      "metadata": {
        "id": "4whdOA3QxzMY"
      }
    },
    {
      "cell_type": "markdown",
      "source": [
        "## Bash"
      ],
      "metadata": {
        "id": "dDxSNz5Dd_Jw"
      }
    },
    {
      "cell_type": "markdown",
      "source": [
        "### Основы"
      ],
      "metadata": {
        "id": "KTfGTNljx6MZ"
      }
    },
    {
      "cell_type": "markdown",
      "source": [
        "На первой лекции мы говорили о том, что с помощью командной строки можно осуществлять огромное количество вещей (и даже писать скрипты)!\n",
        "\n",
        "Основные команды, которые точно стоит знать:\n",
        "\n",
        "* ssh - попасть на машинку\n",
        "* cd - навигация по папкам\n",
        "* cp/mv/mkdir/rm - манипуляции с файлами (copy, move, make directory, remove)\n",
        "* ls - посмотреть, что вокруг\n",
        "* cat - превью содержимого\n",
        "* grep - поиск по файлам\n",
        "* echo - вывести содержимое (переменной, строки)\n",
        "* sudo - стать богом\n",
        "* htop - понять, что с ресурсами\n",
        "* kill - убить процесс\n",
        "* chmod - изменить доступы\n",
        "\n",
        "Давайте попробуем вызвать некоторые из этих функций (а также посмотрим на некоторые флаги, которые можно использовать)\n",
        "\n",
        "Важный момент: обращение к терминалу доступно также из Colab (поскольку любой ноутбук выполняется на какой-либо машинке). Чтобы в Colab обратиться через терминал, в начале строки надо написать !\n",
        "\n",
        "Или же запустить терминал просто с помощью !bash"
      ],
      "metadata": {
        "id": "wPcCeL9ngXfx"
      }
    },
    {
      "cell_type": "code",
      "source": [
        "!ls #посмотреть, что лежит вокруг\n",
        "!echo '-----' #добавим разграничитель\n",
        "!ls -l #посмотреть, что вокруг более подробно (причем мы видим явно не все)\n",
        "!echo '-----'\n",
        "!ls -la #посмотреть все, что лежит вокруг (теперь видим все)"
      ],
      "metadata": {
        "id": "FkyxJh3ekAFb"
      },
      "execution_count": null,
      "outputs": []
    },
    {
      "cell_type": "markdown",
      "source": [
        "Можно ли делать несколько запросов за один подход? Конечно можно! С помощью символа ; (он объединяет несколько запросов и делает каждый по очереди)"
      ],
      "metadata": {
        "id": "6J7NiGSqm1bq"
      }
    },
    {
      "cell_type": "code",
      "source": [
        "!mkdir B ; ls -la B #порядок всегда идет как команда-флаги-остальное"
      ],
      "metadata": {
        "id": "i3Vu3FbilSHZ"
      },
      "execution_count": null,
      "outputs": []
    },
    {
      "cell_type": "markdown",
      "source": [
        "И можно даже больше!\n",
        "\n",
        "* \"|\" - объединить команды в один конвейер (то есть взять результат выполнения и перекинуть в качестве аргумента следующей команды)\n",
        "\n",
        "* \">\" - записать значение в файл (при этом если файл существовал, то данные оттуда будут убраны\n",
        "\n",
        "* \">>\" - записать/добавить значений в файл"
      ],
      "metadata": {
        "id": "D8IeDgYSHsFR"
      }
    },
    {
      "cell_type": "code",
      "source": [
        "!date > today.txt; cat today.txt\n",
        "!echo '----'\n",
        "!echo \"Hi\" > today.txt; cat today.txt\n",
        "!echo '----'\n",
        "!date >> today.txt; cat today.txt"
      ],
      "metadata": {
        "id": "cGQc7NbHIIn4"
      },
      "execution_count": null,
      "outputs": []
    },
    {
      "cell_type": "markdown",
      "source": [
        "Для команд cp/mv последовательность идет как:\n",
        "\n",
        "**cp file_1 dir_1** - копировать file_1 в папку dir_1\n",
        "\n",
        "**mv file_1 dir_1** - перемести file_1 в папку dir_1\n",
        "\n",
        "Что важно? Обязательно надо указывать путь к файлу из того места, где вы находитесь. То есть если мы находимся в папке sample_data и хотим перенести файл из другой папки B, то это будет выглядеть как (точка - обозначение места, где мы находимся)\n",
        "\n",
        "```\n",
        "    mv ../B/file.txt .\n",
        "```"
      ],
      "metadata": {
        "id": "fKezFUGmnIc9"
      }
    },
    {
      "cell_type": "markdown",
      "source": [
        "### Задание 1\n",
        "\n",
        "Создать папку \"My directory\", внутри нее создать файл \"Fine.txt\" c текстом \"Hello World!\" и перенести этот файл в папку sample_data и проверить, что мы действительно ее перенесли и удалить этот файл и папку (все в одном запросе)"
      ],
      "metadata": {
        "id": "uCg4LIeJnfiJ"
      }
    },
    {
      "cell_type": "code",
      "source": [
        "## Ответ"
      ],
      "metadata": {
        "id": "foh6npuYlnx2"
      },
      "execution_count": null,
      "outputs": []
    },
    {
      "cell_type": "markdown",
      "source": [
        "![](https://pics.astrologymemes.com/sudo-rm-rf-sudo-dd-if-dev-zero-of-dev-sda-proper-way-49881823.png)"
      ],
      "metadata": {
        "id": "-EASqlkivgKE"
      }
    },
    {
      "cell_type": "markdown",
      "source": [
        "### Продолжаем"
      ],
      "metadata": {
        "id": "jo_zHjSayPp_"
      }
    },
    {
      "cell_type": "markdown",
      "source": [
        "Очевидно, что люди не дураки и написали документацию ко всем командам (их можно посмотреть через man). Причем man - это не только документация по утилитам команд, это также и документация по функциях С"
      ],
      "metadata": {
        "id": "wjt7KhR3jHRo"
      }
    },
    {
      "cell_type": "code",
      "source": [
        "!man -k . | grep printf"
      ],
      "metadata": {
        "id": "8GttksSdJQ8R"
      },
      "execution_count": null,
      "outputs": []
    },
    {
      "cell_type": "code",
      "source": [
        "!man ls"
      ],
      "metadata": {
        "id": "KzOEPx1ZjRux"
      },
      "execution_count": null,
      "outputs": []
    },
    {
      "cell_type": "markdown",
      "source": [
        "Помимо этого есть возможность открыть графические интерфейсы:\n",
        "\n",
        "* nano - более простой\n",
        "\n",
        "* vim - более крутой"
      ],
      "metadata": {
        "id": "WNz1sTgsvtrf"
      }
    },
    {
      "cell_type": "markdown",
      "source": [
        "![мем](https://cdn.devdojo.com/fun/February2018/using-vim.png?w=1280&amp;w=720)"
      ],
      "metadata": {
        "id": "1aeRCYLWwsqz"
      }
    },
    {
      "cell_type": "markdown",
      "source": [
        "И в целом есть огромное число вещей, которые можно узнать с помощью командной строки:"
      ],
      "metadata": {
        "id": "OFNVNSZ7z-aj"
      }
    },
    {
      "cell_type": "code",
      "source": [
        "!hostname -I ##вычислить себя по IP\n",
        "!echo '-----'\n",
        "!cat /etc/*-release ##узнать, что за система"
      ],
      "metadata": {
        "id": "QMVHtFdZ0EQs"
      },
      "execution_count": null,
      "outputs": []
    },
    {
      "cell_type": "markdown",
      "source": [
        "Ну и конечно же grep! Одна из самых популярных команд\n",
        "\n",
        "Про grep мы отдельно поговорим, когда будем обсуждать регулярки"
      ],
      "metadata": {
        "id": "PTvD42_I3p_K"
      }
    },
    {
      "cell_type": "markdown",
      "source": [
        "Есть также глобальные переменные (которые можно также и задавать с помощью $)\n",
        "\n",
        "Часть уже имеющихся глобальных переменных:\n",
        "\n",
        "* $PATH - путь поиска программ\n",
        "\n",
        "* $HOSTNAME - ваш hostname\n",
        "\n",
        "* $HOSTTYPE - архитектура машины\n",
        "\n",
        "* $OSTYPE - тип OS\n",
        "\n",
        "* $SECONDS - время работы скрипта (в секундах)\n",
        "\n",
        "* $HOME - домашний каталог пользователя\n",
        "\n",
        "* $LC_CTYPE - кодировка"
      ],
      "metadata": {
        "id": "W12oqq8zhc7k"
      }
    },
    {
      "cell_type": "code",
      "source": [
        "!echo $HOSTNAME\n",
        "!echo '-----'\n",
        "!echo $HOME"
      ],
      "metadata": {
        "id": "LtupWA-10jbK"
      },
      "execution_count": null,
      "outputs": []
    },
    {
      "cell_type": "markdown",
      "source": [
        "Но самый главный сок всего этого - это, конечно же, написание скриптов! Ведь если вам надо написать что-то сложнее записи строчки в файл или же вам нужно часто запускать один и тот же процесс, вы же не будете это все ручками делать?\n",
        "\n",
        "Вот для того и нужны скрипты!"
      ],
      "metadata": {
        "id": "lT31klSavnEy"
      }
    },
    {
      "cell_type": "markdown",
      "source": [
        "### Как перестать бояться и полюбить ~атомную бомбу~ bash скрипты"
      ],
      "metadata": {
        "id": "pGzAP9eKLD6u"
      }
    },
    {
      "cell_type": "markdown",
      "source": [
        "Первое, что надо понять - а как сделать так, чтобы наш скрипт запустился и отработал? Для начала поняь, а где все-таки bash"
      ],
      "metadata": {
        "id": "5iCCqDlJLyLT"
      }
    },
    {
      "cell_type": "code",
      "source": [
        "!whereis bash"
      ],
      "metadata": {
        "id": "eo7DbSOW1ybw"
      },
      "execution_count": null,
      "outputs": []
    },
    {
      "cell_type": "markdown",
      "source": [
        "Далее мы создаем файл (расширение в целом любое, даже простой txt сойдет, но обычно делаем расширение sh), где в первой строке прописываем, по сути, с помощью чего интерпретировать и выполнять скрипт\n",
        "\n",
        "Это необходимо для того, чтобы вне зависимости от того, на чем вы запускаете код, поведение было одинаковым\n",
        "\n",
        "Делается это с помощью шебанга: #! <интерпретатор>"
      ],
      "metadata": {
        "id": "oQzpQJUQL5PU"
      }
    },
    {
      "cell_type": "markdown",
      "source": [
        "Для того, чтобы осознать, что это стоит делать, давайте попробуем создать файл с расширением txt с кодом на Python и запустить его:"
      ],
      "metadata": {
        "id": "irkcUgWmOiCw"
      }
    },
    {
      "cell_type": "code",
      "source": [
        "!echo \"print('Hello World!')\" > sample.txt\n",
        "!chmod +x sample.txt ##добавляем права на исполнение\n",
        "!./sample.txt"
      ],
      "metadata": {
        "id": "KasNQWmgOseE"
      },
      "execution_count": null,
      "outputs": []
    },
    {
      "cell_type": "markdown",
      "source": [
        "Пытается применить другой интерпретатор (чаще всего по дефолту это bash, но это можно перенастроить) - не получилось, не фартануло\n",
        "\n",
        "Теперь добавим шебанг с интерпретатором Python 3:"
      ],
      "metadata": {
        "id": "hyGF5LnSO2jj"
      }
    },
    {
      "cell_type": "code",
      "source": [
        "!whereis python3"
      ],
      "metadata": {
        "id": "aOKSl58ZPFTj"
      },
      "execution_count": null,
      "outputs": []
    },
    {
      "cell_type": "code",
      "source": [
        "!echo \"#!/usr/bin/python3\" > sample.txt; \n",
        "!echo \"print('Hello World!')\" >> sample.txt\n",
        "!chmod +x sample.txt\n",
        "!./sample.txt"
      ],
      "metadata": {
        "id": "LpVBybDUMOIB"
      },
      "execution_count": null,
      "outputs": []
    },
    {
      "cell_type": "markdown",
      "source": [
        "Ура! Сразу же все получилось, ровно для этого и нужен шебанг - зафиксировать, как интерпретировать (и как видите, код на Python можно даже из txt запустить, хотя казалось бы)\n",
        "\n",
        "Кайф! Давайте попробуем написать простой скрипт, с помощью которого можно узнать, в какой папке находимся и какой мы пользователь\n",
        "\n",
        "Еще одно удобство Colab: код скрипта можно писать в клетке с помощью magic штуки %%shell (если хотите написать скрипт, а потом его сохранить, то надо просто поменять %%shell на %%writefile <название>.sh)"
      ],
      "metadata": {
        "id": "dSRkShqYPJMu"
      }
    },
    {
      "cell_type": "code",
      "source": [
        "%%writefile script.sh\n",
        "\n",
        "#!/bin/bash\n",
        "echo \"The current directory is:\"\n",
        "pwd\n",
        "echo \"The user logged in is:\"\n",
        "whoami"
      ],
      "metadata": {
        "id": "abTSzp2gP2cS"
      },
      "execution_count": null,
      "outputs": []
    },
    {
      "cell_type": "code",
      "source": [
        "!chmod +x script.sh\n",
        "!./script.sh"
      ],
      "metadata": {
        "id": "FpXg0X1TRAdP"
      },
      "execution_count": null,
      "outputs": []
    },
    {
      "cell_type": "markdown",
      "source": [
        "Ура! Написали с вами первый скрипт 🎉🎉🎉\n",
        "\n",
        "Теперь усложним задачу: хотим использовать переменные (а потом еще и аргументы джля скрипта вводить)\n",
        "\n",
        "Есть глобальные переменные (о которых мы уже говорили), а внутри скрипта можно еще передавать аргументы и вводить свои собственные переменные\n",
        "\n",
        "Давайте попробуем вывести домашний каталог и ввести число, прибавить к нему переменную 5 и вывести"
      ],
      "metadata": {
        "id": "r8Gf26o3Qhl1"
      }
    },
    {
      "cell_type": "code",
      "source": [
        "%%writefile script.sh\n",
        "\n",
        "#!/bin/bash\n",
        "echo \"The home directory is: $HOME\"\n",
        "#обращаем внимание, что надо писать в двойных кавычках, если в одинарных - не прочтет\n",
        "v=5\n",
        "# тут нельзя ставить пробелы, иначе bash будет пытаться это воспринять как команду\n",
        "echo \"Adding $v and $1, result $(( $v + $1 ))\" #с помощью $(()) выполняются арифметические операции\n",
        "mydir=$(pwd)\n",
        "# также в качестве переменной можно записать выполнение команды через $()\n",
        "echo \"Our directory: $mydir\"\n",
        "chmod +x $0"
      ],
      "metadata": {
        "id": "KgzJqSKaR2kU"
      },
      "execution_count": null,
      "outputs": []
    },
    {
      "cell_type": "code",
      "source": [
        "!./script.sh 3 ## в скрипте $0 - это параметр-название (script.sh), а $1 - переменная, которую мы подаем на вход"
      ],
      "metadata": {
        "id": "1-blluqtS2Yk"
      },
      "execution_count": null,
      "outputs": []
    },
    {
      "cell_type": "markdown",
      "source": [
        "На самом деле писать внутри скриптов есть неограниченный потенциал с точки зрения программирования:\n",
        "\n",
        "* Создание функций\n",
        "\n",
        "* Ввод и вывод (через известные > и >>, а также ввод через < даже из файла)\n",
        "\n",
        "* Условные операторы и циклы (и continue с break, куда же без слома логики)\n",
        "\n",
        "* Регулярные выражения\n",
        "\n",
        "* Шедулер\n",
        "\n",
        "* И еще кучу всего (полный список даже не войдет)\n",
        "\n",
        "Понятное дело, что вы не будете писать какой-нибудь код, который можно спокойно воспроизвести на Python (а в чем цель курса - показать, что Python может практически все), однако многие вещи, где необходимо взаимодействовать с процессами на машинке, гораздо быстрее осуществить на bash (и по времени это будет явно быстрее, чем в Python, все-таки он медленный), записав скрипт, поставив шедулер на выполнение, если нужно и отправить на машинку, которая будет это делать\n",
        "\n",
        "В качестве реального кейса: отправка e-mail от робота каждый день по списку адресов"
      ],
      "metadata": {
        "id": "DUEGKLTDVIlI"
      }
    },
    {
      "cell_type": "markdown",
      "source": [
        "## Git"
      ],
      "metadata": {
        "id": "CMojOOk0eCU5"
      }
    },
    {
      "cell_type": "markdown",
      "source": [
        "Теперь поговорим про Git. Это вещь, с которой вам придется работать, если вы пользуетесь Guthub/Bitbucket/GitLab (ну или с их аналогами типа Аркадии)\n",
        "\n",
        "В первую очередь git нужен для совместной работы (так разные люди могут делать разные части) и чтобы люди видели, кто какую часть изменил, из-за кого все упало (ну или наоборот стало лучше, тут как повезет)\n",
        "\n"
      ],
      "metadata": {
        "id": "wLZJNMR5vlUE"
      }
    },
    {
      "cell_type": "markdown",
      "source": [
        "###Начнем с основы, так сказать, базы"
      ],
      "metadata": {
        "id": "BU8o8XRYKw67"
      }
    },
    {
      "cell_type": "markdown",
      "source": [
        "Первое, что мы хотим сделать - это создать репозиторий или скачать его откуда-нибудь.\n",
        "\n",
        "Для этого мы делаем:\n",
        "\n",
        "1. Для того, чтобы создать наш репозиторий, внутри папки, где хотим хранить\n",
        "\n",
        "```\n",
        "    git init\n",
        "```\n",
        "\n",
        "2. Для того, чтобы скачать репозиторий, делаем просто\n",
        "\n",
        "```\n",
        "    git clone <url> <dir>\n",
        "    <dir> - опциональный аргумент, если хотите, чтобы папка по-другому называлась\n",
        "```"
      ],
      "metadata": {
        "id": "AKQ_A0DvK8pT"
      }
    },
    {
      "cell_type": "code",
      "source": [
        "!mkdir Deep_Python; cd Deep_Python; ls"
      ],
      "metadata": {
        "id": "od3GO2NKeEHs"
      },
      "execution_count": 1,
      "outputs": []
    },
    {
      "cell_type": "code",
      "source": [
        "!cd Deep_Python; ls; git init"
      ],
      "metadata": {
        "id": "VsNNHFZ8LI-P"
      },
      "execution_count": null,
      "outputs": []
    },
    {
      "cell_type": "code",
      "source": [
        "!git clone https://github.com/Palladain/Deep_Python.git True_Python"
      ],
      "metadata": {
        "id": "6vhOy4otMEAO"
      },
      "execution_count": null,
      "outputs": []
    },
    {
      "cell_type": "code",
      "source": [
        "!ls; cd True_Python; ls -la"
      ],
      "metadata": {
        "id": "VEeWZ6UKMXeh"
      },
      "execution_count": null,
      "outputs": []
    },
    {
      "cell_type": "markdown",
      "source": [
        "Отлично, а что теперь делать? Теперь давайте разберемся, что происходит под капотом и как с этим нам жить\n",
        "\n",
        "Для начала, как хранится репозиторий. Репозиторий - это набор снэпшотов:\n",
        "\n",
        "![snapshots](https://git-scm.com/book/en/v2/images/snapshots.png)\n",
        "\n",
        "Если мы изменили файл, то при снэпшоте запоминаем, что там было. Если не было изменений - то просто делаем ссылку на файл в предыдущем снэпшоте (иначе дорого по памяти)\n",
        "\n",
        "Любой файл имеет 3 состояния:\n",
        "\n",
        "![states](https://git-scm.com/book/en/v2/images/lifecycle.png)\n",
        "\n",
        "Разберемся с каждым по отдельности:\n",
        "\n",
        "* Untracked - файла до этого не было, мы его создали\n",
        "\n",
        "* Unmodified - в последней версии он был, но мы его никак не меняли\n",
        "\n",
        "* Modified - в последней версии он был, но мы его изменили\n",
        "\n",
        "Для того, чтобы сохранить изменения (сделать снэпшот репозитория), необходимо добавить все эти изменения в новую версию перед тем, как сделать снэпшот (иными словами, показать, что надо сохранить новую версию)\n",
        "\n",
        "Благо, что можно посмотреть, что мы меняли и что стоит добавить:"
      ],
      "metadata": {
        "id": "8Q7_F964M1ta"
      }
    },
    {
      "cell_type": "code",
      "source": [
        "!cd Deep_Python; git status"
      ],
      "metadata": {
        "id": "arO7e-nFPepn"
      },
      "execution_count": null,
      "outputs": []
    },
    {
      "cell_type": "markdown",
      "source": [
        "Добавим новый файл:"
      ],
      "metadata": {
        "id": "JIIObJDePnX_"
      }
    },
    {
      "cell_type": "code",
      "source": [
        "!cd Deep_Python; echo \"Hello world!\" >> Hello.txt; git status"
      ],
      "metadata": {
        "id": "fdoj3QyzPsWC"
      },
      "execution_count": null,
      "outputs": []
    },
    {
      "cell_type": "markdown",
      "source": [
        "Ага, значит надо добавить. Изменяем (если надо) с помощью\n",
        "\n",
        "```\n",
        " git add\n",
        " git rm - удалить \n",
        " git mv - перенести (если расширение поменяли, например)\n",
        "```"
      ],
      "metadata": {
        "id": "2fk0AwIOP1GH"
      }
    },
    {
      "cell_type": "code",
      "source": [
        "!cd Deep_Python; git add Hello.txt; git status"
      ],
      "metadata": {
        "colab": {
          "base_uri": "https://localhost:8080/"
        },
        "id": "amYshoh1P54o",
        "outputId": "ce3a367e-9b4f-40e7-ad3a-698382362956"
      },
      "execution_count": 7,
      "outputs": [
        {
          "output_type": "stream",
          "name": "stdout",
          "text": [
            "On branch master\n",
            "\n",
            "No commits yet\n",
            "\n",
            "Changes to be committed:\n",
            "  (use \"git rm --cached <file>...\" to unstage)\n",
            "\n",
            "\t\u001b[32mnew file:   Hello.txt\u001b[m\n",
            "\n"
          ]
        }
      ]
    },
    {
      "cell_type": "markdown",
      "source": [
        "Можно также смотреть изменения по файлам (что поменяли по сравнению с текущей версией):"
      ],
      "metadata": {
        "id": "wdtyDVIGQA-v"
      }
    },
    {
      "cell_type": "code",
      "source": [
        "!cd Deep_Python; echo \"ahah\" >> Hello.txt\n",
        "!cd Deep_Python; git diff; git add Hello.txt\n",
        "!cd Deep_Python; git diff --staged ##сравним изменения просто с последним коммитом (на данный момент с пустотой)"
      ],
      "metadata": {
        "colab": {
          "base_uri": "https://localhost:8080/"
        },
        "id": "e9Zok8fwQGXY",
        "outputId": "f92d0b14-00c1-40db-8257-c0864d07575e"
      },
      "execution_count": 8,
      "outputs": [
        {
          "output_type": "stream",
          "name": "stdout",
          "text": [
            "\u001b[1mdiff --git a/Hello.txt b/Hello.txt\u001b[m\n",
            "\u001b[1mindex cd08755..b6b4373 100644\u001b[m\n",
            "\u001b[1m--- a/Hello.txt\u001b[m\n",
            "\u001b[1m+++ b/Hello.txt\u001b[m\n",
            "\u001b[36m@@ -1 +1,2 @@\u001b[m\n",
            " Hello world!\u001b[m\n",
            "\u001b[32m+\u001b[m\u001b[32mahah\u001b[m\n",
            "\u001b[1mdiff --git a/Hello.txt b/Hello.txt\u001b[m\n",
            "\u001b[1mnew file mode 100644\u001b[m\n",
            "\u001b[1mindex 0000000..b6b4373\u001b[m\n",
            "\u001b[1m--- /dev/null\u001b[m\n",
            "\u001b[1m+++ b/Hello.txt\u001b[m\n",
            "\u001b[36m@@ -0,0 +1,2 @@\u001b[m\n",
            "\u001b[32m+\u001b[m\u001b[32mHello world!\u001b[m\n",
            "\u001b[32m+\u001b[m\u001b[32mahah\u001b[m\n"
          ]
        }
      ]
    },
    {
      "cell_type": "markdown",
      "source": [
        "### Делаем коммиты"
      ],
      "metadata": {
        "id": "j1tM_VXCyeBo"
      }
    },
    {
      "cell_type": "markdown",
      "source": [
        "Ура, можем делать коммит! Делается просто и незатейливо с помощью комманды\n",
        "\n",
        "```\n",
        "git commit\n",
        "```"
      ],
      "metadata": {
        "id": "m6r9kRghSCa9"
      }
    },
    {
      "cell_type": "code",
      "source": [
        "!cd Deep_Python; git config user.email \"you@example.com\"\n",
        "!cd Deep_Python; git config user.name \"Your Name\"\n",
        "!cd Deep_Python; git commit -m \"First version\" ##-m - добавить сообщения к коммиту"
      ],
      "metadata": {
        "colab": {
          "base_uri": "https://localhost:8080/"
        },
        "id": "EKVJ5OLuSKil",
        "outputId": "c778eef8-8f70-4d7b-b59d-04605ddab256"
      },
      "execution_count": 9,
      "outputs": [
        {
          "output_type": "stream",
          "name": "stdout",
          "text": [
            "[master (root-commit) 6bf4ac9] First version\n",
            " 1 file changed, 2 insertions(+)\n",
            " create mode 100644 Hello.txt\n"
          ]
        }
      ]
    },
    {
      "cell_type": "markdown",
      "source": [
        "Но люди не идиоты, чтобы постоянно руками все добавлять, верно ведь? Для этого есть в commit флаг -a (добавь все изменения, но только для tracked файлов)"
      ],
      "metadata": {
        "id": "nAPtgdsnStPg"
      }
    },
    {
      "cell_type": "code",
      "source": [
        "!cd Deep_Python; echo \"New_version\" >> Hello.txt\n",
        "!cd Deep_Python; git commit -a -m \"Second version\""
      ],
      "metadata": {
        "colab": {
          "base_uri": "https://localhost:8080/"
        },
        "id": "iIfa4ToYS8sK",
        "outputId": "a4cdbe10-a6cf-4c6a-90bc-fee1f3cce304"
      },
      "execution_count": 10,
      "outputs": [
        {
          "output_type": "stream",
          "name": "stdout",
          "text": [
            "[master 6ca26ba] Second version\n",
            " 1 file changed, 1 insertion(+)\n"
          ]
        }
      ]
    },
    {
      "cell_type": "code",
      "source": [
        "!cd Deep_Python; echo \"New_version\" >> Hello_new.txt\n",
        "!cd Deep_Python; git commit -a -m \"Third version\""
      ],
      "metadata": {
        "colab": {
          "base_uri": "https://localhost:8080/"
        },
        "id": "KetPr2CqTxFX",
        "outputId": "99652d73-00ab-480e-9b42-3268a3999095"
      },
      "execution_count": 11,
      "outputs": [
        {
          "output_type": "stream",
          "name": "stdout",
          "text": [
            "On branch master\n",
            "Untracked files:\n",
            "\t\u001b[31mHello_new.txt\u001b[m\n",
            "\n",
            "nothing added to commit but untracked files present\n"
          ]
        }
      ]
    },
    {
      "cell_type": "markdown",
      "source": [
        "Можем также посмотреть историю всего того, что произошло:"
      ],
      "metadata": {
        "id": "0pBFtXfGVclY"
      }
    },
    {
      "cell_type": "code",
      "source": [
        "!cd Deep_Python; git log --pretty=oneline ##флаг, чтобы не видеть детально всю историю, а сократить ее до самого важного (можно кастомизировать)"
      ],
      "metadata": {
        "id": "oXyGVe6SUaQH"
      },
      "execution_count": null,
      "outputs": []
    },
    {
      "cell_type": "code",
      "source": [
        "!cd Deep_Python; git log --pretty=oneline --graph ##добавить граф изменений (но у нас нет ветвей пока что)"
      ],
      "metadata": {
        "id": "jGWH6PVGWD4x"
      },
      "execution_count": null,
      "outputs": []
    },
    {
      "cell_type": "markdown",
      "source": [
        "Ура, разобрались как делать коммиты. А допустим, что мы сделали плохой коммит (или что-то забыли), можно ли откатить плиз?\n",
        "\n",
        "Конечно можно!"
      ],
      "metadata": {
        "id": "TwefKt-enV5G"
      }
    },
    {
      "cell_type": "code",
      "source": [
        "!cd Deep_Python; echo \"Я больше не дединсайд\" >> no_death.txt #забыли добавить важную информацию\n",
        "!cd Deep_Python; git add * #добавить все\n",
        "!cd Deep_Python; git commit --amend -m \"Third version\" #переписать последний коммит\n",
        "!cd Deep_Python; git log --pretty=oneline --graph # проверяем"
      ],
      "metadata": {
        "id": "C2ZQ8eBoniou"
      },
      "execution_count": null,
      "outputs": []
    },
    {
      "cell_type": "markdown",
      "source": [
        "А если мы что-то не хотим добавлять (а уже добавили) или же мы хотим, чтобы изменения в файле не были записаны? На это тоже есть команда, само собой:\n",
        "\n",
        "```\n",
        "git reset HEAD <your file> - убираем из staging\n",
        "```"
      ],
      "metadata": {
        "id": "PlXPJagqpjy2"
      }
    },
    {
      "cell_type": "code",
      "source": [
        "!cd Deep_Python; echo \"Я дединсайд\" > death.txt\n",
        "!cd Deep_Python; echo \"Once again Hello world\" >> Hello.txt\n",
        "!cd Deep_Python; echo \"Once again Hello world\" >> Hello_new.txt\n",
        "!cd Deep_Python; git diff; echo '-----'; git status; echo '-----'; git add *"
      ],
      "metadata": {
        "id": "fNXAUjtoqEXU"
      },
      "execution_count": null,
      "outputs": []
    },
    {
      "cell_type": "code",
      "source": [
        "!cd Deep_Python; git reset HEAD death.txt; git status; echo '------'\n",
        "!cd Deep_Python; git reset HEAD Hello.txt; git diff\n",
        "!cd Deep_Python; git commit -m \"Fourth version\""
      ],
      "metadata": {
        "id": "DBhxuxTwqgQY"
      },
      "execution_count": null,
      "outputs": []
    },
    {
      "cell_type": "code",
      "source": [
        "!cd Deep_Python; git diff;"
      ],
      "metadata": {
        "id": "Ts28TnGGq4rx"
      },
      "execution_count": null,
      "outputs": []
    },
    {
      "cell_type": "markdown",
      "source": [
        "### Хвастаемся результатом с командой"
      ],
      "metadata": {
        "id": "5H76uMEtyjwk"
      }
    },
    {
      "cell_type": "markdown",
      "source": [
        "Поменяли что-то - хотим теперь отправить. Делаем с помощью\n",
        "\n",
        "```\n",
        "    git push\n",
        "    git pull\n",
        "```"
      ],
      "metadata": {
        "id": "BtJOIfJBvvj0"
      }
    },
    {
      "cell_type": "code",
      "source": [
        "!cd True_Python; git remote -v #смотрим, какие репозитории у нас тут привязаны\n",
        "# а если будет несколько репозиториев? Тогда можно непосредственно добавить связь через\n",
        "# git remote add <name> <url> - можно пушить через git push <name>\n",
        "!cd True_Python; git remote show origin #смотрим, куда пойдет pull, а куда пойдет push"
      ],
      "metadata": {
        "id": "ggk3MdBwv8nu"
      },
      "execution_count": null,
      "outputs": []
    },
    {
      "cell_type": "markdown",
      "source": [
        "В чем разница между pull и push:\n",
        "\n",
        "* git push - закомить наши изменения, но при этом, если кто-то сделал изменения до этого, то при подтверждении push все, что сделал другой, будет убито (поговорим об этом при ветвлении)\n",
        "\n",
        "* git pull - комбинация git fetch и git merge, то есть достань все изменения и сделай слияние (то есть получи актуальную информацию, что кто-то сделал изменения и после этого попробуй сделать слияние, добавляя ветвь)"
      ],
      "metadata": {
        "id": "CpG4M4LCx60c"
      }
    },
    {
      "cell_type": "code",
      "source": [
        "!cd True_Python; git fetch origin # хотим получить все обновления, но их пока нет\n",
        "# !cd True_Python; git push origin master # если мы одни работаем\n",
        "# !cd True_Python; git pull origin master # если бывают разные изменения, и только потомможно делать push\n",
        "# !cd True_Python; git remote remove origin # если мы решили отвязаться от удаленного доступа по какой-то причине"
      ],
      "metadata": {
        "id": "fwdaJTycwwXQ"
      },
      "execution_count": null,
      "outputs": []
    },
    {
      "cell_type": "markdown",
      "source": [
        "### Ветвимся"
      ],
      "metadata": {
        "id": "bu9tGUxbyolH"
      }
    },
    {
      "cell_type": "markdown",
      "source": [
        "![](https://javarush.ru/images/article/4f84c6fd-841e-40e8-8914-e2064440225c/800.jpeg)"
      ],
      "metadata": {
        "id": "JSHu96Zvyx8T"
      }
    },
    {
      "cell_type": "markdown",
      "source": [
        "А теперь про ветвления (раз заговорили о командной работе)\n",
        "\n",
        "Допустим, мы хотим сделать некоторое ответвление и создать новую версию для нашей работы. Делается это с помощью\n",
        "\n",
        "```\n",
        "git branch <name>\n",
        "git checkout -b <name> - создать ветвь и сразу переключиться на нее\n",
        "```\n",
        "\n",
        "Тогда создается новая ветвь, внутри которой можно делать изменения (изначально она будет там же, где и main)"
      ],
      "metadata": {
        "id": "KHtwqTh4WNHi"
      }
    },
    {
      "cell_type": "code",
      "source": [
        "!cd Deep_Python; git branch test"
      ],
      "metadata": {
        "id": "WMBcRTZ73Fkc"
      },
      "execution_count": 75,
      "outputs": []
    },
    {
      "cell_type": "code",
      "source": [
        "!cd Deep_Python; git log --oneline --decorate"
      ],
      "metadata": {
        "id": "7BqC6S273ST8"
      },
      "execution_count": null,
      "outputs": []
    },
    {
      "cell_type": "markdown",
      "source": [
        "Чтобы перейти на другую ветвь, используем:\n",
        "\n",
        "```\n",
        "git checkout <name>\n",
        "```"
      ],
      "metadata": {
        "id": "xHzImA6h3b1F"
      }
    },
    {
      "cell_type": "code",
      "source": [
        "!cd Deep_Python; git checkout test #теперь изменения и коммиты будут идти на test\n",
        "!cd Deep_Python; git add *; git commit -m \"new branch\""
      ],
      "metadata": {
        "id": "sP-fRb4l3hny"
      },
      "execution_count": null,
      "outputs": []
    },
    {
      "cell_type": "code",
      "source": [
        "!cd Deep_Python; git log --oneline --decorate --graph #теперь master и test смотрят на разные снэпшоты"
      ],
      "metadata": {
        "id": "MqJSfF9N326G"
      },
      "execution_count": null,
      "outputs": []
    },
    {
      "cell_type": "code",
      "source": [
        "!cd Deep_Python; git checkout master; echo 'mmm' > Food.txt; git add Food.txt; git commit -m \"master branch\""
      ],
      "metadata": {
        "id": "dDGodTeN4HrT"
      },
      "execution_count": null,
      "outputs": []
    },
    {
      "cell_type": "code",
      "source": [
        "!cd Deep_Python; git log --all --oneline --decorate --graph # Опа, дерево"
      ],
      "metadata": {
        "id": "BLenGBEK4W-5"
      },
      "execution_count": null,
      "outputs": []
    },
    {
      "cell_type": "code",
      "source": [
        "!cd Deep_Python; git merge test; git commit -m \"Merging\""
      ],
      "metadata": {
        "id": "tA0NVBDz5RPj"
      },
      "execution_count": null,
      "outputs": []
    },
    {
      "cell_type": "code",
      "source": [
        "!cd Deep_Python; git commit -m \"Merging\""
      ],
      "metadata": {
        "id": "vh2vraWm568L"
      },
      "execution_count": null,
      "outputs": []
    },
    {
      "cell_type": "code",
      "source": [
        "!cd Deep_Python; git log --all --oneline --decorate --graph # Опа, дерево"
      ],
      "metadata": {
        "id": "pCSvoqzD6D44"
      },
      "execution_count": null,
      "outputs": []
    },
    {
      "cell_type": "code",
      "source": [
        "!cd Deep_Python; git branch -v --merged ##-v - показать все ветки с последним коммитом, --merged - показать слитые ветки\n",
        "!cd Deep_Python; git branch -d test #удаляем ссылку ветку test, без merge не даст удалить\n",
        "#!git push origin --delete master #удаляем ветвь из репозитория, потому что она не нужна\n"
      ],
      "metadata": {
        "id": "muoszhDR6YDt"
      },
      "execution_count": null,
      "outputs": []
    },
    {
      "cell_type": "markdown",
      "source": [
        "### Задание 2 (на дом, до пн)"
      ],
      "metadata": {
        "id": "B2eFoECQ8C1c"
      }
    },
    {
      "cell_type": "markdown",
      "source": [
        "В репозитории нашего курса есть папка Seminars/Seminar_1/test_git. Внутри него есть файл Hello.txt, в котором написан текст. Ваша задача:\n",
        "\n",
        "1. Загрузить репозиторий и создать отдельную ветвь по названию своего ника в Github\n",
        "\n",
        "2. Добавить туда еще одно предложение (какое угодно)\n",
        "\n",
        "3. Закоммитить и сделать pull request этой ветви\n",
        "\n",
        "4. Лучшие варианты я отберу и солью в общий итог, а товарищи за это получат небольшой подарок :)"
      ],
      "metadata": {
        "id": "x08Hcx_Jy7wj"
      }
    },
    {
      "cell_type": "markdown",
      "source": [
        "Как в гитхабе сделать свой собственный коммит, чтобы он попал на pull request?\n",
        "\n",
        "Так как у вас нет доступа на изменение к основному репозиторию (что логично, лол), то необходимо сделать fork проекта (создать, по сути, копию репозитория у себя на дому), делаете свою работу внутри, коммитите, и делаем pull request [Тык](https://docs.github.com/en/pull-requests/collaborating-with-pull-requests/proposing-changes-to-your-work-with-pull-requests/creating-a-pull-request)"
      ],
      "metadata": {
        "id": "sMN4ele2zgMb"
      }
    },
    {
      "cell_type": "markdown",
      "source": [
        "## Docker"
      ],
      "metadata": {
        "id": "RYqKKu6ZeET0"
      }
    },
    {
      "cell_type": "markdown",
      "source": [
        "### Но... зачем?"
      ],
      "metadata": {
        "id": "9tC9yWI8zOJN"
      }
    },
    {
      "cell_type": "markdown",
      "source": [
        "Теперь мы перешли к самой сложной части - про докер.\n",
        "\n",
        "Что такое докер? Представьте себе ситуацию: у вас есть приложение, которое вы хотите запустить и показать всему миру, какие вы классные. Что делать?\n",
        "\n",
        "Можно, конечно, создать виртуалку, на нее накинуть приложение и там все делать. Но в какой-то момент вам придется класть туда несколько приложений и дальше начинается катавасия с загруженностью процесса. В какой-то момент одно приложение может стрельнуть (например, если у вас отдельное приложение для новостей, куда зайдет сразу дофига людей), сожрет все процессы и остальные части будут страдать. А еще же люди заходят с разными ОС, и надо конфигурации разные иметь, чтобы у всех все работало. Вот для этих вещей и есть контейнеры\n",
        "\n",
        "Что такое контейнер? Это способ стандартизации развертки приложения и отделения его от общей инфраструктуры. Экземпляр приложения запускается в изолированной среде, не влияющей на основную операционную систему\n",
        "\n",
        "\n",
        "![](https://d1.awsstatic.com/Developer%20Marketing/containers/monolith_2-VM-vs-Containers.78f841efba175556d82f64d1779eb8b725de398d.png)\n",
        "\n",
        "Контейнер позволяют:\n",
        "\n",
        "1. упаковать в единый образ приложение и все его зависимости: библиотеки, системные утилиты и файлы настройки. Это упрощает перенос приложения на другую инфраструктуру\n",
        "\n",
        "2. приложения работают только внутри контейнеров и не имеют доступа к основной операционной системе. Это повышает безопасность приложений:они не смогут случайно или умышленно навредить основной системе. Если приложение в контейнере завершится с ошибкой или зависнет, это никак не затронет основную ОС (изоляция ресурсов)\n",
        "\n",
        "3. избавляет от зависимости ОС: достаточно добавить необходимую конфигурацию в контейнер вместо процесса эмулирования одной ОС на другой (что трудозатратно)\n",
        "\n",
        "4. За счет оптимизации контейнеров получаем также меньшую загрузку"
      ],
      "metadata": {
        "id": "VHE-VD0t9Kgz"
      }
    },
    {
      "cell_type": "markdown",
      "source": [
        "### Ну что же, начнем"
      ],
      "metadata": {
        "id": "L49SMJvAe0sb"
      }
    },
    {
      "cell_type": "markdown",
      "source": [
        "Первое, что надо сделать - это загрузить образ из Docker Hub. Образ (Image) - это схема нашего приложения, основа контейнера, с помощью которого его можно запустить. Все возможные образы хранятся [здесь](https://hub.docker.com/search?q=&type=image) (можно будет добавить сюда же и свои образы, которые вам необходимы)\n",
        "\n",
        "Загрузим самый простой образ - busybox (дальше будет работа в терминале, а не в Колабе)"
      ],
      "metadata": {
        "id": "fpUKlp1ne29e"
      }
    },
    {
      "cell_type": "code",
      "source": [
        "docker pull busybox # загрузи образ busybox, если Permission denied, то запустите с sudo\n",
        "docker images # посмотреть на все загруженные образы\n",
        "docker rmi busybox # удалить образ"
      ],
      "metadata": {
        "id": "cte-Y0V7eGks"
      },
      "execution_count": null,
      "outputs": []
    },
    {
      "cell_type": "markdown",
      "source": [
        "Отлично, загрузили, давайте запускать!"
      ],
      "metadata": {
        "id": "5GOlBl0kf-Jb"
      }
    },
    {
      "cell_type": "code",
      "source": [
        "docker run busybox # ничего не случилось, потому что мы ничего и не задали\n",
        "docker run busybox echo \"Hello\" # о, что-то выдал\n",
        "docker ps # посмотреть запущенные контейнеры (их пока нет, потому что прошлые кончились)\n",
        "docker ps -a # посмотреть все контейнеры\n",
        "docker run -it busybox sh #запустить на больше, чем 1 команду (-it - флаг интерактива)"
      ],
      "metadata": {
        "id": "dW_LXIZThi8S"
      },
      "execution_count": null,
      "outputs": []
    },
    {
      "cell_type": "markdown",
      "source": [
        "Все запушенные и кончившиеся контейнеры занимают место, поэтому их еще стоит удалять (как минимум те, которые завершили свое действие)"
      ],
      "metadata": {
        "id": "jN4bg8MkiT1d"
      }
    },
    {
      "cell_type": "code",
      "source": [
        "docker rm <ids> # удалить все ненужные контейнеры\n",
        "docker rm $(docker ps -a -q -f status=exited) # чтобы не копировать все id\n",
        "# -a все контейнеры, -q  - вывести только ID, -f - фильтр (на статус закончившися exited)"
      ],
      "metadata": {
        "id": "YX5ZClgDicMC"
      },
      "execution_count": null,
      "outputs": []
    },
    {
      "cell_type": "markdown",
      "source": [
        "Обратите внимание сверху на значок Docker (MacOS). Видим, что Docker работает. Что это значит? Что у нас запушен процесс, с помощью которого это все вообще происходит (так называемый Docker Daemon)"
      ],
      "metadata": {
        "id": "1WT-HeUNjB4W"
      }
    },
    {
      "cell_type": "markdown",
      "source": [
        "### Запустим сайт из под капота"
      ],
      "metadata": {
        "id": "I4OHH8kozCTS"
      }
    },
    {
      "cell_type": "markdown",
      "source": [
        "Окей, повеселились с каким-то образом. Как приложения-то запускать? Давайте попробуем запустить какой-нибудь более интересный образ"
      ],
      "metadata": {
        "id": "xtbsVg98jYiB"
      }
    },
    {
      "cell_type": "code",
      "source": [
        "docker pull prakhar1989/static-site\n",
        "docker run prakhar1989/static-site #ничего не происходит, видим просто что is running\n",
        "docker stop $(docker ps -a -q -f status=running) #выключаем все активные контейнеры\n",
        "docker run -d -P --name static-site prakhar1989/static-site #давайте сделаем так:\n",
        "# -d - открепляем наш терминал от контейнера(не будет прикреплен, можем продолжить работу в терминале)\n",
        "# -P - сделаем порты открытыми и публичными, чтобы подключиться\n",
        "# --name переименуем для удоства в static-site\n",
        "docker port static-site #смотрим на порты, открываем на localhost:<порт>"
      ],
      "metadata": {
        "id": "6OUIrOl6jXyc"
      },
      "execution_count": null,
      "outputs": []
    },
    {
      "cell_type": "markdown",
      "source": [
        "Ура, запустили простенький сайт! А если поменять порт? Можно"
      ],
      "metadata": {
        "id": "1HME4SyAlSFG"
      }
    },
    {
      "cell_type": "code",
      "source": [
        "docker run -d -P -p 8888:80 prakhar1989/static-site --name static-site prakhar1989/static-site #теперь он на порту 8888\n",
        "# окей, остановим все и удалим"
      ],
      "metadata": {
        "id": "_PMzMh7VlawV"
      },
      "execution_count": null,
      "outputs": []
    },
    {
      "cell_type": "markdown",
      "source": [
        "### Хотим быть крутыми со своим образом!"
      ],
      "metadata": {
        "id": "EhgX2qTDzGF4"
      }
    },
    {
      "cell_type": "markdown",
      "source": [
        "Теперь хотим создать свой собственный образ и сделать еще интереснее. Образы делятся на 2 типа:\n",
        "\n",
        "* Официальные образы - поддерживаются командой docker, скачать можно по названию (например, docker pull python)\n",
        "\n",
        "* Неофициальные образы - образ, созданный пользователем, чаще всего выглядит как user/name"
      ],
      "metadata": {
        "id": "T1pC2sMgoXb2"
      }
    },
    {
      "cell_type": "markdown",
      "source": [
        "Скачаем простенький сайт, сделанный на Flask (о нем мы будет говорить в других семинарах) и запустим его локально"
      ],
      "metadata": {
        "id": "2g_LyDA-qoiR"
      }
    },
    {
      "cell_type": "code",
      "source": [
        "git clone https://github.com/prakhar1989/docker-curriculum.git #скачаем для простого приложения на Flask (о нем мы будет говорить в других семинарах)\n",
        "cd docker-curriculum/flask-app; pip install -r requirements.txt #установим все, что нужно для сайта\n",
        "vim app.py #для того, чтобы у меня запустилась, так как порт 5000 у меня занят, я поменял в коде на 8888\n",
        "python app.py"
      ],
      "metadata": {
        "id": "BieoVS1UpG7w"
      },
      "execution_count": null,
      "outputs": []
    },
    {
      "cell_type": "markdown",
      "source": [
        "Получилось! Теперь создадим образ с этим приложением. Что нужно?\n",
        "\n",
        "Так как сайт написан на Python, то надо скачать базовый образ python"
      ],
      "metadata": {
        "id": "fKmxqUANqx5t"
      }
    },
    {
      "cell_type": "code",
      "source": [
        "docker pull python:3-onbuild #Какой onbuild, це шо? Это надстройка при запуске возьмет на requirements.txt и установит за нас все, что нужно\n",
        "# То есть такой помощник при запуске"
      ],
      "metadata": {
        "id": "SIQifsR2q_lV"
      },
      "execution_count": null,
      "outputs": []
    },
    {
      "cell_type": "markdown",
      "source": [
        "Теперь надо как-то соединить приложение и образ. Это делается с помощью DockerFile - текстовый документ для автоматизации сборки (код для DockerFile почти идентичен аналогам bash)\n",
        "\n",
        "Создаем там же, где и наше приложение файл Dockerfile и прописываем:"
      ],
      "metadata": {
        "id": "C1gCamwvrlia"
      }
    },
    {
      "cell_type": "code",
      "source": [
        "vim Dockerfile"
      ],
      "metadata": {
        "id": "1GhIiSYQsOLx"
      },
      "execution_count": null,
      "outputs": []
    },
    {
      "cell_type": "code",
      "source": [
        "FROM python:3-onbuild #указываем образ, который надо использовать\n",
        "\n",
        "#благодаря тому, что у нас onbuild, нам не надо копировать файлы и устанавливать зависимости здесь\n",
        "\n",
        "EXPOSE 8888 #говорим, на какой порт это все отправлять\n",
        "\n",
        "CMD [\"python\", \"./app.py\"] # команды для запуска (то есть что надо сделать)"
      ],
      "metadata": {
        "id": "t6NghDySsT4U"
      },
      "execution_count": null,
      "outputs": []
    },
    {
      "cell_type": "markdown",
      "source": [
        "Осталось собрать образ через docker build:"
      ],
      "metadata": {
        "id": "1YXybSwZszSf"
      }
    },
    {
      "cell_type": "code",
      "source": [
        "docker build -t palladain7/catgif . #здесь надо зарегаться на Docker Hub (это быстро) и в качестве user ввести свой ник\n",
        "docker run -p 8888:8888 palladain/catgif #собрали-запустили\n",
        "docker images #проверяем образ"
      ],
      "metadata": {
        "id": "7ISTmHENs2d3"
      },
      "execution_count": null,
      "outputs": []
    },
    {
      "cell_type": "markdown",
      "source": [
        "Ура, мы собрали образ докера! Теперь осталось его загрузить на Docker Hub, чтобы его могли увидеть все и использовать)"
      ],
      "metadata": {
        "id": "wmlMnMKpvJaR"
      }
    },
    {
      "cell_type": "code",
      "source": [
        "docker login #вначале надо авторизоваться\n",
        "docker push palladain7/catgif #пушим\n",
        "https://hub.docker.com/r/palladain7/catgif/ - проверяем, успех"
      ],
      "metadata": {
        "id": "xm-qlptCvhRs"
      },
      "execution_count": null,
      "outputs": []
    },
    {
      "cell_type": "markdown",
      "source": [
        "### Задание 3\n"
      ],
      "metadata": {
        "id": "Kqp9OCAoxjjJ"
      }
    },
    {
      "cell_type": "markdown",
      "source": [
        "Проделать весь этот путь от создания и до публикации собственного образа"
      ],
      "metadata": {
        "id": "IWG6otHr0q7G"
      }
    },
    {
      "cell_type": "markdown",
      "source": [
        "## Итоги\n",
        "\n",
        "Сегодня мы с вами поговорили про bash, git и docker. Это такой технический минимум, который мы будем постоянно использовать в нашей работе, когда речь зайдет о других темах, так что полезно об этом знать и применять (тем более, что это такой минимум на должности разраба и частично аналитиков)\n",
        "\n",
        "Про более детальные вещи мы будем с вами говорить на следующих семинарах, когда нам это будет необходимо"
      ],
      "metadata": {
        "id": "wEyrKc-ExHEA"
      }
    },
    {
      "cell_type": "markdown",
      "source": [
        "![Неразлучник](https://lookw.ru/9/992/1566945475-1-14.jpg)"
      ],
      "metadata": {
        "id": "9wpQQEG203bf"
      }
    },
    {
      "cell_type": "markdown",
      "source": [
        "А это неразлучник. Его так назвали, потому что когда европейцы их впервые увидели, они видели их постоянно в паре, как будто они друг с другом не разлучаются. И хотя они формируют долгие моногамные связи, они разлучаются друг с другом"
      ],
      "metadata": {
        "id": "U38I-ZkE1BzO"
      }
    },
    {
      "cell_type": "markdown",
      "source": [
        "## Полезные ссылки"
      ],
      "metadata": {
        "id": "lkXArI3a5MVS"
      }
    },
    {
      "cell_type": "markdown",
      "source": [
        "* https://linuxhint.com/3hr_bash_tutorial/ - полноценный курс по bash и скрипты (рекомендуется ознакомиться)\n",
        "\n",
        "* https://habr.com/ru/post/267825/ - ссылка на пост, где рассказывается самое основное в Bash\n",
        "\n",
        "* https://git-scm.com/book/en/v2 - полный мануал по Гиту (он небольшой, почитайте)\n",
        "\n",
        "* https://docker-curriculum.com/ - отличная статья-введение по Докеру (на ее основе написана часть семинара про Docker)\n"
      ],
      "metadata": {
        "id": "Kb58fEE35PAm"
      }
    }
  ]
}