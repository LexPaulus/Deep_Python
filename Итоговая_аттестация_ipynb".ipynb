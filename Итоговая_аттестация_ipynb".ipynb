{
  "nbformat": 4,
  "nbformat_minor": 0,
  "metadata": {
    "colab": {
      "provenance": [],
      "include_colab_link": true
    },
    "kernelspec": {
      "name": "python3",
      "display_name": "Python 3"
    },
    "language_info": {
      "name": "python"
    }
  },
  "cells": [
    {
      "cell_type": "markdown",
      "metadata": {
        "id": "view-in-github",
        "colab_type": "text"
      },
      "source": [
        "<a href=\"https://colab.research.google.com/github/LexPaulus/Deep_Python/blob/main/%D0%98%D1%82%D0%BE%D0%B3%D0%BE%D0%B2%D0%B0%D1%8F_%D0%B0%D1%82%D1%82%D0%B5%D1%81%D1%82%D0%B0%D1%86%D0%B8%D1%8F_ipynb%22.ipynb\" target=\"_parent\"><img src=\"https://colab.research.google.com/assets/colab-badge.svg\" alt=\"Open In Colab\"/></a>"
      ]
    },
    {
      "cell_type": "markdown",
      "metadata": {
        "id": "1zQr-DRYOJUN"
      },
      "source": [
        "## Введение. Постановка целей и задач."
      ]
    },
    {
      "cell_type": "markdown",
      "metadata": {
        "id": "yV73bSO2OJR7"
      },
      "source": [
        "**Цель** исследования - прогноз цены открытия на основании исторических данных\n",
        "\n",
        "**Задачи** исследования: \n",
        "- Исследование данных;\n",
        "- Построение модели;\n",
        "- Обучение модели SARIMAX;\n",
        "- Создание прогноза;\n",
        "- Сравнение прогноза и предсказания; \n",
        "- Расчет качества полученной модели и прогноза при помощи метрик качества;\n",
        "- Анализ выводов по прогнозу.\n"
      ]
    },
    {
      "cell_type": "markdown",
      "metadata": {
        "id": "fsEnvXWXUe2z"
      },
      "source": [
        "### Импорт Датафрейма, библиотек, написание функций."
      ]
    },
    {
      "cell_type": "code",
      "metadata": {
        "id": "Y9HhQemGU6vC",
        "colab": {
          "base_uri": "https://localhost:8080/"
        },
        "outputId": "116db363-01c9-46f5-faa2-1470159adab5"
      },
      "source": [
        "# импортируем библиотеки и функции \n",
        "!pip install pmdarima"
      ],
      "execution_count": null,
      "outputs": [
        {
          "output_type": "stream",
          "name": "stdout",
          "text": [
            "Looking in indexes: https://pypi.org/simple, https://us-python.pkg.dev/colab-wheels/public/simple/\n",
            "Collecting pmdarima\n",
            "  Downloading pmdarima-2.0.2-cp38-cp38-manylinux_2_17_x86_64.manylinux2014_x86_64.manylinux_2_28_x86_64.whl (1.9 MB)\n",
            "\u001b[2K     \u001b[90m━━━━━━━━━━━━━━━━━━━━━━━━━━━━━━━━━━━━━━━━\u001b[0m \u001b[32m1.9/1.9 MB\u001b[0m \u001b[31m21.3 MB/s\u001b[0m eta \u001b[36m0:00:00\u001b[0m\n",
            "\u001b[?25hRequirement already satisfied: scikit-learn>=0.22 in /usr/local/lib/python3.8/dist-packages (from pmdarima) (1.0.2)\n",
            "Requirement already satisfied: setuptools!=50.0.0,>=38.6.0 in /usr/local/lib/python3.8/dist-packages (from pmdarima) (57.4.0)\n",
            "Requirement already satisfied: numpy>=1.21.2 in /usr/local/lib/python3.8/dist-packages (from pmdarima) (1.21.6)\n",
            "Requirement already satisfied: scipy>=1.3.2 in /usr/local/lib/python3.8/dist-packages (from pmdarima) (1.7.3)\n",
            "Requirement already satisfied: urllib3 in /usr/local/lib/python3.8/dist-packages (from pmdarima) (1.24.3)\n",
            "Collecting statsmodels>=0.13.2\n",
            "  Downloading statsmodels-0.13.5-cp38-cp38-manylinux_2_17_x86_64.manylinux2014_x86_64.whl (9.9 MB)\n",
            "\u001b[2K     \u001b[90m━━━━━━━━━━━━━━━━━━━━━━━━━━━━━━━━━━━━━━━━\u001b[0m \u001b[32m9.9/9.9 MB\u001b[0m \u001b[31m59.6 MB/s\u001b[0m eta \u001b[36m0:00:00\u001b[0m\n",
            "\u001b[?25hRequirement already satisfied: pandas>=0.19 in /usr/local/lib/python3.8/dist-packages (from pmdarima) (1.3.5)\n",
            "Requirement already satisfied: Cython!=0.29.18,!=0.29.31,>=0.29 in /usr/local/lib/python3.8/dist-packages (from pmdarima) (0.29.33)\n",
            "Requirement already satisfied: joblib>=0.11 in /usr/local/lib/python3.8/dist-packages (from pmdarima) (1.2.0)\n",
            "Requirement already satisfied: python-dateutil>=2.7.3 in /usr/local/lib/python3.8/dist-packages (from pandas>=0.19->pmdarima) (2.8.2)\n",
            "Requirement already satisfied: pytz>=2017.3 in /usr/local/lib/python3.8/dist-packages (from pandas>=0.19->pmdarima) (2022.7.1)\n",
            "Requirement already satisfied: threadpoolctl>=2.0.0 in /usr/local/lib/python3.8/dist-packages (from scikit-learn>=0.22->pmdarima) (3.1.0)\n",
            "Requirement already satisfied: packaging>=21.3 in /usr/local/lib/python3.8/dist-packages (from statsmodels>=0.13.2->pmdarima) (23.0)\n",
            "Requirement already satisfied: patsy>=0.5.2 in /usr/local/lib/python3.8/dist-packages (from statsmodels>=0.13.2->pmdarima) (0.5.3)\n",
            "Requirement already satisfied: six in /usr/local/lib/python3.8/dist-packages (from patsy>=0.5.2->statsmodels>=0.13.2->pmdarima) (1.15.0)\n",
            "Installing collected packages: statsmodels, pmdarima\n",
            "  Attempting uninstall: statsmodels\n",
            "    Found existing installation: statsmodels 0.12.2\n",
            "    Uninstalling statsmodels-0.12.2:\n",
            "      Successfully uninstalled statsmodels-0.12.2\n",
            "Successfully installed pmdarima-2.0.2 statsmodels-0.13.5\n"
          ]
        }
      ]
    },
    {
      "cell_type": "code",
      "source": [
        "import pandas as pd\n",
        "import numpy as np\n",
        "%matplotlib inline\n",
        "\n",
        "from statsmodels.tsa.statespace.sarimax import SARIMAX\n",
        "from statsmodels.graphics.tsaplots import plot_acf, plot_pacf\n",
        "from statsmodels.tsa.seasonal import seasonal_decompose\n",
        "from pmdarima import auto_arima\n",
        "\n",
        "import warnings\n",
        "warnings.filterwarnings(\"ignore\")"
      ],
      "metadata": {
        "id": "4_xaKnubcRwU"
      },
      "execution_count": null,
      "outputs": []
    },
    {
      "cell_type": "code",
      "metadata": {
        "id": "Sx_GJx5XU8Zi",
        "colab": {
          "base_uri": "https://localhost:8080/",
          "height": 206
        },
        "outputId": "ea20816b-b260-4f01-afa0-83fcf6584ba2"
      },
      "source": [
        "# импортируем данные, создаем их копию \n",
        "df_original=pd.read_csv('binance_btcusdt_kline_1m.csv')\n",
        "df=df_original\n",
        "df.head()"
      ],
      "execution_count": null,
      "outputs": [
        {
          "output_type": "execute_result",
          "data": {
            "text/plain": [
              "               t         o         h         l         c          v\n",
              "0  1609430400000  28782.01  28821.85  28763.94  28811.85  95.835795\n",
              "1  1609430460000  28812.64  28822.59  28714.29  28726.62  58.516227\n",
              "2  1609430520000  28728.28  28744.76  28684.69  28693.37  75.038373\n",
              "3  1609430580000  28693.37  28715.15  28682.09  28690.29  37.128193\n",
              "4  1609430640000  28690.29  28734.70  28680.00  28715.11  38.411112"
            ],
            "text/html": [
              "\n",
              "  <div id=\"df-c3eb3ae2-13c7-46dd-bc53-7e261c3417f2\">\n",
              "    <div class=\"colab-df-container\">\n",
              "      <div>\n",
              "<style scoped>\n",
              "    .dataframe tbody tr th:only-of-type {\n",
              "        vertical-align: middle;\n",
              "    }\n",
              "\n",
              "    .dataframe tbody tr th {\n",
              "        vertical-align: top;\n",
              "    }\n",
              "\n",
              "    .dataframe thead th {\n",
              "        text-align: right;\n",
              "    }\n",
              "</style>\n",
              "<table border=\"1\" class=\"dataframe\">\n",
              "  <thead>\n",
              "    <tr style=\"text-align: right;\">\n",
              "      <th></th>\n",
              "      <th>t</th>\n",
              "      <th>o</th>\n",
              "      <th>h</th>\n",
              "      <th>l</th>\n",
              "      <th>c</th>\n",
              "      <th>v</th>\n",
              "    </tr>\n",
              "  </thead>\n",
              "  <tbody>\n",
              "    <tr>\n",
              "      <th>0</th>\n",
              "      <td>1609430400000</td>\n",
              "      <td>28782.01</td>\n",
              "      <td>28821.85</td>\n",
              "      <td>28763.94</td>\n",
              "      <td>28811.85</td>\n",
              "      <td>95.835795</td>\n",
              "    </tr>\n",
              "    <tr>\n",
              "      <th>1</th>\n",
              "      <td>1609430460000</td>\n",
              "      <td>28812.64</td>\n",
              "      <td>28822.59</td>\n",
              "      <td>28714.29</td>\n",
              "      <td>28726.62</td>\n",
              "      <td>58.516227</td>\n",
              "    </tr>\n",
              "    <tr>\n",
              "      <th>2</th>\n",
              "      <td>1609430520000</td>\n",
              "      <td>28728.28</td>\n",
              "      <td>28744.76</td>\n",
              "      <td>28684.69</td>\n",
              "      <td>28693.37</td>\n",
              "      <td>75.038373</td>\n",
              "    </tr>\n",
              "    <tr>\n",
              "      <th>3</th>\n",
              "      <td>1609430580000</td>\n",
              "      <td>28693.37</td>\n",
              "      <td>28715.15</td>\n",
              "      <td>28682.09</td>\n",
              "      <td>28690.29</td>\n",
              "      <td>37.128193</td>\n",
              "    </tr>\n",
              "    <tr>\n",
              "      <th>4</th>\n",
              "      <td>1609430640000</td>\n",
              "      <td>28690.29</td>\n",
              "      <td>28734.70</td>\n",
              "      <td>28680.00</td>\n",
              "      <td>28715.11</td>\n",
              "      <td>38.411112</td>\n",
              "    </tr>\n",
              "  </tbody>\n",
              "</table>\n",
              "</div>\n",
              "      <button class=\"colab-df-convert\" onclick=\"convertToInteractive('df-c3eb3ae2-13c7-46dd-bc53-7e261c3417f2')\"\n",
              "              title=\"Convert this dataframe to an interactive table.\"\n",
              "              style=\"display:none;\">\n",
              "        \n",
              "  <svg xmlns=\"http://www.w3.org/2000/svg\" height=\"24px\"viewBox=\"0 0 24 24\"\n",
              "       width=\"24px\">\n",
              "    <path d=\"M0 0h24v24H0V0z\" fill=\"none\"/>\n",
              "    <path d=\"M18.56 5.44l.94 2.06.94-2.06 2.06-.94-2.06-.94-.94-2.06-.94 2.06-2.06.94zm-11 1L8.5 8.5l.94-2.06 2.06-.94-2.06-.94L8.5 2.5l-.94 2.06-2.06.94zm10 10l.94 2.06.94-2.06 2.06-.94-2.06-.94-.94-2.06-.94 2.06-2.06.94z\"/><path d=\"M17.41 7.96l-1.37-1.37c-.4-.4-.92-.59-1.43-.59-.52 0-1.04.2-1.43.59L10.3 9.45l-7.72 7.72c-.78.78-.78 2.05 0 2.83L4 21.41c.39.39.9.59 1.41.59.51 0 1.02-.2 1.41-.59l7.78-7.78 2.81-2.81c.8-.78.8-2.07 0-2.86zM5.41 20L4 18.59l7.72-7.72 1.47 1.35L5.41 20z\"/>\n",
              "  </svg>\n",
              "      </button>\n",
              "      \n",
              "  <style>\n",
              "    .colab-df-container {\n",
              "      display:flex;\n",
              "      flex-wrap:wrap;\n",
              "      gap: 12px;\n",
              "    }\n",
              "\n",
              "    .colab-df-convert {\n",
              "      background-color: #E8F0FE;\n",
              "      border: none;\n",
              "      border-radius: 50%;\n",
              "      cursor: pointer;\n",
              "      display: none;\n",
              "      fill: #1967D2;\n",
              "      height: 32px;\n",
              "      padding: 0 0 0 0;\n",
              "      width: 32px;\n",
              "    }\n",
              "\n",
              "    .colab-df-convert:hover {\n",
              "      background-color: #E2EBFA;\n",
              "      box-shadow: 0px 1px 2px rgba(60, 64, 67, 0.3), 0px 1px 3px 1px rgba(60, 64, 67, 0.15);\n",
              "      fill: #174EA6;\n",
              "    }\n",
              "\n",
              "    [theme=dark] .colab-df-convert {\n",
              "      background-color: #3B4455;\n",
              "      fill: #D2E3FC;\n",
              "    }\n",
              "\n",
              "    [theme=dark] .colab-df-convert:hover {\n",
              "      background-color: #434B5C;\n",
              "      box-shadow: 0px 1px 3px 1px rgba(0, 0, 0, 0.15);\n",
              "      filter: drop-shadow(0px 1px 2px rgba(0, 0, 0, 0.3));\n",
              "      fill: #FFFFFF;\n",
              "    }\n",
              "  </style>\n",
              "\n",
              "      <script>\n",
              "        const buttonEl =\n",
              "          document.querySelector('#df-c3eb3ae2-13c7-46dd-bc53-7e261c3417f2 button.colab-df-convert');\n",
              "        buttonEl.style.display =\n",
              "          google.colab.kernel.accessAllowed ? 'block' : 'none';\n",
              "\n",
              "        async function convertToInteractive(key) {\n",
              "          const element = document.querySelector('#df-c3eb3ae2-13c7-46dd-bc53-7e261c3417f2');\n",
              "          const dataTable =\n",
              "            await google.colab.kernel.invokeFunction('convertToInteractive',\n",
              "                                                     [key], {});\n",
              "          if (!dataTable) return;\n",
              "\n",
              "          const docLinkHtml = 'Like what you see? Visit the ' +\n",
              "            '<a target=\"_blank\" href=https://colab.research.google.com/notebooks/data_table.ipynb>data table notebook</a>'\n",
              "            + ' to learn more about interactive tables.';\n",
              "          element.innerHTML = '';\n",
              "          dataTable['output_type'] = 'display_data';\n",
              "          await google.colab.output.renderOutput(dataTable, element);\n",
              "          const docLink = document.createElement('div');\n",
              "          docLink.innerHTML = docLinkHtml;\n",
              "          element.appendChild(docLink);\n",
              "        }\n",
              "      </script>\n",
              "    </div>\n",
              "  </div>\n",
              "  "
            ]
          },
          "metadata": {},
          "execution_count": 3
        }
      ]
    },
    {
      "cell_type": "markdown",
      "metadata": {
        "id": "2CFkHRlGUerR"
      },
      "source": [
        "Датасет представляет собой исторический срез курса обмена криптовалют BTC/USDT за период с 31.12.2020 (четверг) 16:00:00 по 05.12.2021 (воскресенье) 15:59:00\n",
        "\n",
        "\n",
        "\n",
        "\n",
        "\n"
      ]
    },
    {
      "cell_type": "markdown",
      "source": [
        "Описание столбцов:\n",
        " \n",
        "t: Unix timestamp - временная метка операции, количество секунд, прошедших с начала  «эпохи Unix», т.е. с полуночи (00:00:00 UTC) 1 января 1970 года (четверг). \n",
        "Период взят в интерпретации сайта https://www.unixtimestamp.com, а не в интерпретации kaggle. \n",
        "\n",
        "o: Opening price on the given day (цена открытия в определенный день)\n",
        "\n",
        "h: Highest price on the given day (наивысшая цена в определенный день)\n",
        "\n",
        "l: Lowest price on the given day (низшая цена в определенный день)\n",
        "\n",
        "c: Closing price on the given day (цена закрытия в определенный день)\n",
        "\n",
        "v: Volume of transactions on the given day (объем транзакций за определенный день)"
      ],
      "metadata": {
        "id": "K_T9eX5K1nho"
      }
    },
    {
      "cell_type": "markdown",
      "metadata": {
        "id": "plIXeY2aUeuv"
      },
      "source": [
        "### Знакомство с данными.\n"
      ]
    },
    {
      "cell_type": "code",
      "source": [
        "df.info()"
      ],
      "metadata": {
        "id": "rWveqFOCFj5v",
        "colab": {
          "base_uri": "https://localhost:8080/"
        },
        "outputId": "2e4a6e46-ca0b-4f18-9efe-532519e697b2"
      },
      "execution_count": null,
      "outputs": [
        {
          "output_type": "stream",
          "name": "stdout",
          "text": [
            "<class 'pandas.core.frame.DataFrame'>\n",
            "RangeIndex: 487167 entries, 0 to 487166\n",
            "Data columns (total 6 columns):\n",
            " #   Column  Non-Null Count   Dtype  \n",
            "---  ------  --------------   -----  \n",
            " 0   t       487167 non-null  int64  \n",
            " 1   o       487167 non-null  float64\n",
            " 2   h       487167 non-null  float64\n",
            " 3   l       487167 non-null  float64\n",
            " 4   c       487167 non-null  float64\n",
            " 5   v       487167 non-null  float64\n",
            "dtypes: float64(5), int64(1)\n",
            "memory usage: 22.3 MB\n"
          ]
        }
      ]
    },
    {
      "cell_type": "markdown",
      "source": [
        "Датафрейм содержит 487167 вхождений (записей), состоит из 6 столбцов (1-ый имеет тип int64, остальные - float64)"
      ],
      "metadata": {
        "id": "boW35r55F643"
      }
    },
    {
      "cell_type": "code",
      "source": [
        "#кол-во строк и столбцов таблицы\n",
        "df.shape"
      ],
      "metadata": {
        "colab": {
          "base_uri": "https://localhost:8080/"
        },
        "id": "aFN-OO1bHObg",
        "outputId": "cbfc4496-b588-4b90-ae27-dd3ccd03e79e"
      },
      "execution_count": null,
      "outputs": [
        {
          "output_type": "execute_result",
          "data": {
            "text/plain": [
              "(487167, 6)"
            ]
          },
          "metadata": {},
          "execution_count": 5
        }
      ]
    },
    {
      "cell_type": "code",
      "source": [
        "# описательная статистика\n",
        "df.describe()"
      ],
      "metadata": {
        "colab": {
          "base_uri": "https://localhost:8080/",
          "height": 300
        },
        "id": "q9Rc--9uHDlg",
        "outputId": "3eed64b5-fbd0-46ea-e54e-36bae085a7e6"
      },
      "execution_count": null,
      "outputs": [
        {
          "output_type": "execute_result",
          "data": {
            "text/plain": [
              "                  t              o              h              l  \\\n",
              "count  4.871670e+05  487167.000000  487167.000000  487167.000000   \n",
              "mean   1.624078e+12   47238.594676   47275.039187   47202.242693   \n",
              "std    8.458590e+09   10193.460108   10193.563030   10192.774762   \n",
              "min    1.609430e+12   28241.950000   28372.440000   28130.000000   \n",
              "25%    1.616748e+12   37427.805000   37472.975000   37384.350000   \n",
              "50%    1.624082e+12   47659.520000   47692.240000   47628.220000   \n",
              "75%    1.631405e+12   56630.990000   56669.990000   56591.625000   \n",
              "max    1.638720e+12   69000.000000   69000.000000   68786.700000   \n",
              "\n",
              "                  c              v  \n",
              "count  487167.00000  487167.000000  \n",
              "mean    47238.63280      50.466159  \n",
              "std     10193.43637      65.723221  \n",
              "min     28235.47000       0.000000  \n",
              "25%     37427.96500      19.370902  \n",
              "50%     47659.54000      32.364667  \n",
              "75%     56631.13000      56.805935  \n",
              "max     69000.00000    2636.713888  "
            ],
            "text/html": [
              "\n",
              "  <div id=\"df-1a1593c5-a019-4059-a69a-cd542c2ebed3\">\n",
              "    <div class=\"colab-df-container\">\n",
              "      <div>\n",
              "<style scoped>\n",
              "    .dataframe tbody tr th:only-of-type {\n",
              "        vertical-align: middle;\n",
              "    }\n",
              "\n",
              "    .dataframe tbody tr th {\n",
              "        vertical-align: top;\n",
              "    }\n",
              "\n",
              "    .dataframe thead th {\n",
              "        text-align: right;\n",
              "    }\n",
              "</style>\n",
              "<table border=\"1\" class=\"dataframe\">\n",
              "  <thead>\n",
              "    <tr style=\"text-align: right;\">\n",
              "      <th></th>\n",
              "      <th>t</th>\n",
              "      <th>o</th>\n",
              "      <th>h</th>\n",
              "      <th>l</th>\n",
              "      <th>c</th>\n",
              "      <th>v</th>\n",
              "    </tr>\n",
              "  </thead>\n",
              "  <tbody>\n",
              "    <tr>\n",
              "      <th>count</th>\n",
              "      <td>4.871670e+05</td>\n",
              "      <td>487167.000000</td>\n",
              "      <td>487167.000000</td>\n",
              "      <td>487167.000000</td>\n",
              "      <td>487167.00000</td>\n",
              "      <td>487167.000000</td>\n",
              "    </tr>\n",
              "    <tr>\n",
              "      <th>mean</th>\n",
              "      <td>1.624078e+12</td>\n",
              "      <td>47238.594676</td>\n",
              "      <td>47275.039187</td>\n",
              "      <td>47202.242693</td>\n",
              "      <td>47238.63280</td>\n",
              "      <td>50.466159</td>\n",
              "    </tr>\n",
              "    <tr>\n",
              "      <th>std</th>\n",
              "      <td>8.458590e+09</td>\n",
              "      <td>10193.460108</td>\n",
              "      <td>10193.563030</td>\n",
              "      <td>10192.774762</td>\n",
              "      <td>10193.43637</td>\n",
              "      <td>65.723221</td>\n",
              "    </tr>\n",
              "    <tr>\n",
              "      <th>min</th>\n",
              "      <td>1.609430e+12</td>\n",
              "      <td>28241.950000</td>\n",
              "      <td>28372.440000</td>\n",
              "      <td>28130.000000</td>\n",
              "      <td>28235.47000</td>\n",
              "      <td>0.000000</td>\n",
              "    </tr>\n",
              "    <tr>\n",
              "      <th>25%</th>\n",
              "      <td>1.616748e+12</td>\n",
              "      <td>37427.805000</td>\n",
              "      <td>37472.975000</td>\n",
              "      <td>37384.350000</td>\n",
              "      <td>37427.96500</td>\n",
              "      <td>19.370902</td>\n",
              "    </tr>\n",
              "    <tr>\n",
              "      <th>50%</th>\n",
              "      <td>1.624082e+12</td>\n",
              "      <td>47659.520000</td>\n",
              "      <td>47692.240000</td>\n",
              "      <td>47628.220000</td>\n",
              "      <td>47659.54000</td>\n",
              "      <td>32.364667</td>\n",
              "    </tr>\n",
              "    <tr>\n",
              "      <th>75%</th>\n",
              "      <td>1.631405e+12</td>\n",
              "      <td>56630.990000</td>\n",
              "      <td>56669.990000</td>\n",
              "      <td>56591.625000</td>\n",
              "      <td>56631.13000</td>\n",
              "      <td>56.805935</td>\n",
              "    </tr>\n",
              "    <tr>\n",
              "      <th>max</th>\n",
              "      <td>1.638720e+12</td>\n",
              "      <td>69000.000000</td>\n",
              "      <td>69000.000000</td>\n",
              "      <td>68786.700000</td>\n",
              "      <td>69000.00000</td>\n",
              "      <td>2636.713888</td>\n",
              "    </tr>\n",
              "  </tbody>\n",
              "</table>\n",
              "</div>\n",
              "      <button class=\"colab-df-convert\" onclick=\"convertToInteractive('df-1a1593c5-a019-4059-a69a-cd542c2ebed3')\"\n",
              "              title=\"Convert this dataframe to an interactive table.\"\n",
              "              style=\"display:none;\">\n",
              "        \n",
              "  <svg xmlns=\"http://www.w3.org/2000/svg\" height=\"24px\"viewBox=\"0 0 24 24\"\n",
              "       width=\"24px\">\n",
              "    <path d=\"M0 0h24v24H0V0z\" fill=\"none\"/>\n",
              "    <path d=\"M18.56 5.44l.94 2.06.94-2.06 2.06-.94-2.06-.94-.94-2.06-.94 2.06-2.06.94zm-11 1L8.5 8.5l.94-2.06 2.06-.94-2.06-.94L8.5 2.5l-.94 2.06-2.06.94zm10 10l.94 2.06.94-2.06 2.06-.94-2.06-.94-.94-2.06-.94 2.06-2.06.94z\"/><path d=\"M17.41 7.96l-1.37-1.37c-.4-.4-.92-.59-1.43-.59-.52 0-1.04.2-1.43.59L10.3 9.45l-7.72 7.72c-.78.78-.78 2.05 0 2.83L4 21.41c.39.39.9.59 1.41.59.51 0 1.02-.2 1.41-.59l7.78-7.78 2.81-2.81c.8-.78.8-2.07 0-2.86zM5.41 20L4 18.59l7.72-7.72 1.47 1.35L5.41 20z\"/>\n",
              "  </svg>\n",
              "      </button>\n",
              "      \n",
              "  <style>\n",
              "    .colab-df-container {\n",
              "      display:flex;\n",
              "      flex-wrap:wrap;\n",
              "      gap: 12px;\n",
              "    }\n",
              "\n",
              "    .colab-df-convert {\n",
              "      background-color: #E8F0FE;\n",
              "      border: none;\n",
              "      border-radius: 50%;\n",
              "      cursor: pointer;\n",
              "      display: none;\n",
              "      fill: #1967D2;\n",
              "      height: 32px;\n",
              "      padding: 0 0 0 0;\n",
              "      width: 32px;\n",
              "    }\n",
              "\n",
              "    .colab-df-convert:hover {\n",
              "      background-color: #E2EBFA;\n",
              "      box-shadow: 0px 1px 2px rgba(60, 64, 67, 0.3), 0px 1px 3px 1px rgba(60, 64, 67, 0.15);\n",
              "      fill: #174EA6;\n",
              "    }\n",
              "\n",
              "    [theme=dark] .colab-df-convert {\n",
              "      background-color: #3B4455;\n",
              "      fill: #D2E3FC;\n",
              "    }\n",
              "\n",
              "    [theme=dark] .colab-df-convert:hover {\n",
              "      background-color: #434B5C;\n",
              "      box-shadow: 0px 1px 3px 1px rgba(0, 0, 0, 0.15);\n",
              "      filter: drop-shadow(0px 1px 2px rgba(0, 0, 0, 0.3));\n",
              "      fill: #FFFFFF;\n",
              "    }\n",
              "  </style>\n",
              "\n",
              "      <script>\n",
              "        const buttonEl =\n",
              "          document.querySelector('#df-1a1593c5-a019-4059-a69a-cd542c2ebed3 button.colab-df-convert');\n",
              "        buttonEl.style.display =\n",
              "          google.colab.kernel.accessAllowed ? 'block' : 'none';\n",
              "\n",
              "        async function convertToInteractive(key) {\n",
              "          const element = document.querySelector('#df-1a1593c5-a019-4059-a69a-cd542c2ebed3');\n",
              "          const dataTable =\n",
              "            await google.colab.kernel.invokeFunction('convertToInteractive',\n",
              "                                                     [key], {});\n",
              "          if (!dataTable) return;\n",
              "\n",
              "          const docLinkHtml = 'Like what you see? Visit the ' +\n",
              "            '<a target=\"_blank\" href=https://colab.research.google.com/notebooks/data_table.ipynb>data table notebook</a>'\n",
              "            + ' to learn more about interactive tables.';\n",
              "          element.innerHTML = '';\n",
              "          dataTable['output_type'] = 'display_data';\n",
              "          await google.colab.output.renderOutput(dataTable, element);\n",
              "          const docLink = document.createElement('div');\n",
              "          docLink.innerHTML = docLinkHtml;\n",
              "          element.appendChild(docLink);\n",
              "        }\n",
              "      </script>\n",
              "    </div>\n",
              "  </div>\n",
              "  "
            ]
          },
          "metadata": {},
          "execution_count": 6
        }
      ]
    },
    {
      "cell_type": "code",
      "source": [
        "# вывод названий столбцов\n",
        "df.columns"
      ],
      "metadata": {
        "colab": {
          "base_uri": "https://localhost:8080/"
        },
        "id": "Z67g-yn6GtVE",
        "outputId": "bc4b0a31-6b32-4f5a-98ad-acb867e34ef5"
      },
      "execution_count": null,
      "outputs": [
        {
          "output_type": "execute_result",
          "data": {
            "text/plain": [
              "Index(['t', 'o', 'h', 'l', 'c', 'v'], dtype='object')"
            ]
          },
          "metadata": {},
          "execution_count": 7
        }
      ]
    },
    {
      "cell_type": "code",
      "source": [
        "# Для каждого столбца выведем: количество уникальных значений, нулевых, NaNs и их долю, а также тип данных в столбцах.\n",
        "from tabulate import tabulate\n",
        "def columnValues(df):\n",
        "    row = [df.nunique(), (df == 0).sum(axis=0), df.isna().sum(), round(df.isna().sum() / len(df) * 100, 1), df.dtypes]\n",
        "    return row\n",
        "\n",
        "data = []\n",
        "for column in df:\n",
        "    data.append([column] + columnValues(df[column]))\n",
        "\n",
        "print(tabulate(data, headers=['Column', 'Count Unique', 'Count Zeros', 'Count NaNs','% of NaNs', 'data type'], tablefmt='orgtbl'))\n",
        "\n",
        "# видим, что нет пропусков, можно продолжать работу с датафреймом без восполнения пробелов. Как таковой предообработки не требуется"
      ],
      "metadata": {
        "colab": {
          "base_uri": "https://localhost:8080/"
        },
        "id": "iEpN-5AdG80V",
        "outputId": "e6b9dc41-06aa-4603-8556-4b9b8786312f"
      },
      "execution_count": null,
      "outputs": [
        {
          "output_type": "stream",
          "name": "stdout",
          "text": [
            "| Column   |   Count Unique |   Count Zeros |   Count NaNs |   % of NaNs | data type   |\n",
            "|----------+----------------+---------------+--------------+-------------+-------------|\n",
            "| t        |         487167 |             0 |            0 |           0 | int64       |\n",
            "| o        |         432648 |             0 |            0 |           0 | float64     |\n",
            "| h        |         397687 |             0 |            0 |           0 | float64     |\n",
            "| l        |         400694 |             0 |            0 |           0 | float64     |\n",
            "| c        |         432511 |             0 |            0 |           0 | float64     |\n",
            "| v        |         483569 |            89 |            0 |           0 | float64     |\n"
          ]
        }
      ]
    },
    {
      "cell_type": "code",
      "source": [
        "# т.к. дата представлена в виде временной метки Unix, необходимо ее преобразовать в формат даты\n",
        "df['t'] = pd.to_datetime(df['t'], unit=\"ms\")\n",
        "df"
      ],
      "metadata": {
        "colab": {
          "base_uri": "https://localhost:8080/",
          "height": 423
        },
        "id": "pU_wTmgce60c",
        "outputId": "0d727b05-3139-4991-ad33-6be380c221bf"
      },
      "execution_count": null,
      "outputs": [
        {
          "output_type": "execute_result",
          "data": {
            "text/plain": [
              "                         t         o         h         l         c          v\n",
              "0      2020-12-31 16:00:00  28782.01  28821.85  28763.94  28811.85  95.835795\n",
              "1      2020-12-31 16:01:00  28812.64  28822.59  28714.29  28726.62  58.516227\n",
              "2      2020-12-31 16:02:00  28728.28  28744.76  28684.69  28693.37  75.038373\n",
              "3      2020-12-31 16:03:00  28693.37  28715.15  28682.09  28690.29  37.128193\n",
              "4      2020-12-31 16:04:00  28690.29  28734.70  28680.00  28715.11  38.411112\n",
              "...                    ...       ...       ...       ...       ...        ...\n",
              "487162 2021-12-05 15:55:00  47922.76  47996.00  47907.21  47989.99  64.311240\n",
              "487163 2021-12-05 15:56:00  47990.00  48000.00  47933.44  47946.65  71.669860\n",
              "487164 2021-12-05 15:57:00  47946.65  47992.39  47900.00  47980.24  50.819920\n",
              "487165 2021-12-05 15:58:00  47980.25  47980.99  47902.58  47912.90  41.794080\n",
              "487166 2021-12-05 15:59:00  47925.87  47972.08  47878.35  47951.57  43.851100\n",
              "\n",
              "[487167 rows x 6 columns]"
            ],
            "text/html": [
              "\n",
              "  <div id=\"df-8a7235cc-70d9-45ef-aca6-882bf042f6b5\">\n",
              "    <div class=\"colab-df-container\">\n",
              "      <div>\n",
              "<style scoped>\n",
              "    .dataframe tbody tr th:only-of-type {\n",
              "        vertical-align: middle;\n",
              "    }\n",
              "\n",
              "    .dataframe tbody tr th {\n",
              "        vertical-align: top;\n",
              "    }\n",
              "\n",
              "    .dataframe thead th {\n",
              "        text-align: right;\n",
              "    }\n",
              "</style>\n",
              "<table border=\"1\" class=\"dataframe\">\n",
              "  <thead>\n",
              "    <tr style=\"text-align: right;\">\n",
              "      <th></th>\n",
              "      <th>t</th>\n",
              "      <th>o</th>\n",
              "      <th>h</th>\n",
              "      <th>l</th>\n",
              "      <th>c</th>\n",
              "      <th>v</th>\n",
              "    </tr>\n",
              "  </thead>\n",
              "  <tbody>\n",
              "    <tr>\n",
              "      <th>0</th>\n",
              "      <td>2020-12-31 16:00:00</td>\n",
              "      <td>28782.01</td>\n",
              "      <td>28821.85</td>\n",
              "      <td>28763.94</td>\n",
              "      <td>28811.85</td>\n",
              "      <td>95.835795</td>\n",
              "    </tr>\n",
              "    <tr>\n",
              "      <th>1</th>\n",
              "      <td>2020-12-31 16:01:00</td>\n",
              "      <td>28812.64</td>\n",
              "      <td>28822.59</td>\n",
              "      <td>28714.29</td>\n",
              "      <td>28726.62</td>\n",
              "      <td>58.516227</td>\n",
              "    </tr>\n",
              "    <tr>\n",
              "      <th>2</th>\n",
              "      <td>2020-12-31 16:02:00</td>\n",
              "      <td>28728.28</td>\n",
              "      <td>28744.76</td>\n",
              "      <td>28684.69</td>\n",
              "      <td>28693.37</td>\n",
              "      <td>75.038373</td>\n",
              "    </tr>\n",
              "    <tr>\n",
              "      <th>3</th>\n",
              "      <td>2020-12-31 16:03:00</td>\n",
              "      <td>28693.37</td>\n",
              "      <td>28715.15</td>\n",
              "      <td>28682.09</td>\n",
              "      <td>28690.29</td>\n",
              "      <td>37.128193</td>\n",
              "    </tr>\n",
              "    <tr>\n",
              "      <th>4</th>\n",
              "      <td>2020-12-31 16:04:00</td>\n",
              "      <td>28690.29</td>\n",
              "      <td>28734.70</td>\n",
              "      <td>28680.00</td>\n",
              "      <td>28715.11</td>\n",
              "      <td>38.411112</td>\n",
              "    </tr>\n",
              "    <tr>\n",
              "      <th>...</th>\n",
              "      <td>...</td>\n",
              "      <td>...</td>\n",
              "      <td>...</td>\n",
              "      <td>...</td>\n",
              "      <td>...</td>\n",
              "      <td>...</td>\n",
              "    </tr>\n",
              "    <tr>\n",
              "      <th>487162</th>\n",
              "      <td>2021-12-05 15:55:00</td>\n",
              "      <td>47922.76</td>\n",
              "      <td>47996.00</td>\n",
              "      <td>47907.21</td>\n",
              "      <td>47989.99</td>\n",
              "      <td>64.311240</td>\n",
              "    </tr>\n",
              "    <tr>\n",
              "      <th>487163</th>\n",
              "      <td>2021-12-05 15:56:00</td>\n",
              "      <td>47990.00</td>\n",
              "      <td>48000.00</td>\n",
              "      <td>47933.44</td>\n",
              "      <td>47946.65</td>\n",
              "      <td>71.669860</td>\n",
              "    </tr>\n",
              "    <tr>\n",
              "      <th>487164</th>\n",
              "      <td>2021-12-05 15:57:00</td>\n",
              "      <td>47946.65</td>\n",
              "      <td>47992.39</td>\n",
              "      <td>47900.00</td>\n",
              "      <td>47980.24</td>\n",
              "      <td>50.819920</td>\n",
              "    </tr>\n",
              "    <tr>\n",
              "      <th>487165</th>\n",
              "      <td>2021-12-05 15:58:00</td>\n",
              "      <td>47980.25</td>\n",
              "      <td>47980.99</td>\n",
              "      <td>47902.58</td>\n",
              "      <td>47912.90</td>\n",
              "      <td>41.794080</td>\n",
              "    </tr>\n",
              "    <tr>\n",
              "      <th>487166</th>\n",
              "      <td>2021-12-05 15:59:00</td>\n",
              "      <td>47925.87</td>\n",
              "      <td>47972.08</td>\n",
              "      <td>47878.35</td>\n",
              "      <td>47951.57</td>\n",
              "      <td>43.851100</td>\n",
              "    </tr>\n",
              "  </tbody>\n",
              "</table>\n",
              "<p>487167 rows × 6 columns</p>\n",
              "</div>\n",
              "      <button class=\"colab-df-convert\" onclick=\"convertToInteractive('df-8a7235cc-70d9-45ef-aca6-882bf042f6b5')\"\n",
              "              title=\"Convert this dataframe to an interactive table.\"\n",
              "              style=\"display:none;\">\n",
              "        \n",
              "  <svg xmlns=\"http://www.w3.org/2000/svg\" height=\"24px\"viewBox=\"0 0 24 24\"\n",
              "       width=\"24px\">\n",
              "    <path d=\"M0 0h24v24H0V0z\" fill=\"none\"/>\n",
              "    <path d=\"M18.56 5.44l.94 2.06.94-2.06 2.06-.94-2.06-.94-.94-2.06-.94 2.06-2.06.94zm-11 1L8.5 8.5l.94-2.06 2.06-.94-2.06-.94L8.5 2.5l-.94 2.06-2.06.94zm10 10l.94 2.06.94-2.06 2.06-.94-2.06-.94-.94-2.06-.94 2.06-2.06.94z\"/><path d=\"M17.41 7.96l-1.37-1.37c-.4-.4-.92-.59-1.43-.59-.52 0-1.04.2-1.43.59L10.3 9.45l-7.72 7.72c-.78.78-.78 2.05 0 2.83L4 21.41c.39.39.9.59 1.41.59.51 0 1.02-.2 1.41-.59l7.78-7.78 2.81-2.81c.8-.78.8-2.07 0-2.86zM5.41 20L4 18.59l7.72-7.72 1.47 1.35L5.41 20z\"/>\n",
              "  </svg>\n",
              "      </button>\n",
              "      \n",
              "  <style>\n",
              "    .colab-df-container {\n",
              "      display:flex;\n",
              "      flex-wrap:wrap;\n",
              "      gap: 12px;\n",
              "    }\n",
              "\n",
              "    .colab-df-convert {\n",
              "      background-color: #E8F0FE;\n",
              "      border: none;\n",
              "      border-radius: 50%;\n",
              "      cursor: pointer;\n",
              "      display: none;\n",
              "      fill: #1967D2;\n",
              "      height: 32px;\n",
              "      padding: 0 0 0 0;\n",
              "      width: 32px;\n",
              "    }\n",
              "\n",
              "    .colab-df-convert:hover {\n",
              "      background-color: #E2EBFA;\n",
              "      box-shadow: 0px 1px 2px rgba(60, 64, 67, 0.3), 0px 1px 3px 1px rgba(60, 64, 67, 0.15);\n",
              "      fill: #174EA6;\n",
              "    }\n",
              "\n",
              "    [theme=dark] .colab-df-convert {\n",
              "      background-color: #3B4455;\n",
              "      fill: #D2E3FC;\n",
              "    }\n",
              "\n",
              "    [theme=dark] .colab-df-convert:hover {\n",
              "      background-color: #434B5C;\n",
              "      box-shadow: 0px 1px 3px 1px rgba(0, 0, 0, 0.15);\n",
              "      filter: drop-shadow(0px 1px 2px rgba(0, 0, 0, 0.3));\n",
              "      fill: #FFFFFF;\n",
              "    }\n",
              "  </style>\n",
              "\n",
              "      <script>\n",
              "        const buttonEl =\n",
              "          document.querySelector('#df-8a7235cc-70d9-45ef-aca6-882bf042f6b5 button.colab-df-convert');\n",
              "        buttonEl.style.display =\n",
              "          google.colab.kernel.accessAllowed ? 'block' : 'none';\n",
              "\n",
              "        async function convertToInteractive(key) {\n",
              "          const element = document.querySelector('#df-8a7235cc-70d9-45ef-aca6-882bf042f6b5');\n",
              "          const dataTable =\n",
              "            await google.colab.kernel.invokeFunction('convertToInteractive',\n",
              "                                                     [key], {});\n",
              "          if (!dataTable) return;\n",
              "\n",
              "          const docLinkHtml = 'Like what you see? Visit the ' +\n",
              "            '<a target=\"_blank\" href=https://colab.research.google.com/notebooks/data_table.ipynb>data table notebook</a>'\n",
              "            + ' to learn more about interactive tables.';\n",
              "          element.innerHTML = '';\n",
              "          dataTable['output_type'] = 'display_data';\n",
              "          await google.colab.output.renderOutput(dataTable, element);\n",
              "          const docLink = document.createElement('div');\n",
              "          docLink.innerHTML = docLinkHtml;\n",
              "          element.appendChild(docLink);\n",
              "        }\n",
              "      </script>\n",
              "    </div>\n",
              "  </div>\n",
              "  "
            ]
          },
          "metadata": {},
          "execution_count": 9
        }
      ]
    },
    {
      "cell_type": "code",
      "source": [
        "# установим дату как индекс\n",
        "df.set_index('t', inplace=False) \n",
        "df.index.freq='MS'\n",
        "df.head()"
      ],
      "metadata": {
        "colab": {
          "base_uri": "https://localhost:8080/",
          "height": 206
        },
        "id": "9lWptrUQJjwt",
        "outputId": "aa2e8064-0d99-4dd6-8810-4029c6adb1c9"
      },
      "execution_count": null,
      "outputs": [
        {
          "output_type": "execute_result",
          "data": {
            "text/plain": [
              "                    t         o         h         l         c          v\n",
              "0 2020-12-31 16:00:00  28782.01  28821.85  28763.94  28811.85  95.835795\n",
              "1 2020-12-31 16:01:00  28812.64  28822.59  28714.29  28726.62  58.516227\n",
              "2 2020-12-31 16:02:00  28728.28  28744.76  28684.69  28693.37  75.038373\n",
              "3 2020-12-31 16:03:00  28693.37  28715.15  28682.09  28690.29  37.128193\n",
              "4 2020-12-31 16:04:00  28690.29  28734.70  28680.00  28715.11  38.411112"
            ],
            "text/html": [
              "\n",
              "  <div id=\"df-f46888dd-4f1f-4476-9b79-2b3e620b9118\">\n",
              "    <div class=\"colab-df-container\">\n",
              "      <div>\n",
              "<style scoped>\n",
              "    .dataframe tbody tr th:only-of-type {\n",
              "        vertical-align: middle;\n",
              "    }\n",
              "\n",
              "    .dataframe tbody tr th {\n",
              "        vertical-align: top;\n",
              "    }\n",
              "\n",
              "    .dataframe thead th {\n",
              "        text-align: right;\n",
              "    }\n",
              "</style>\n",
              "<table border=\"1\" class=\"dataframe\">\n",
              "  <thead>\n",
              "    <tr style=\"text-align: right;\">\n",
              "      <th></th>\n",
              "      <th>t</th>\n",
              "      <th>o</th>\n",
              "      <th>h</th>\n",
              "      <th>l</th>\n",
              "      <th>c</th>\n",
              "      <th>v</th>\n",
              "    </tr>\n",
              "  </thead>\n",
              "  <tbody>\n",
              "    <tr>\n",
              "      <th>0</th>\n",
              "      <td>2020-12-31 16:00:00</td>\n",
              "      <td>28782.01</td>\n",
              "      <td>28821.85</td>\n",
              "      <td>28763.94</td>\n",
              "      <td>28811.85</td>\n",
              "      <td>95.835795</td>\n",
              "    </tr>\n",
              "    <tr>\n",
              "      <th>1</th>\n",
              "      <td>2020-12-31 16:01:00</td>\n",
              "      <td>28812.64</td>\n",
              "      <td>28822.59</td>\n",
              "      <td>28714.29</td>\n",
              "      <td>28726.62</td>\n",
              "      <td>58.516227</td>\n",
              "    </tr>\n",
              "    <tr>\n",
              "      <th>2</th>\n",
              "      <td>2020-12-31 16:02:00</td>\n",
              "      <td>28728.28</td>\n",
              "      <td>28744.76</td>\n",
              "      <td>28684.69</td>\n",
              "      <td>28693.37</td>\n",
              "      <td>75.038373</td>\n",
              "    </tr>\n",
              "    <tr>\n",
              "      <th>3</th>\n",
              "      <td>2020-12-31 16:03:00</td>\n",
              "      <td>28693.37</td>\n",
              "      <td>28715.15</td>\n",
              "      <td>28682.09</td>\n",
              "      <td>28690.29</td>\n",
              "      <td>37.128193</td>\n",
              "    </tr>\n",
              "    <tr>\n",
              "      <th>4</th>\n",
              "      <td>2020-12-31 16:04:00</td>\n",
              "      <td>28690.29</td>\n",
              "      <td>28734.70</td>\n",
              "      <td>28680.00</td>\n",
              "      <td>28715.11</td>\n",
              "      <td>38.411112</td>\n",
              "    </tr>\n",
              "  </tbody>\n",
              "</table>\n",
              "</div>\n",
              "      <button class=\"colab-df-convert\" onclick=\"convertToInteractive('df-f46888dd-4f1f-4476-9b79-2b3e620b9118')\"\n",
              "              title=\"Convert this dataframe to an interactive table.\"\n",
              "              style=\"display:none;\">\n",
              "        \n",
              "  <svg xmlns=\"http://www.w3.org/2000/svg\" height=\"24px\"viewBox=\"0 0 24 24\"\n",
              "       width=\"24px\">\n",
              "    <path d=\"M0 0h24v24H0V0z\" fill=\"none\"/>\n",
              "    <path d=\"M18.56 5.44l.94 2.06.94-2.06 2.06-.94-2.06-.94-.94-2.06-.94 2.06-2.06.94zm-11 1L8.5 8.5l.94-2.06 2.06-.94-2.06-.94L8.5 2.5l-.94 2.06-2.06.94zm10 10l.94 2.06.94-2.06 2.06-.94-2.06-.94-.94-2.06-.94 2.06-2.06.94z\"/><path d=\"M17.41 7.96l-1.37-1.37c-.4-.4-.92-.59-1.43-.59-.52 0-1.04.2-1.43.59L10.3 9.45l-7.72 7.72c-.78.78-.78 2.05 0 2.83L4 21.41c.39.39.9.59 1.41.59.51 0 1.02-.2 1.41-.59l7.78-7.78 2.81-2.81c.8-.78.8-2.07 0-2.86zM5.41 20L4 18.59l7.72-7.72 1.47 1.35L5.41 20z\"/>\n",
              "  </svg>\n",
              "      </button>\n",
              "      \n",
              "  <style>\n",
              "    .colab-df-container {\n",
              "      display:flex;\n",
              "      flex-wrap:wrap;\n",
              "      gap: 12px;\n",
              "    }\n",
              "\n",
              "    .colab-df-convert {\n",
              "      background-color: #E8F0FE;\n",
              "      border: none;\n",
              "      border-radius: 50%;\n",
              "      cursor: pointer;\n",
              "      display: none;\n",
              "      fill: #1967D2;\n",
              "      height: 32px;\n",
              "      padding: 0 0 0 0;\n",
              "      width: 32px;\n",
              "    }\n",
              "\n",
              "    .colab-df-convert:hover {\n",
              "      background-color: #E2EBFA;\n",
              "      box-shadow: 0px 1px 2px rgba(60, 64, 67, 0.3), 0px 1px 3px 1px rgba(60, 64, 67, 0.15);\n",
              "      fill: #174EA6;\n",
              "    }\n",
              "\n",
              "    [theme=dark] .colab-df-convert {\n",
              "      background-color: #3B4455;\n",
              "      fill: #D2E3FC;\n",
              "    }\n",
              "\n",
              "    [theme=dark] .colab-df-convert:hover {\n",
              "      background-color: #434B5C;\n",
              "      box-shadow: 0px 1px 3px 1px rgba(0, 0, 0, 0.15);\n",
              "      filter: drop-shadow(0px 1px 2px rgba(0, 0, 0, 0.3));\n",
              "      fill: #FFFFFF;\n",
              "    }\n",
              "  </style>\n",
              "\n",
              "      <script>\n",
              "        const buttonEl =\n",
              "          document.querySelector('#df-f46888dd-4f1f-4476-9b79-2b3e620b9118 button.colab-df-convert');\n",
              "        buttonEl.style.display =\n",
              "          google.colab.kernel.accessAllowed ? 'block' : 'none';\n",
              "\n",
              "        async function convertToInteractive(key) {\n",
              "          const element = document.querySelector('#df-f46888dd-4f1f-4476-9b79-2b3e620b9118');\n",
              "          const dataTable =\n",
              "            await google.colab.kernel.invokeFunction('convertToInteractive',\n",
              "                                                     [key], {});\n",
              "          if (!dataTable) return;\n",
              "\n",
              "          const docLinkHtml = 'Like what you see? Visit the ' +\n",
              "            '<a target=\"_blank\" href=https://colab.research.google.com/notebooks/data_table.ipynb>data table notebook</a>'\n",
              "            + ' to learn more about interactive tables.';\n",
              "          element.innerHTML = '';\n",
              "          dataTable['output_type'] = 'display_data';\n",
              "          await google.colab.output.renderOutput(dataTable, element);\n",
              "          const docLink = document.createElement('div');\n",
              "          docLink.innerHTML = docLinkHtml;\n",
              "          element.appendChild(docLink);\n",
              "        }\n",
              "      </script>\n",
              "    </div>\n",
              "  </div>\n",
              "  "
            ]
          },
          "metadata": {},
          "execution_count": 10
        }
      ]
    },
    {
      "cell_type": "code",
      "source": [
        "# представим данные графически, применительно к каждому показателю\n",
        "xtitle='BTC/USDT historical'\n",
        "ylabel='value'\n",
        "xlabel='time'\n",
        "\n",
        "ax=df['o'].plot(figsize=(12,6), title=xtitle) \n",
        "ax.autoscale(axis='x',tight=True) \n",
        "\n",
        "ax.set(xlabel=xlabel, ylabel=ylabel)"
      ],
      "metadata": {
        "colab": {
          "base_uri": "https://localhost:8080/",
          "height": 421
        },
        "id": "54pLrYExK-PM",
        "outputId": "bc96a8b0-c202-4cda-df97-f329a3bcc27e"
      },
      "execution_count": null,
      "outputs": [
        {
          "output_type": "execute_result",
          "data": {
            "text/plain": [
              "[Text(0, 0.5, 'value'), Text(0.5, 0, 'time')]"
            ]
          },
          "metadata": {},
          "execution_count": 11
        },
        {
          "output_type": "display_data",
          "data": {
            "text/plain": [
              "<Figure size 864x432 with 1 Axes>"
            ],
            "image/png": "[encoded data removed]"
          },
          "metadata": {
            "needs_background": "light"
          }
        }
      ]
    },
    {
      "cell_type": "code",
      "source": [
        "ax=df['h'].plot(figsize=(12,6), title=xtitle) \n",
        "ax.autoscale(axis='x',tight=True)\n",
        "ax.set(xlabel=xlabel, ylabel=ylabel)"
      ],
      "metadata": {
        "colab": {
          "base_uri": "https://localhost:8080/",
          "height": 421
        },
        "id": "5KLxGZH_oe2g",
        "outputId": "80f21ff5-c619-4942-fd85-a6a695496646"
      },
      "execution_count": null,
      "outputs": [
        {
          "output_type": "execute_result",
          "data": {
            "text/plain": [
              "[Text(0, 0.5, 'value'), Text(0.5, 0, 'time')]"
            ]
          },
          "metadata": {},
          "execution_count": 12
        },
        {
          "output_type": "display_data",
          "data": {
            "text/plain": [
              "<Figure size 864x432 with 1 Axes>"
            ],
            "image/png": "[encoded data removed]"
          },
          "metadata": {
            "needs_background": "light"
          }
        }
      ]
    },
    {
      "cell_type": "code",
      "source": [
        "ax=df['l'].plot(figsize=(12,6), title=xtitle) \n",
        "ax.autoscale(axis='x',tight=True)\n",
        "ax.set(xlabel=xlabel, ylabel=ylabel)"
      ],
      "metadata": {
        "colab": {
          "base_uri": "https://localhost:8080/",
          "height": 421
        },
        "id": "m-U1rajYokXo",
        "outputId": "bb65f4d9-dbb6-4964-dce2-3f681747fdc4"
      },
      "execution_count": null,
      "outputs": [
        {
          "output_type": "execute_result",
          "data": {
            "text/plain": [
              "[Text(0, 0.5, 'value'), Text(0.5, 0, 'time')]"
            ]
          },
          "metadata": {},
          "execution_count": 13
        },
        {
          "output_type": "display_data",
          "data": {
            "text/plain": [
              "<Figure size 864x432 with 1 Axes>"
            ],
            "image/png": "[encoded data removed]"
          },
          "metadata": {
            "needs_background": "light"
          }
        }
      ]
    },
    {
      "cell_type": "code",
      "source": [
        "ax=df['c'].plot(figsize=(12,6), title=xtitle) \n",
        "ax.autoscale(axis='x',tight=True)\n",
        "ax.set(xlabel=xlabel, ylabel=ylabel)"
      ],
      "metadata": {
        "colab": {
          "base_uri": "https://localhost:8080/",
          "height": 421
        },
        "id": "Cjzu5c-1opjQ",
        "outputId": "cb85310e-73d7-4dec-9c1a-7c1125b80ca3"
      },
      "execution_count": null,
      "outputs": [
        {
          "output_type": "execute_result",
          "data": {
            "text/plain": [
              "[Text(0, 0.5, 'value'), Text(0.5, 0, 'time')]"
            ]
          },
          "metadata": {},
          "execution_count": 14
        },
        {
          "output_type": "display_data",
          "data": {
            "text/plain": [
              "<Figure size 864x432 with 1 Axes>"
            ],
            "image/png": "[encoded data removed]"
          },
          "metadata": {
            "needs_background": "light"
          }
        }
      ]
    },
    {
      "cell_type": "markdown",
      "source": [
        "Все четыре параметра идентичны, тренды совпадают. \n",
        "Сезонности нет, поскольку временной отрезок - менее года\n"
      ],
      "metadata": {
        "id": "-8L1ZhXlsc4E"
      }
    },
    {
      "cell_type": "code",
      "source": [
        "# график временного ряда для объема транзакций\n",
        "ax=df['v'].plot(figsize=(12,6), title=xtitle) \n",
        "ax.autoscale(axis='x',tight=True)\n",
        "ax.set(xlabel=xlabel, ylabel=ylabel) "
      ],
      "metadata": {
        "colab": {
          "base_uri": "https://localhost:8080/",
          "height": 421
        },
        "id": "MKQHmneRpMCv",
        "outputId": "9cff3cbc-25d5-4ae3-d571-30ac50d0554b"
      },
      "execution_count": null,
      "outputs": [
        {
          "output_type": "execute_result",
          "data": {
            "text/plain": [
              "[Text(0, 0.5, 'value'), Text(0.5, 0, 'time')]"
            ]
          },
          "metadata": {},
          "execution_count": 15
        },
        {
          "output_type": "display_data",
          "data": {
            "text/plain": [
              "<Figure size 864x432 with 1 Axes>"
            ],
            "image/png": "[encoded data removed]"
          },
          "metadata": {
            "needs_background": "light"
          }
        }
      ]
    },
    {
      "cell_type": "code",
      "source": [
        "# для исследования выберем параметр цены открытия, построим график для него \n",
        "xtitle='BTC/USDT historical'\n",
        "ylabel='value'\n",
        "xlabel='time'\n",
        "\n",
        "ax=df['o'].plot(figsize=(12,6), title=xtitle) \n",
        "ax.autoscale(axis='x',tight=True) \n",
        "\n",
        "ax.set(xlabel=xlabel, ylabel=ylabel)"
      ],
      "metadata": {
        "colab": {
          "base_uri": "https://localhost:8080/",
          "height": 421
        },
        "id": "ywC_NA2HqMLQ",
        "outputId": "600a0915-85fc-4d5f-feba-14e20f86c122"
      },
      "execution_count": null,
      "outputs": [
        {
          "output_type": "execute_result",
          "data": {
            "text/plain": [
              "[Text(0, 0.5, 'value'), Text(0.5, 0, 'time')]"
            ]
          },
          "metadata": {},
          "execution_count": 16
        },
        {
          "output_type": "display_data",
          "data": {
            "text/plain": [
              "<Figure size 864x432 with 1 Axes>"
            ],
            "image/png": "[encoded data removed]"
          },
          "metadata": {
            "needs_background": "light"
          }
        }
      ]
    },
    {
      "cell_type": "code",
      "source": [
        "# cледует разделить столбец даты, отделить от него время\n",
        "df['Date'] = df['t'].dt.date\n",
        "df['Time'] = df['t'].dt.time\n",
        "df.head()"
      ],
      "metadata": {
        "colab": {
          "base_uri": "https://localhost:8080/",
          "height": 206
        },
        "id": "3ediBs1ErFmf",
        "outputId": "53523cf2-eeb1-4946-bd9e-bb648caa58ce"
      },
      "execution_count": null,
      "outputs": [
        {
          "output_type": "execute_result",
          "data": {
            "text/plain": [
              "                    t         o         h         l         c          v  \\\n",
              "0 2020-12-31 16:00:00  28782.01  28821.85  28763.94  28811.85  95.835795   \n",
              "1 2020-12-31 16:01:00  28812.64  28822.59  28714.29  28726.62  58.516227   \n",
              "2 2020-12-31 16:02:00  28728.28  28744.76  28684.69  28693.37  75.038373   \n",
              "3 2020-12-31 16:03:00  28693.37  28715.15  28682.09  28690.29  37.128193   \n",
              "4 2020-12-31 16:04:00  28690.29  28734.70  28680.00  28715.11  38.411112   \n",
              "\n",
              "         Date      Time  \n",
              "0  2020-12-31  16:00:00  \n",
              "1  2020-12-31  16:01:00  \n",
              "2  2020-12-31  16:02:00  \n",
              "3  2020-12-31  16:03:00  \n",
              "4  2020-12-31  16:04:00  "
            ],
            "text/html": [
              "\n",
              "  <div id=\"df-19a5ea0f-be51-43ef-9d71-eea43fa39435\">\n",
              "    <div class=\"colab-df-container\">\n",
              "      <div>\n",
              "<style scoped>\n",
              "    .dataframe tbody tr th:only-of-type {\n",
              "        vertical-align: middle;\n",
              "    }\n",
              "\n",
              "    .dataframe tbody tr th {\n",
              "        vertical-align: top;\n",
              "    }\n",
              "\n",
              "    .dataframe thead th {\n",
              "        text-align: right;\n",
              "    }\n",
              "</style>\n",
              "<table border=\"1\" class=\"dataframe\">\n",
              "  <thead>\n",
              "    <tr style=\"text-align: right;\">\n",
              "      <th></th>\n",
              "      <th>t</th>\n",
              "      <th>o</th>\n",
              "      <th>h</th>\n",
              "      <th>l</th>\n",
              "      <th>c</th>\n",
              "      <th>v</th>\n",
              "      <th>Date</th>\n",
              "      <th>Time</th>\n",
              "    </tr>\n",
              "  </thead>\n",
              "  <tbody>\n",
              "    <tr>\n",
              "      <th>0</th>\n",
              "      <td>2020-12-31 16:00:00</td>\n",
              "      <td>28782.01</td>\n",
              "      <td>28821.85</td>\n",
              "      <td>28763.94</td>\n",
              "      <td>28811.85</td>\n",
              "      <td>95.835795</td>\n",
              "      <td>2020-12-31</td>\n",
              "      <td>16:00:00</td>\n",
              "    </tr>\n",
              "    <tr>\n",
              "      <th>1</th>\n",
              "      <td>2020-12-31 16:01:00</td>\n",
              "      <td>28812.64</td>\n",
              "      <td>28822.59</td>\n",
              "      <td>28714.29</td>\n",
              "      <td>28726.62</td>\n",
              "      <td>58.516227</td>\n",
              "      <td>2020-12-31</td>\n",
              "      <td>16:01:00</td>\n",
              "    </tr>\n",
              "    <tr>\n",
              "      <th>2</th>\n",
              "      <td>2020-12-31 16:02:00</td>\n",
              "      <td>28728.28</td>\n",
              "      <td>28744.76</td>\n",
              "      <td>28684.69</td>\n",
              "      <td>28693.37</td>\n",
              "      <td>75.038373</td>\n",
              "      <td>2020-12-31</td>\n",
              "      <td>16:02:00</td>\n",
              "    </tr>\n",
              "    <tr>\n",
              "      <th>3</th>\n",
              "      <td>2020-12-31 16:03:00</td>\n",
              "      <td>28693.37</td>\n",
              "      <td>28715.15</td>\n",
              "      <td>28682.09</td>\n",
              "      <td>28690.29</td>\n",
              "      <td>37.128193</td>\n",
              "      <td>2020-12-31</td>\n",
              "      <td>16:03:00</td>\n",
              "    </tr>\n",
              "    <tr>\n",
              "      <th>4</th>\n",
              "      <td>2020-12-31 16:04:00</td>\n",
              "      <td>28690.29</td>\n",
              "      <td>28734.70</td>\n",
              "      <td>28680.00</td>\n",
              "      <td>28715.11</td>\n",
              "      <td>38.411112</td>\n",
              "      <td>2020-12-31</td>\n",
              "      <td>16:04:00</td>\n",
              "    </tr>\n",
              "  </tbody>\n",
              "</table>\n",
              "</div>\n",
              "      <button class=\"colab-df-convert\" onclick=\"convertToInteractive('df-19a5ea0f-be51-43ef-9d71-eea43fa39435')\"\n",
              "              title=\"Convert this dataframe to an interactive table.\"\n",
              "              style=\"display:none;\">\n",
              "        \n",
              "  <svg xmlns=\"http://www.w3.org/2000/svg\" height=\"24px\"viewBox=\"0 0 24 24\"\n",
              "       width=\"24px\">\n",
              "    <path d=\"M0 0h24v24H0V0z\" fill=\"none\"/>\n",
              "    <path d=\"M18.56 5.44l.94 2.06.94-2.06 2.06-.94-2.06-.94-.94-2.06-.94 2.06-2.06.94zm-11 1L8.5 8.5l.94-2.06 2.06-.94-2.06-.94L8.5 2.5l-.94 2.06-2.06.94zm10 10l.94 2.06.94-2.06 2.06-.94-2.06-.94-.94-2.06-.94 2.06-2.06.94z\"/><path d=\"M17.41 7.96l-1.37-1.37c-.4-.4-.92-.59-1.43-.59-.52 0-1.04.2-1.43.59L10.3 9.45l-7.72 7.72c-.78.78-.78 2.05 0 2.83L4 21.41c.39.39.9.59 1.41.59.51 0 1.02-.2 1.41-.59l7.78-7.78 2.81-2.81c.8-.78.8-2.07 0-2.86zM5.41 20L4 18.59l7.72-7.72 1.47 1.35L5.41 20z\"/>\n",
              "  </svg>\n",
              "      </button>\n",
              "      \n",
              "  <style>\n",
              "    .colab-df-container {\n",
              "      display:flex;\n",
              "      flex-wrap:wrap;\n",
              "      gap: 12px;\n",
              "    }\n",
              "\n",
              "    .colab-df-convert {\n",
              "      background-color: #E8F0FE;\n",
              "      border: none;\n",
              "      border-radius: 50%;\n",
              "      cursor: pointer;\n",
              "      display: none;\n",
              "      fill: #1967D2;\n",
              "      height: 32px;\n",
              "      padding: 0 0 0 0;\n",
              "      width: 32px;\n",
              "    }\n",
              "\n",
              "    .colab-df-convert:hover {\n",
              "      background-color: #E2EBFA;\n",
              "      box-shadow: 0px 1px 2px rgba(60, 64, 67, 0.3), 0px 1px 3px 1px rgba(60, 64, 67, 0.15);\n",
              "      fill: #174EA6;\n",
              "    }\n",
              "\n",
              "    [theme=dark] .colab-df-convert {\n",
              "      background-color: #3B4455;\n",
              "      fill: #D2E3FC;\n",
              "    }\n",
              "\n",
              "    [theme=dark] .colab-df-convert:hover {\n",
              "      background-color: #434B5C;\n",
              "      box-shadow: 0px 1px 3px 1px rgba(0, 0, 0, 0.15);\n",
              "      filter: drop-shadow(0px 1px 2px rgba(0, 0, 0, 0.3));\n",
              "      fill: #FFFFFF;\n",
              "    }\n",
              "  </style>\n",
              "\n",
              "      <script>\n",
              "        const buttonEl =\n",
              "          document.querySelector('#df-19a5ea0f-be51-43ef-9d71-eea43fa39435 button.colab-df-convert');\n",
              "        buttonEl.style.display =\n",
              "          google.colab.kernel.accessAllowed ? 'block' : 'none';\n",
              "\n",
              "        async function convertToInteractive(key) {\n",
              "          const element = document.querySelector('#df-19a5ea0f-be51-43ef-9d71-eea43fa39435');\n",
              "          const dataTable =\n",
              "            await google.colab.kernel.invokeFunction('convertToInteractive',\n",
              "                                                     [key], {});\n",
              "          if (!dataTable) return;\n",
              "\n",
              "          const docLinkHtml = 'Like what you see? Visit the ' +\n",
              "            '<a target=\"_blank\" href=https://colab.research.google.com/notebooks/data_table.ipynb>data table notebook</a>'\n",
              "            + ' to learn more about interactive tables.';\n",
              "          element.innerHTML = '';\n",
              "          dataTable['output_type'] = 'display_data';\n",
              "          await google.colab.output.renderOutput(dataTable, element);\n",
              "          const docLink = document.createElement('div');\n",
              "          docLink.innerHTML = docLinkHtml;\n",
              "          element.appendChild(docLink);\n",
              "        }\n",
              "      </script>\n",
              "    </div>\n",
              "  </div>\n",
              "  "
            ]
          },
          "metadata": {},
          "execution_count": 17
        }
      ]
    },
    {
      "cell_type": "code",
      "source": [
        "# cгруппируем данные по дате и выведем среднее по отдельным дням\n",
        "df_groupped = df.groupby('Date').mean()\n",
        "df_groupped"
      ],
      "metadata": {
        "colab": {
          "base_uri": "https://localhost:8080/",
          "height": 455
        },
        "id": "5wlajCoYsDWv",
        "outputId": "4483278f-4a55-4d23-edb2-1af8c62e942a"
      },
      "execution_count": null,
      "outputs": [
        {
          "output_type": "execute_result",
          "data": {
            "text/plain": [
              "                       o             h             l             c          v\n",
              "Date                                                                         \n",
              "2020-12-31  28856.863604  28872.433854  28839.355250  28857.100021  37.823038\n",
              "2021-01-01  29212.370965  29227.985236  29195.374562  29212.610701  37.627031\n",
              "2021-01-02  30693.657375  30725.315458  30660.577542  30695.574403  90.273523\n",
              "2021-01-03  33448.355861  33489.457715  33405.464875  33448.991854  83.998310\n",
              "2021-01-04  31826.882174  31878.486146  31773.153313  31826.140382  97.847143\n",
              "...                  ...           ...           ...           ...        ...\n",
              "2021-12-01  57355.024056  57392.058590  57318.547785  57355.191785  31.219886\n",
              "2021-12-02  56654.304111  56689.727486  56619.340458  56653.824271  26.093097\n",
              "2021-12-03  55832.471910  55870.960528  55790.326847  55830.511861  40.922007\n",
              "2021-12-04  48963.639062  49025.057132  48896.442694  48960.507250  79.307898\n",
              "2021-12-05  49137.937219  49175.220490  49099.411521  49136.699083  32.731912\n",
              "\n",
              "[340 rows x 5 columns]"
            ],
            "text/html": [
              "\n",
              "  <div id=\"df-6b12d21b-dc21-495a-a04f-0719559ee8b2\">\n",
              "    <div class=\"colab-df-container\">\n",
              "      <div>\n",
              "<style scoped>\n",
              "    .dataframe tbody tr th:only-of-type {\n",
              "        vertical-align: middle;\n",
              "    }\n",
              "\n",
              "    .dataframe tbody tr th {\n",
              "        vertical-align: top;\n",
              "    }\n",
              "\n",
              "    .dataframe thead th {\n",
              "        text-align: right;\n",
              "    }\n",
              "</style>\n",
              "<table border=\"1\" class=\"dataframe\">\n",
              "  <thead>\n",
              "    <tr style=\"text-align: right;\">\n",
              "      <th></th>\n",
              "      <th>o</th>\n",
              "      <th>h</th>\n",
              "      <th>l</th>\n",
              "      <th>c</th>\n",
              "      <th>v</th>\n",
              "    </tr>\n",
              "    <tr>\n",
              "      <th>Date</th>\n",
              "      <th></th>\n",
              "      <th></th>\n",
              "      <th></th>\n",
              "      <th></th>\n",
              "      <th></th>\n",
              "    </tr>\n",
              "  </thead>\n",
              "  <tbody>\n",
              "    <tr>\n",
              "      <th>2020-12-31</th>\n",
              "      <td>28856.863604</td>\n",
              "      <td>28872.433854</td>\n",
              "      <td>28839.355250</td>\n",
              "      <td>28857.100021</td>\n",
              "      <td>37.823038</td>\n",
              "    </tr>\n",
              "    <tr>\n",
              "      <th>2021-01-01</th>\n",
              "      <td>29212.370965</td>\n",
              "      <td>29227.985236</td>\n",
              "      <td>29195.374562</td>\n",
              "      <td>29212.610701</td>\n",
              "      <td>37.627031</td>\n",
              "    </tr>\n",
              "    <tr>\n",
              "      <th>2021-01-02</th>\n",
              "      <td>30693.657375</td>\n",
              "      <td>30725.315458</td>\n",
              "      <td>30660.577542</td>\n",
              "      <td>30695.574403</td>\n",
              "      <td>90.273523</td>\n",
              "    </tr>\n",
              "    <tr>\n",
              "      <th>2021-01-03</th>\n",
              "      <td>33448.355861</td>\n",
              "      <td>33489.457715</td>\n",
              "      <td>33405.464875</td>\n",
              "      <td>33448.991854</td>\n",
              "      <td>83.998310</td>\n",
              "    </tr>\n",
              "    <tr>\n",
              "      <th>2021-01-04</th>\n",
              "      <td>31826.882174</td>\n",
              "      <td>31878.486146</td>\n",
              "      <td>31773.153313</td>\n",
              "      <td>31826.140382</td>\n",
              "      <td>97.847143</td>\n",
              "    </tr>\n",
              "    <tr>\n",
              "      <th>...</th>\n",
              "      <td>...</td>\n",
              "      <td>...</td>\n",
              "      <td>...</td>\n",
              "      <td>...</td>\n",
              "      <td>...</td>\n",
              "    </tr>\n",
              "    <tr>\n",
              "      <th>2021-12-01</th>\n",
              "      <td>57355.024056</td>\n",
              "      <td>57392.058590</td>\n",
              "      <td>57318.547785</td>\n",
              "      <td>57355.191785</td>\n",
              "      <td>31.219886</td>\n",
              "    </tr>\n",
              "    <tr>\n",
              "      <th>2021-12-02</th>\n",
              "      <td>56654.304111</td>\n",
              "      <td>56689.727486</td>\n",
              "      <td>56619.340458</td>\n",
              "      <td>56653.824271</td>\n",
              "      <td>26.093097</td>\n",
              "    </tr>\n",
              "    <tr>\n",
              "      <th>2021-12-03</th>\n",
              "      <td>55832.471910</td>\n",
              "      <td>55870.960528</td>\n",
              "      <td>55790.326847</td>\n",
              "      <td>55830.511861</td>\n",
              "      <td>40.922007</td>\n",
              "    </tr>\n",
              "    <tr>\n",
              "      <th>2021-12-04</th>\n",
              "      <td>48963.639062</td>\n",
              "      <td>49025.057132</td>\n",
              "      <td>48896.442694</td>\n",
              "      <td>48960.507250</td>\n",
              "      <td>79.307898</td>\n",
              "    </tr>\n",
              "    <tr>\n",
              "      <th>2021-12-05</th>\n",
              "      <td>49137.937219</td>\n",
              "      <td>49175.220490</td>\n",
              "      <td>49099.411521</td>\n",
              "      <td>49136.699083</td>\n",
              "      <td>32.731912</td>\n",
              "    </tr>\n",
              "  </tbody>\n",
              "</table>\n",
              "<p>340 rows × 5 columns</p>\n",
              "</div>\n",
              "      <button class=\"colab-df-convert\" onclick=\"convertToInteractive('df-6b12d21b-dc21-495a-a04f-0719559ee8b2')\"\n",
              "              title=\"Convert this dataframe to an interactive table.\"\n",
              "              style=\"display:none;\">\n",
              "        \n",
              "  <svg xmlns=\"http://www.w3.org/2000/svg\" height=\"24px\"viewBox=\"0 0 24 24\"\n",
              "       width=\"24px\">\n",
              "    <path d=\"M0 0h24v24H0V0z\" fill=\"none\"/>\n",
              "    <path d=\"M18.56 5.44l.94 2.06.94-2.06 2.06-.94-2.06-.94-.94-2.06-.94 2.06-2.06.94zm-11 1L8.5 8.5l.94-2.06 2.06-.94-2.06-.94L8.5 2.5l-.94 2.06-2.06.94zm10 10l.94 2.06.94-2.06 2.06-.94-2.06-.94-.94-2.06-.94 2.06-2.06.94z\"/><path d=\"M17.41 7.96l-1.37-1.37c-.4-.4-.92-.59-1.43-.59-.52 0-1.04.2-1.43.59L10.3 9.45l-7.72 7.72c-.78.78-.78 2.05 0 2.83L4 21.41c.39.39.9.59 1.41.59.51 0 1.02-.2 1.41-.59l7.78-7.78 2.81-2.81c.8-.78.8-2.07 0-2.86zM5.41 20L4 18.59l7.72-7.72 1.47 1.35L5.41 20z\"/>\n",
              "  </svg>\n",
              "      </button>\n",
              "      \n",
              "  <style>\n",
              "    .colab-df-container {\n",
              "      display:flex;\n",
              "      flex-wrap:wrap;\n",
              "      gap: 12px;\n",
              "    }\n",
              "\n",
              "    .colab-df-convert {\n",
              "      background-color: #E8F0FE;\n",
              "      border: none;\n",
              "      border-radius: 50%;\n",
              "      cursor: pointer;\n",
              "      display: none;\n",
              "      fill: #1967D2;\n",
              "      height: 32px;\n",
              "      padding: 0 0 0 0;\n",
              "      width: 32px;\n",
              "    }\n",
              "\n",
              "    .colab-df-convert:hover {\n",
              "      background-color: #E2EBFA;\n",
              "      box-shadow: 0px 1px 2px rgba(60, 64, 67, 0.3), 0px 1px 3px 1px rgba(60, 64, 67, 0.15);\n",
              "      fill: #174EA6;\n",
              "    }\n",
              "\n",
              "    [theme=dark] .colab-df-convert {\n",
              "      background-color: #3B4455;\n",
              "      fill: #D2E3FC;\n",
              "    }\n",
              "\n",
              "    [theme=dark] .colab-df-convert:hover {\n",
              "      background-color: #434B5C;\n",
              "      box-shadow: 0px 1px 3px 1px rgba(0, 0, 0, 0.15);\n",
              "      filter: drop-shadow(0px 1px 2px rgba(0, 0, 0, 0.3));\n",
              "      fill: #FFFFFF;\n",
              "    }\n",
              "  </style>\n",
              "\n",
              "      <script>\n",
              "        const buttonEl =\n",
              "          document.querySelector('#df-6b12d21b-dc21-495a-a04f-0719559ee8b2 button.colab-df-convert');\n",
              "        buttonEl.style.display =\n",
              "          google.colab.kernel.accessAllowed ? 'block' : 'none';\n",
              "\n",
              "        async function convertToInteractive(key) {\n",
              "          const element = document.querySelector('#df-6b12d21b-dc21-495a-a04f-0719559ee8b2');\n",
              "          const dataTable =\n",
              "            await google.colab.kernel.invokeFunction('convertToInteractive',\n",
              "                                                     [key], {});\n",
              "          if (!dataTable) return;\n",
              "\n",
              "          const docLinkHtml = 'Like what you see? Visit the ' +\n",
              "            '<a target=\"_blank\" href=https://colab.research.google.com/notebooks/data_table.ipynb>data table notebook</a>'\n",
              "            + ' to learn more about interactive tables.';\n",
              "          element.innerHTML = '';\n",
              "          dataTable['output_type'] = 'display_data';\n",
              "          await google.colab.output.renderOutput(dataTable, element);\n",
              "          const docLink = document.createElement('div');\n",
              "          docLink.innerHTML = docLinkHtml;\n",
              "          element.appendChild(docLink);\n",
              "        }\n",
              "      </script>\n",
              "    </div>\n",
              "  </div>\n",
              "  "
            ]
          },
          "metadata": {},
          "execution_count": 19
        }
      ]
    },
    {
      "cell_type": "code",
      "source": [
        "# ETS декомпозиция\n",
        "import matplotlib.pyplot as plt\n",
        "decomp=seasonal_decompose(df_groupped['o'], model='add', period=12)\n",
        "decomp.plot()\n",
        "plt.tight_layout()"
      ],
      "metadata": {
        "colab": {
          "base_uri": "https://localhost:8080/",
          "height": 297
        },
        "id": "FWxadxvPs3bn",
        "outputId": "b3317b64-929b-4e41-f2b8-fbc3ceaace07"
      },
      "execution_count": null,
      "outputs": [
        {
          "output_type": "display_data",
          "data": {
            "text/plain": [
              "<Figure size 432x288 with 4 Axes>"
            ],
            "image/png": "[encoded data removed]"
          },
          "metadata": {
            "needs_background": "light"
          }
        }
      ]
    },
    {
      "cell_type": "code",
      "source": [
        "#выведем корреляцию по всем параметрам\n",
        "df.corr()"
      ],
      "metadata": {
        "colab": {
          "base_uri": "https://localhost:8080/",
          "height": 206
        },
        "id": "4RrhVphfLJm-",
        "outputId": "8a201b86-34d2-415d-a4d8-e1ae06da8c1d"
      },
      "execution_count": null,
      "outputs": [
        {
          "output_type": "execute_result",
          "data": {
            "text/plain": [
              "          o         h         l         c         v\n",
              "o  1.000000  0.999989  0.999989  0.999983 -0.161464\n",
              "h  0.999989  1.000000  0.999980  0.999990 -0.159233\n",
              "l  0.999989  0.999980  1.000000  0.999990 -0.163823\n",
              "c  0.999983  0.999990  0.999990  1.000000 -0.161542\n",
              "v -0.161464 -0.159233 -0.163823 -0.161542  1.000000"
            ],
            "text/html": [
              "\n",
              "  <div id=\"df-7daa4495-6336-4d38-857c-b70fadf49361\">\n",
              "    <div class=\"colab-df-container\">\n",
              "      <div>\n",
              "<style scoped>\n",
              "    .dataframe tbody tr th:only-of-type {\n",
              "        vertical-align: middle;\n",
              "    }\n",
              "\n",
              "    .dataframe tbody tr th {\n",
              "        vertical-align: top;\n",
              "    }\n",
              "\n",
              "    .dataframe thead th {\n",
              "        text-align: right;\n",
              "    }\n",
              "</style>\n",
              "<table border=\"1\" class=\"dataframe\">\n",
              "  <thead>\n",
              "    <tr style=\"text-align: right;\">\n",
              "      <th></th>\n",
              "      <th>o</th>\n",
              "      <th>h</th>\n",
              "      <th>l</th>\n",
              "      <th>c</th>\n",
              "      <th>v</th>\n",
              "    </tr>\n",
              "  </thead>\n",
              "  <tbody>\n",
              "    <tr>\n",
              "      <th>o</th>\n",
              "      <td>1.000000</td>\n",
              "      <td>0.999989</td>\n",
              "      <td>0.999989</td>\n",
              "      <td>0.999983</td>\n",
              "      <td>-0.161464</td>\n",
              "    </tr>\n",
              "    <tr>\n",
              "      <th>h</th>\n",
              "      <td>0.999989</td>\n",
              "      <td>1.000000</td>\n",
              "      <td>0.999980</td>\n",
              "      <td>0.999990</td>\n",
              "      <td>-0.159233</td>\n",
              "    </tr>\n",
              "    <tr>\n",
              "      <th>l</th>\n",
              "      <td>0.999989</td>\n",
              "      <td>0.999980</td>\n",
              "      <td>1.000000</td>\n",
              "      <td>0.999990</td>\n",
              "      <td>-0.163823</td>\n",
              "    </tr>\n",
              "    <tr>\n",
              "      <th>c</th>\n",
              "      <td>0.999983</td>\n",
              "      <td>0.999990</td>\n",
              "      <td>0.999990</td>\n",
              "      <td>1.000000</td>\n",
              "      <td>-0.161542</td>\n",
              "    </tr>\n",
              "    <tr>\n",
              "      <th>v</th>\n",
              "      <td>-0.161464</td>\n",
              "      <td>-0.159233</td>\n",
              "      <td>-0.163823</td>\n",
              "      <td>-0.161542</td>\n",
              "      <td>1.000000</td>\n",
              "    </tr>\n",
              "  </tbody>\n",
              "</table>\n",
              "</div>\n",
              "      <button class=\"colab-df-convert\" onclick=\"convertToInteractive('df-7daa4495-6336-4d38-857c-b70fadf49361')\"\n",
              "              title=\"Convert this dataframe to an interactive table.\"\n",
              "              style=\"display:none;\">\n",
              "        \n",
              "  <svg xmlns=\"http://www.w3.org/2000/svg\" height=\"24px\"viewBox=\"0 0 24 24\"\n",
              "       width=\"24px\">\n",
              "    <path d=\"M0 0h24v24H0V0z\" fill=\"none\"/>\n",
              "    <path d=\"M18.56 5.44l.94 2.06.94-2.06 2.06-.94-2.06-.94-.94-2.06-.94 2.06-2.06.94zm-11 1L8.5 8.5l.94-2.06 2.06-.94-2.06-.94L8.5 2.5l-.94 2.06-2.06.94zm10 10l.94 2.06.94-2.06 2.06-.94-2.06-.94-.94-2.06-.94 2.06-2.06.94z\"/><path d=\"M17.41 7.96l-1.37-1.37c-.4-.4-.92-.59-1.43-.59-.52 0-1.04.2-1.43.59L10.3 9.45l-7.72 7.72c-.78.78-.78 2.05 0 2.83L4 21.41c.39.39.9.59 1.41.59.51 0 1.02-.2 1.41-.59l7.78-7.78 2.81-2.81c.8-.78.8-2.07 0-2.86zM5.41 20L4 18.59l7.72-7.72 1.47 1.35L5.41 20z\"/>\n",
              "  </svg>\n",
              "      </button>\n",
              "      \n",
              "  <style>\n",
              "    .colab-df-container {\n",
              "      display:flex;\n",
              "      flex-wrap:wrap;\n",
              "      gap: 12px;\n",
              "    }\n",
              "\n",
              "    .colab-df-convert {\n",
              "      background-color: #E8F0FE;\n",
              "      border: none;\n",
              "      border-radius: 50%;\n",
              "      cursor: pointer;\n",
              "      display: none;\n",
              "      fill: #1967D2;\n",
              "      height: 32px;\n",
              "      padding: 0 0 0 0;\n",
              "      width: 32px;\n",
              "    }\n",
              "\n",
              "    .colab-df-convert:hover {\n",
              "      background-color: #E2EBFA;\n",
              "      box-shadow: 0px 1px 2px rgba(60, 64, 67, 0.3), 0px 1px 3px 1px rgba(60, 64, 67, 0.15);\n",
              "      fill: #174EA6;\n",
              "    }\n",
              "\n",
              "    [theme=dark] .colab-df-convert {\n",
              "      background-color: #3B4455;\n",
              "      fill: #D2E3FC;\n",
              "    }\n",
              "\n",
              "    [theme=dark] .colab-df-convert:hover {\n",
              "      background-color: #434B5C;\n",
              "      box-shadow: 0px 1px 3px 1px rgba(0, 0, 0, 0.15);\n",
              "      filter: drop-shadow(0px 1px 2px rgba(0, 0, 0, 0.3));\n",
              "      fill: #FFFFFF;\n",
              "    }\n",
              "  </style>\n",
              "\n",
              "      <script>\n",
              "        const buttonEl =\n",
              "          document.querySelector('#df-7daa4495-6336-4d38-857c-b70fadf49361 button.colab-df-convert');\n",
              "        buttonEl.style.display =\n",
              "          google.colab.kernel.accessAllowed ? 'block' : 'none';\n",
              "\n",
              "        async function convertToInteractive(key) {\n",
              "          const element = document.querySelector('#df-7daa4495-6336-4d38-857c-b70fadf49361');\n",
              "          const dataTable =\n",
              "            await google.colab.kernel.invokeFunction('convertToInteractive',\n",
              "                                                     [key], {});\n",
              "          if (!dataTable) return;\n",
              "\n",
              "          const docLinkHtml = 'Like what you see? Visit the ' +\n",
              "            '<a target=\"_blank\" href=https://colab.research.google.com/notebooks/data_table.ipynb>data table notebook</a>'\n",
              "            + ' to learn more about interactive tables.';\n",
              "          element.innerHTML = '';\n",
              "          dataTable['output_type'] = 'display_data';\n",
              "          await google.colab.output.renderOutput(dataTable, element);\n",
              "          const docLink = document.createElement('div');\n",
              "          docLink.innerHTML = docLinkHtml;\n",
              "          element.appendChild(docLink);\n",
              "        }\n",
              "      </script>\n",
              "    </div>\n",
              "  </div>\n",
              "  "
            ]
          },
          "metadata": {},
          "execution_count": 21
        }
      ]
    },
    {
      "cell_type": "code",
      "source": [
        "# построение графиков автокорреляции (ACF) и частичной автокорреляции (РACF)\n",
        "from matplotlib import pyplot\n",
        "plot_acf(df_groupped['o'], lags=12)\n",
        "pyplot.show()"
      ],
      "metadata": {
        "colab": {
          "base_uri": "https://localhost:8080/",
          "height": 281
        },
        "id": "2YhGZpr03UO4",
        "outputId": "19d124ae-bc4b-40d3-8f8c-128208f082d0"
      },
      "execution_count": null,
      "outputs": [
        {
          "output_type": "display_data",
          "data": {
            "text/plain": [
              "<Figure size 432x288 with 1 Axes>"
            ],
            "image/png": "[encoded data removed]"
          },
          "metadata": {
            "needs_background": "light"
          }
        }
      ]
    },
    {
      "cell_type": "code",
      "source": [
        "plot_pacf(df_groupped['o'], lags=12)\n",
        "pyplot.show()"
      ],
      "metadata": {
        "colab": {
          "base_uri": "https://localhost:8080/",
          "height": 281
        },
        "id": "IXMEc2Zl4cjd",
        "outputId": "27862435-8d81-4a75-b5b6-d1be110ecc86"
      },
      "execution_count": null,
      "outputs": [
        {
          "output_type": "display_data",
          "data": {
            "text/plain": [
              "<Figure size 432x288 with 1 Axes>"
            ],
            "image/png": "[encoded data removed]"
          },
          "metadata": {
            "needs_background": "light"
          }
        }
      ]
    },
    {
      "cell_type": "markdown",
      "source": [
        "Автокореляция показывает насколько данные за сегодня коррелируют с данными за прошлые дни\n",
        "\n",
        "Частичная корреляция показывает насколько данные на день зависят от других дней | Стабильность кореляции во времени (сколько шагов назад кореляция была стабильна)\n",
        "\n",
        "По графику видно что корреляция сохраняется вплоть до 12 лагов, в отличии от частичной корреляции"
      ],
      "metadata": {
        "id": "F5kSq2yM48HU"
      }
    },
    {
      "cell_type": "code",
      "source": [
        "# Запускаем auto_arima чтобы получить набор гиперпараметров\n",
        "auto_arima(df_groupped['o'], seasonal=True, m=12).summary()"
      ],
      "metadata": {
        "colab": {
          "base_uri": "https://localhost:8080/",
          "height": 399
        },
        "id": "Y7iKkRQst2Jp",
        "outputId": "f6da0e6a-9aa1-41ff-edca-ccd95cfe8cd6"
      },
      "execution_count": null,
      "outputs": [
        {
          "output_type": "execute_result",
          "data": {
            "text/plain": [
              "<class 'statsmodels.iolib.summary.Summary'>\n",
              "\"\"\"\n",
              "                               SARIMAX Results                                \n",
              "==============================================================================\n",
              "Dep. Variable:                      y   No. Observations:                  340\n",
              "Model:               SARIMAX(1, 1, 0)   Log Likelihood               -2984.412\n",
              "Date:                Sun, 12 Feb 2023   AIC                           5972.823\n",
              "Time:                        06:36:31   BIC                           5980.475\n",
              "Sample:                    12-31-2020   HQIC                          5975.872\n",
              "                         - 12-05-2021                                         \n",
              "Covariance Type:                  opg                                         \n",
              "==============================================================================\n",
              "                 coef    std err          z      P>|z|      [0.025      0.975]\n",
              "------------------------------------------------------------------------------\n",
              "ar.L1          0.1136      0.044      2.562      0.010       0.027       0.201\n",
              "sigma2      2.585e+06   1.44e+05     17.986      0.000     2.3e+06    2.87e+06\n",
              "===================================================================================\n",
              "Ljung-Box (L1) (Q):                   0.69   Jarque-Bera (JB):                86.84\n",
              "Prob(Q):                              0.41   Prob(JB):                         0.00\n",
              "Heteroskedasticity (H):               0.66   Skew:                            -0.67\n",
              "Prob(H) (two-sided):                  0.03   Kurtosis:                         5.08\n",
              "===================================================================================\n",
              "\n",
              "Warnings:\n",
              "[1] Covariance matrix calculated using the outer product of gradients (complex-step).\n",
              "\"\"\""
            ],
            "text/html": [
              "<table class=\"simpletable\">\n",
              "<caption>SARIMAX Results</caption>\n",
              "<tr>\n",
              "  <th>Dep. Variable:</th>           <td>y</td>        <th>  No. Observations:  </th>    <td>340</td>   \n",
              "</tr>\n",
              "<tr>\n",
              "  <th>Model:</th>           <td>SARIMAX(1, 1, 0)</td> <th>  Log Likelihood     </th> <td>-2984.412</td>\n",
              "</tr>\n",
              "<tr>\n",
              "  <th>Date:</th>            <td>Sun, 12 Feb 2023</td> <th>  AIC                </th> <td>5972.823</td> \n",
              "</tr>\n",
              "<tr>\n",
              "  <th>Time:</th>                <td>06:36:31</td>     <th>  BIC                </th> <td>5980.475</td> \n",
              "</tr>\n",
              "<tr>\n",
              "  <th>Sample:</th>             <td>12-31-2020</td>    <th>  HQIC               </th> <td>5975.872</td> \n",
              "</tr>\n",
              "<tr>\n",
              "  <th></th>                   <td>- 12-05-2021</td>   <th>                     </th>     <td> </td>    \n",
              "</tr>\n",
              "<tr>\n",
              "  <th>Covariance Type:</th>        <td>opg</td>       <th>                     </th>     <td> </td>    \n",
              "</tr>\n",
              "</table>\n",
              "<table class=\"simpletable\">\n",
              "<tr>\n",
              "     <td></td>       <th>coef</th>     <th>std err</th>      <th>z</th>      <th>P>|z|</th>  <th>[0.025</th>    <th>0.975]</th>  \n",
              "</tr>\n",
              "<tr>\n",
              "  <th>ar.L1</th>  <td>    0.1136</td> <td>    0.044</td> <td>    2.562</td> <td> 0.010</td> <td>    0.027</td> <td>    0.201</td>\n",
              "</tr>\n",
              "<tr>\n",
              "  <th>sigma2</th> <td> 2.585e+06</td> <td> 1.44e+05</td> <td>   17.986</td> <td> 0.000</td> <td>  2.3e+06</td> <td> 2.87e+06</td>\n",
              "</tr>\n",
              "</table>\n",
              "<table class=\"simpletable\">\n",
              "<tr>\n",
              "  <th>Ljung-Box (L1) (Q):</th>     <td>0.69</td> <th>  Jarque-Bera (JB):  </th> <td>86.84</td>\n",
              "</tr>\n",
              "<tr>\n",
              "  <th>Prob(Q):</th>                <td>0.41</td> <th>  Prob(JB):          </th> <td>0.00</td> \n",
              "</tr>\n",
              "<tr>\n",
              "  <th>Heteroskedasticity (H):</th> <td>0.66</td> <th>  Skew:              </th> <td>-0.67</td>\n",
              "</tr>\n",
              "<tr>\n",
              "  <th>Prob(H) (two-sided):</th>    <td>0.03</td> <th>  Kurtosis:          </th> <td>5.08</td> \n",
              "</tr>\n",
              "</table><br/><br/>Warnings:<br/>[1] Covariance matrix calculated using the outer product of gradients (complex-step)."
            ]
          },
          "metadata": {},
          "execution_count": 24
        }
      ]
    },
    {
      "cell_type": "markdown",
      "source": [
        "Подбор параметров выдал наилучшую модель: SARIMAX(1, 1, 0) AIC=5972.823. \n",
        "Также видно, что **нет сезонного компонента.** "
      ],
      "metadata": {
        "id": "Id7FzAhGwaEd"
      }
    },
    {
      "cell_type": "code",
      "source": [
        "# Определим длину датафрейма \n",
        "len(df_groupped)"
      ],
      "metadata": {
        "colab": {
          "base_uri": "https://localhost:8080/"
        },
        "id": "VshMufU2ufAF",
        "outputId": "e6704d40-e69e-4319-c22b-16e09002fcc1"
      },
      "execution_count": null,
      "outputs": [
        {
          "output_type": "execute_result",
          "data": {
            "text/plain": [
              "340"
            ]
          },
          "metadata": {},
          "execution_count": 25
        }
      ]
    },
    {
      "cell_type": "code",
      "source": [
        "# Разделим данные на test и train. Установим последние 12 записей в качестве тестовой выборки\n",
        "train=df_groupped.iloc[:328]\n",
        "test=df_groupped.iloc[328:]"
      ],
      "metadata": {
        "id": "1H-46f0zvAd-"
      },
      "execution_count": null,
      "outputs": []
    },
    {
      "cell_type": "code",
      "source": [
        "#Обучим метод SARIMA с полученными гиперпараметрами на train выборке и выведем summary получившегося результата (нет сезонной компоненты)\n",
        "model=SARIMAX(train['o'], order=(1, 1, 0)) \n",
        "results=model.fit() \n",
        "results.summary()"
      ],
      "metadata": {
        "colab": {
          "base_uri": "https://localhost:8080/",
          "height": 399
        },
        "id": "Va55hnCtvehK",
        "outputId": "a5a68a16-ef4f-48ee-c7a2-ff0b0770613e"
      },
      "execution_count": null,
      "outputs": [
        {
          "output_type": "execute_result",
          "data": {
            "text/plain": [
              "<class 'statsmodels.iolib.summary.Summary'>\n",
              "\"\"\"\n",
              "                               SARIMAX Results                                \n",
              "==============================================================================\n",
              "Dep. Variable:                      o   No. Observations:                  328\n",
              "Model:               SARIMAX(1, 1, 0)   Log Likelihood               -2871.592\n",
              "Date:                Sun, 12 Feb 2023   AIC                           5747.184\n",
              "Time:                        06:37:22   BIC                           5754.764\n",
              "Sample:                    12-31-2020   HQIC                          5750.208\n",
              "                         - 11-23-2021                                         \n",
              "Covariance Type:                  opg                                         \n",
              "==============================================================================\n",
              "                 coef    std err          z      P>|z|      [0.025      0.975]\n",
              "------------------------------------------------------------------------------\n",
              "ar.L1          0.1185      0.042      2.803      0.005       0.036       0.201\n",
              "sigma2      2.471e+06   1.48e+05     16.691      0.000    2.18e+06    2.76e+06\n",
              "===================================================================================\n",
              "Ljung-Box (L1) (Q):                   0.78   Jarque-Bera (JB):                52.65\n",
              "Prob(Q):                              0.38   Prob(JB):                         0.00\n",
              "Heteroskedasticity (H):               0.52   Skew:                            -0.54\n",
              "Prob(H) (two-sided):                  0.00   Kurtosis:                         4.64\n",
              "===================================================================================\n",
              "\n",
              "Warnings:\n",
              "[1] Covariance matrix calculated using the outer product of gradients (complex-step).\n",
              "\"\"\""
            ],
            "text/html": [
              "<table class=\"simpletable\">\n",
              "<caption>SARIMAX Results</caption>\n",
              "<tr>\n",
              "  <th>Dep. Variable:</th>           <td>o</td>        <th>  No. Observations:  </th>    <td>328</td>   \n",
              "</tr>\n",
              "<tr>\n",
              "  <th>Model:</th>           <td>SARIMAX(1, 1, 0)</td> <th>  Log Likelihood     </th> <td>-2871.592</td>\n",
              "</tr>\n",
              "<tr>\n",
              "  <th>Date:</th>            <td>Sun, 12 Feb 2023</td> <th>  AIC                </th> <td>5747.184</td> \n",
              "</tr>\n",
              "<tr>\n",
              "  <th>Time:</th>                <td>06:37:22</td>     <th>  BIC                </th> <td>5754.764</td> \n",
              "</tr>\n",
              "<tr>\n",
              "  <th>Sample:</th>             <td>12-31-2020</td>    <th>  HQIC               </th> <td>5750.208</td> \n",
              "</tr>\n",
              "<tr>\n",
              "  <th></th>                   <td>- 11-23-2021</td>   <th>                     </th>     <td> </td>    \n",
              "</tr>\n",
              "<tr>\n",
              "  <th>Covariance Type:</th>        <td>opg</td>       <th>                     </th>     <td> </td>    \n",
              "</tr>\n",
              "</table>\n",
              "<table class=\"simpletable\">\n",
              "<tr>\n",
              "     <td></td>       <th>coef</th>     <th>std err</th>      <th>z</th>      <th>P>|z|</th>  <th>[0.025</th>    <th>0.975]</th>  \n",
              "</tr>\n",
              "<tr>\n",
              "  <th>ar.L1</th>  <td>    0.1185</td> <td>    0.042</td> <td>    2.803</td> <td> 0.005</td> <td>    0.036</td> <td>    0.201</td>\n",
              "</tr>\n",
              "<tr>\n",
              "  <th>sigma2</th> <td> 2.471e+06</td> <td> 1.48e+05</td> <td>   16.691</td> <td> 0.000</td> <td> 2.18e+06</td> <td> 2.76e+06</td>\n",
              "</tr>\n",
              "</table>\n",
              "<table class=\"simpletable\">\n",
              "<tr>\n",
              "  <th>Ljung-Box (L1) (Q):</th>     <td>0.78</td> <th>  Jarque-Bera (JB):  </th> <td>52.65</td>\n",
              "</tr>\n",
              "<tr>\n",
              "  <th>Prob(Q):</th>                <td>0.38</td> <th>  Prob(JB):          </th> <td>0.00</td> \n",
              "</tr>\n",
              "<tr>\n",
              "  <th>Heteroskedasticity (H):</th> <td>0.52</td> <th>  Skew:              </th> <td>-0.54</td>\n",
              "</tr>\n",
              "<tr>\n",
              "  <th>Prob(H) (two-sided):</th>    <td>0.00</td> <th>  Kurtosis:          </th> <td>4.64</td> \n",
              "</tr>\n",
              "</table><br/><br/>Warnings:<br/>[1] Covariance matrix calculated using the outer product of gradients (complex-step)."
            ]
          },
          "metadata": {},
          "execution_count": 27
        }
      ]
    },
    {
      "cell_type": "markdown",
      "source": [
        "Модель показала хороший результат: параметр P>|z| не превышает 0.5"
      ],
      "metadata": {
        "id": "ODkQ-nXRxmQd"
      }
    },
    {
      "cell_type": "code",
      "source": [
        "# Получаем прогнозируемые значения \n",
        "xstart=len(train)\n",
        "xend=len(train)+len(test)-1\n",
        "\n",
        "predictions=results.predict(start=xstart, end=xend, dynamic=False, typ='levels').rename('Предсказание SARIMAX')\n",
        "\n",
        "for i in range(len(predictions)):\n",
        "  print(f\"predicted={predictions[i]:<11.10}, expected={test['o'][i]}\")"
      ],
      "metadata": {
        "colab": {
          "base_uri": "https://localhost:8080/"
        },
        "id": "0Rao6VWNxndA",
        "outputId": "af6b236a-230f-4053-f309-30a9b06f63e3"
      },
      "execution_count": null,
      "outputs": [
        {
          "output_type": "stream",
          "name": "stdout",
          "text": [
            "predicted=56853.98855, expected=56737.20593055556\n",
            "predicted=56848.07819, expected=58231.51722222222\n",
            "predicted=56847.37809, expected=55648.149798611106\n",
            "predicted=56847.29516, expected=54642.17270833334\n",
            "predicted=56847.28533, expected=54583.04641666667\n",
            "predicted=56847.28417, expected=57550.39461111111\n",
            "predicted=56847.28403, expected=57308.40227083333\n",
            "predicted=56847.28402, expected=57355.02405555556\n",
            "predicted=56847.28401, expected=56654.30411111111\n",
            "predicted=56847.28401, expected=55832.47190972222\n",
            "predicted=56847.28401, expected=48963.6390625\n",
            "predicted=56847.28401, expected=49137.93721875\n"
          ]
        }
      ]
    },
    {
      "cell_type": "code",
      "source": [
        "# строим графики прогнозируемых и известных значений\n",
        "xtitle='BTC/USDT historical'\n",
        "ylabel='value'\n",
        "xlabel='time'\n",
        "\n",
        "ax=test['o'].plot(legend=True, figsize=(12,5), title=xtitle)\n",
        "predictions.plot(legend=True)\n",
        "\n",
        "ax.autoscale(axis='x', tight=True)\n",
        "ax.set(xlabel=xlabel, ylabel=ylabel)"
      ],
      "metadata": {
        "colab": {
          "base_uri": "https://localhost:8080/",
          "height": 367
        },
        "id": "XozJiCSVysxG",
        "outputId": "d3c3e147-ef18-4efc-9b86-cd5b2ac1e7d8"
      },
      "execution_count": null,
      "outputs": [
        {
          "output_type": "execute_result",
          "data": {
            "text/plain": [
              "[Text(0, 0.5, 'value'), Text(0.5, 0, 'time')]"
            ]
          },
          "metadata": {},
          "execution_count": 29
        },
        {
          "output_type": "display_data",
          "data": {
            "text/plain": [
              "<Figure size 864x360 with 1 Axes>"
            ],
            "image/png": "[encoded data removed]"
          },
          "metadata": {
            "needs_background": "light"
          }
        }
      ]
    },
    {
      "cell_type": "code",
      "source": [
        "# Оцениваем качество модели с помощью MSE и RMSE. \n",
        "from sklearn.metrics import mean_squared_error \n",
        "error=mean_squared_error(test['o'], predictions)  \n",
        "\n",
        "print(f'SARIMAX(1, 1, 0) MSE Error: {error:11.10}')  "
      ],
      "metadata": {
        "colab": {
          "base_uri": "https://localhost:8080/"
        },
        "id": "TBHoA_BVzUI8",
        "outputId": "91c33396-537b-49b7-a480-c4abed246f61"
      },
      "execution_count": null,
      "outputs": [
        {
          "output_type": "stream",
          "name": "stdout",
          "text": [
            "SARIMAX(1, 1, 0) MSE Error: 11414399.83\n"
          ]
        }
      ]
    },
    {
      "cell_type": "code",
      "source": [
        "from statsmodels.tools.eval_measures import rmse\n",
        "error=rmse(test['o'], predictions)\n",
        "\n",
        "print(f'SARIMAX(1, 1, 0) RMSE Error: {error:11.10}')"
      ],
      "metadata": {
        "colab": {
          "base_uri": "https://localhost:8080/"
        },
        "id": "NhiFSuyiz9gf",
        "outputId": "23a0de1b-228c-45a5-960d-5d83cf604362"
      },
      "execution_count": null,
      "outputs": [
        {
          "output_type": "stream",
          "name": "stdout",
          "text": [
            "SARIMAX(1, 1, 0) RMSE Error: 3378.520361\n"
          ]
        }
      ]
    },
    {
      "cell_type": "code",
      "source": [
        "# Натренируем модель на полном датасете и предскажем на 20 дней вперед\n",
        "xstart=len(df_groupped)\n",
        "xend=len(df_groupped)+20\n",
        "\n",
        "predictions=results.predict(start=xstart, end=xend, dynamic=False, typ='levels').rename('Предсказание SARIMAX')\n",
        "\n",
        "for i in range(len(predictions)):\n",
        "  print(f\"predicted={predictions[i]:<11.10}, expected={df_groupped['o'][i]}\") "
      ],
      "metadata": {
        "colab": {
          "base_uri": "https://localhost:8080/"
        },
        "id": "6S2jIQJl0Pew",
        "outputId": "6463ea3f-758e-46c7-f506-2b72d28832b6"
      },
      "execution_count": null,
      "outputs": [
        {
          "output_type": "stream",
          "name": "stdout",
          "text": [
            "predicted=56847.28401, expected=28856.863604166665\n",
            "predicted=56847.28401, expected=29212.370965277776\n",
            "predicted=56847.28401, expected=30693.657375\n",
            "predicted=56847.28401, expected=33448.35586111111\n",
            "predicted=56847.28401, expected=31826.88217361111\n",
            "predicted=56847.28401, expected=32221.226270833333\n",
            "predicted=56847.28401, expected=34799.5521875\n",
            "predicted=56847.28401, expected=38001.5138125\n",
            "predicted=56847.28401, expected=39775.486375\n",
            "predicted=56847.28401, expected=40327.461083333335\n",
            "predicted=56847.28401, expected=39673.757284722225\n",
            "predicted=56847.28401, expected=34320.95515277778\n",
            "predicted=56847.28401, expected=34845.795173611106\n",
            "predicted=56847.28401, expected=34691.61904861111\n",
            "predicted=56847.28401, expected=38513.137875\n",
            "predicted=56847.28401, expected=37494.27442361111\n",
            "predicted=56847.28401, expected=36834.27\n",
            "predicted=56847.28401, expected=35653.56417361111\n",
            "predicted=56847.28401, expected=36043.3724375\n",
            "predicted=56847.28401, expected=36826.25921527778\n",
            "predicted=56847.28401, expected=35137.13963888889\n"
          ]
        }
      ]
    },
    {
      "cell_type": "code",
      "source": [
        "model=SARIMAX(df_groupped['o'], order=(1, 1, 0))  \n",
        "results=model.fit() \n",
        "results.summary()"
      ],
      "metadata": {
        "colab": {
          "base_uri": "https://localhost:8080/",
          "height": 399
        },
        "id": "g4qGuXEF3LTU",
        "outputId": "8cc1e937-fcfb-4382-a0cd-be44c2c4d55e"
      },
      "execution_count": null,
      "outputs": [
        {
          "output_type": "execute_result",
          "data": {
            "text/plain": [
              "<class 'statsmodels.iolib.summary.Summary'>\n",
              "\"\"\"\n",
              "                               SARIMAX Results                                \n",
              "==============================================================================\n",
              "Dep. Variable:                      o   No. Observations:                  340\n",
              "Model:               SARIMAX(1, 1, 0)   Log Likelihood               -2984.412\n",
              "Date:                Sun, 12 Feb 2023   AIC                           5972.823\n",
              "Time:                        06:38:49   BIC                           5980.475\n",
              "Sample:                    12-31-2020   HQIC                          5975.872\n",
              "                         - 12-05-2021                                         \n",
              "Covariance Type:                  opg                                         \n",
              "==============================================================================\n",
              "                 coef    std err          z      P>|z|      [0.025      0.975]\n",
              "------------------------------------------------------------------------------\n",
              "ar.L1          0.1136      0.044      2.562      0.010       0.027       0.201\n",
              "sigma2      2.585e+06   1.44e+05     17.986      0.000     2.3e+06    2.87e+06\n",
              "===================================================================================\n",
              "Ljung-Box (L1) (Q):                   0.69   Jarque-Bera (JB):                86.84\n",
              "Prob(Q):                              0.41   Prob(JB):                         0.00\n",
              "Heteroskedasticity (H):               0.66   Skew:                            -0.67\n",
              "Prob(H) (two-sided):                  0.03   Kurtosis:                         5.08\n",
              "===================================================================================\n",
              "\n",
              "Warnings:\n",
              "[1] Covariance matrix calculated using the outer product of gradients (complex-step).\n",
              "\"\"\""
            ],
            "text/html": [
              "<table class=\"simpletable\">\n",
              "<caption>SARIMAX Results</caption>\n",
              "<tr>\n",
              "  <th>Dep. Variable:</th>           <td>o</td>        <th>  No. Observations:  </th>    <td>340</td>   \n",
              "</tr>\n",
              "<tr>\n",
              "  <th>Model:</th>           <td>SARIMAX(1, 1, 0)</td> <th>  Log Likelihood     </th> <td>-2984.412</td>\n",
              "</tr>\n",
              "<tr>\n",
              "  <th>Date:</th>            <td>Sun, 12 Feb 2023</td> <th>  AIC                </th> <td>5972.823</td> \n",
              "</tr>\n",
              "<tr>\n",
              "  <th>Time:</th>                <td>06:38:49</td>     <th>  BIC                </th> <td>5980.475</td> \n",
              "</tr>\n",
              "<tr>\n",
              "  <th>Sample:</th>             <td>12-31-2020</td>    <th>  HQIC               </th> <td>5975.872</td> \n",
              "</tr>\n",
              "<tr>\n",
              "  <th></th>                   <td>- 12-05-2021</td>   <th>                     </th>     <td> </td>    \n",
              "</tr>\n",
              "<tr>\n",
              "  <th>Covariance Type:</th>        <td>opg</td>       <th>                     </th>     <td> </td>    \n",
              "</tr>\n",
              "</table>\n",
              "<table class=\"simpletable\">\n",
              "<tr>\n",
              "     <td></td>       <th>coef</th>     <th>std err</th>      <th>z</th>      <th>P>|z|</th>  <th>[0.025</th>    <th>0.975]</th>  \n",
              "</tr>\n",
              "<tr>\n",
              "  <th>ar.L1</th>  <td>    0.1136</td> <td>    0.044</td> <td>    2.562</td> <td> 0.010</td> <td>    0.027</td> <td>    0.201</td>\n",
              "</tr>\n",
              "<tr>\n",
              "  <th>sigma2</th> <td> 2.585e+06</td> <td> 1.44e+05</td> <td>   17.986</td> <td> 0.000</td> <td>  2.3e+06</td> <td> 2.87e+06</td>\n",
              "</tr>\n",
              "</table>\n",
              "<table class=\"simpletable\">\n",
              "<tr>\n",
              "  <th>Ljung-Box (L1) (Q):</th>     <td>0.69</td> <th>  Jarque-Bera (JB):  </th> <td>86.84</td>\n",
              "</tr>\n",
              "<tr>\n",
              "  <th>Prob(Q):</th>                <td>0.41</td> <th>  Prob(JB):          </th> <td>0.00</td> \n",
              "</tr>\n",
              "<tr>\n",
              "  <th>Heteroskedasticity (H):</th> <td>0.66</td> <th>  Skew:              </th> <td>-0.67</td>\n",
              "</tr>\n",
              "<tr>\n",
              "  <th>Prob(H) (two-sided):</th>    <td>0.03</td> <th>  Kurtosis:          </th> <td>5.08</td> \n",
              "</tr>\n",
              "</table><br/><br/>Warnings:<br/>[1] Covariance matrix calculated using the outer product of gradients (complex-step)."
            ]
          },
          "metadata": {},
          "execution_count": 33
        }
      ]
    },
    {
      "cell_type": "code",
      "source": [
        "#Построим график предсказания\n",
        "fcast=results.predict(len(df_groupped), len(df_groupped) + 20, typ='levels').rename('SARIMAX(1, 1, 0)')\n",
        "fcast.plot(legend=True)"
      ],
      "metadata": {
        "colab": {
          "base_uri": "https://localhost:8080/",
          "height": 306
        },
        "id": "MpbNNDDI3lnw",
        "outputId": "7fe20862-1a8e-4df4-9d8b-666225959994"
      },
      "execution_count": null,
      "outputs": [
        {
          "output_type": "execute_result",
          "data": {
            "text/plain": [
              "<matplotlib.axes._subplots.AxesSubplot at 0x7f529403aeb0>"
            ]
          },
          "metadata": {},
          "execution_count": 34
        },
        {
          "output_type": "display_data",
          "data": {
            "text/plain": [
              "<Figure size 432x288 with 1 Axes>"
            ],
            "image/png": "[encoded data removed]"
          },
          "metadata": {
            "needs_background": "light"
          }
        }
      ]
    },
    {
      "cell_type": "code",
      "source": [
        "#Построим график предсказаний и график исходных данных.\n",
        "xtitle='BTC/USDT historical'\n",
        "ylabel='value'\n",
        "xlabel='time'\n",
        "\n",
        "ax=df_groupped['o'].plot(legend=True, figsize=(12,5), title=xtitle)\n",
        "fcast.plot(legend=True)\n",
        "\n",
        "ax.autoscale(axis='x', tight=True)\n",
        "ax.set(xlabel=xlabel, ylabel=ylabel)"
      ],
      "metadata": {
        "colab": {
          "base_uri": "https://localhost:8080/",
          "height": 359
        },
        "id": "cmG4l7o04nFT",
        "outputId": "a7d10a31-0b39-40d6-ce37-ac5de7b4b994"
      },
      "execution_count": null,
      "outputs": [
        {
          "output_type": "execute_result",
          "data": {
            "text/plain": [
              "[Text(0, 0.5, 'value'), Text(0.5, 0, 'time')]"
            ]
          },
          "metadata": {},
          "execution_count": 35
        },
        {
          "output_type": "display_data",
          "data": {
            "text/plain": [
              "<Figure size 864x360 with 1 Axes>"
            ],
            "image/png": "[encoded data removed]"
          },
          "metadata": {
            "needs_background": "light"
          }
        }
      ]
    },
    {
      "cell_type": "markdown",
      "source": [
        "## Выводы"
      ],
      "metadata": {
        "id": "gX7Ue2304viI"
      }
    },
    {
      "cell_type": "markdown",
      "source": [
        "Ошибка слишком велика. Вследствие отсутствия фактора сезонности, модель SARIMAX не подходит для предсказания по исходным данным.  \n",
        "Вероятно, стоит уменьшить либо увеличить количество наблюдений либо использовать другую модель."
      ],
      "metadata": {
        "id": "wmuZ3A2_4vgF"
      }
    }
  ]
}