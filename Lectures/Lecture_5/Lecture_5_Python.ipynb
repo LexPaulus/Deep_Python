{
  "nbformat": 4,
  "nbformat_minor": 0,
  "metadata": {
    "colab": {
      "provenance": [],
      "collapsed_sections": [
        "vd9ZxjzARrNq",
        "ROuNE_MBkch1",
        "jyc_YDenDLfL",
        "AZsiZF9gLgdd",
        "ut4IlH0gT4i7"
      ]
    },
    "kernelspec": {
      "name": "python3",
      "display_name": "Python 3"
    },
    "language_info": {
      "name": "python"
    }
  },
  "cells": [
    {
      "cell_type": "markdown",
      "source": [
        "# Продвинутый Python, лекция 5\n",
        "\n",
        "**Лектор:** Петров Тимур\n",
        "\n",
        "**Семинаристы:** Петров Тимур, Коган Александра, Романченко Полина\n",
        "\n",
        "**Spoiler Alert:** в рамках курса нельзя изучить ни одну из тем от и до досконально (к сожалению, на это требуется больше времени, чем даже 3 часа в неделю). Но мы попробуем рассказать столько, сколько возможно :)"
      ],
      "metadata": {
        "id": "_fitwwLJ7F3n"
      }
    },
    {
      "cell_type": "markdown",
      "source": [
        "## OOP advanced"
      ],
      "metadata": {
        "id": "KfKPQpIs7Ps6"
      }
    },
    {
      "cell_type": "markdown",
      "source": [
        "Итак, на первом курсе по питону было очень многого всего сказано про классы, что в них есть (на самом деле почти все: всякие слоты, callable классы, метаклассы etc)\n",
        "\n",
        "Давайте немного вспомним и расширим знания про ООП (частично это будет напоминание, если вы не ходили на лекции, частично - новое, что нам потребуется на семинаре)"
      ],
      "metadata": {
        "id": "kRllQMBRPa_1"
      }
    },
    {
      "cell_type": "markdown",
      "source": [
        "### Классы"
      ],
      "metadata": {
        "id": "vd9ZxjzARrNq"
      }
    },
    {
      "cell_type": "markdown",
      "source": [
        "Будем делать все на примере Лола (сори, я не шарю за Доту)\n",
        "\n",
        "Начнем с малого: есть герои. У них есть пассивное умение, Q-W-E-R умения, ХП, уровень, мана и еще какие-то изменения, с ними связанные. Для того, чтобы начать проектировать конкретного героя, нам нужен некоторый шаблон. Для этого есть абстрактные классы"
      ],
      "metadata": {
        "id": "Rs3W3MCocSeD"
      }
    },
    {
      "cell_type": "code",
      "source": [
        "from abc import ABC, abstractmethod\n",
        " \n",
        "class Champion(ABC):\n",
        "\n",
        "    def __init__(self):\n",
        "        super().__init__()\n",
        "    \n",
        "    @abstractmethod\n",
        "    def passive(self):\n",
        "        pass\n",
        "\n",
        "    @abstractmethod\n",
        "    def Q(self):\n",
        "        pass\n",
        "\n",
        "    @abstractmethod\n",
        "    def W(self):\n",
        "        pass\n",
        "\n",
        "    @abstractmethod\n",
        "    def E(self):\n",
        "        pass\n",
        "    \n",
        "    @abstractmethod\n",
        "    def R(self):\n",
        "        pass\n",
        "\n",
        "    @abstractmethod\n",
        "    def level_up(self): #что-то происходит при изменении уровня\n",
        "        pass"
      ],
      "metadata": {
        "id": "HgMvb3Z8X9qf"
      },
      "execution_count": 1,
      "outputs": []
    },
    {
      "cell_type": "code",
      "source": [
        "class Ashe(Champion):\n",
        "\n",
        "    __slots__ = [] #отдельно ограничиваем слоты для чемпиона\n",
        "\n",
        "    def __init__(self):\n",
        "        super().__init__(self.__class__.__name__)\n",
        "        self.__class__.__items = []\n",
        "        self.__class__.__hp = 680\n",
        "        self.__class__.__mana = 280\n",
        "        self.__class__.__level = 1\n",
        "        self.__class__.__gold = 500\n",
        "        self.__class__.__attack_speed = 0.658\n",
        "        self.__class__.__damage = 59\n",
        "        self.__class__.__speed = 325\n",
        "\n",
        "    def passive(self):\n",
        "        return self.__mana\n",
        "\n",
        "    def Q(self):\n",
        "        pass\n",
        "\n",
        "    def W(self):\n",
        "        pass\n",
        "\n",
        "    def E(self):\n",
        "        pass\n",
        "    \n",
        "    def R(self):\n",
        "        pass\n",
        "\n",
        "    def level_up(self):\n",
        "        pass"
      ],
      "metadata": {
        "id": "AFAqrRAHddHJ"
      },
      "execution_count": null,
      "outputs": []
    },
    {
      "cell_type": "markdown",
      "source": [
        "Допустим, теперь хотим, чтобы можно было получить все-таки здоровье чемпиона"
      ],
      "metadata": {
        "id": "uUJF8O98h0eF"
      }
    },
    {
      "cell_type": "code",
      "source": [
        "class Ashe(Champion):\n",
        "\n",
        "    __slots__ = [] #отдельно ограничиваем слоты для чемпиона\n",
        "\n",
        "    def __init__(self):\n",
        "        super().__init__(self.__class__.__name__)\n",
        "        self.__class__.__items = []\n",
        "        self.__class__.__hp = 680\n",
        "        self.__class__.__mana = 280\n",
        "        self.__class__.__level = 1\n",
        "        self.__class__.__gold = 500\n",
        "        self.__class__.__attack_speed = 0.658\n",
        "        self.__class__.__damage = 59\n",
        "        self.__class__.__speed = 325\n",
        "\n",
        "    @property\n",
        "    def mana(self):\n",
        "        return self.__mana\n",
        "\n",
        "    def passive(self):\n",
        "        return self.__mana\n",
        "\n",
        "    def Q(self):\n",
        "        pass\n",
        "\n",
        "    def W(self):\n",
        "        pass\n",
        "\n",
        "    def E(self):\n",
        "        pass\n",
        "    \n",
        "    def R(self):\n",
        "        pass\n",
        "\n",
        "    def level_up(self):\n",
        "        pass"
      ],
      "metadata": {
        "id": "YPp0oLqXelK4"
      },
      "execution_count": null,
      "outputs": []
    },
    {
      "cell_type": "markdown",
      "source": [
        "Давайте поподробнее разберемся, что вообще такое property\n",
        "\n",
        "На самом деле это функция (обернутая в красивый декоратор @property)\n",
        "\n",
        "```\n",
        "property(fget=None, fset=None, fdel=None, doc=None)\n",
        "fget - как вытащить\n",
        "fset - как поставить\n",
        "fdel - как удалить\n",
        "doc - стринга\n",
        "```\n",
        "\n",
        "По дефолту написание property есть ни что иное, как установление getterа, отдельно можно прописать set (через тот же setter), delete (deleter)\n",
        "\n",
        "Как еще можно написать property:\n",
        "\n",
        "(Обратите внимание, что без setter нельзя будет получить данные, выполняем инкапсуляцию)\n"
      ],
      "metadata": {
        "id": "RMhH1nagiV-A"
      }
    },
    {
      "cell_type": "code",
      "source": [
        "class Ashe(Champion):\n",
        "\n",
        "    __slots__ = [] #отдельно ограничиваем слоты для чемпиона\n",
        "\n",
        "    def __init__(self):\n",
        "        super().__init__()\n",
        "        self.__class__.__items = []\n",
        "        self.__class__.__hp = 680\n",
        "        self.__class__.__mana = 280\n",
        "        self.__class__.__level = 1\n",
        "        self.__class__.__gold = 500\n",
        "        self.__class__.__attack_speed = 0.658\n",
        "        self.__class__.__damage = 59\n",
        "        self.__class__.__speed = 325\n",
        "\n",
        "    mana = property(fget = lambda x: x.__mana)\n",
        "\n",
        "    def passive(self):\n",
        "        return self.__mana\n",
        "\n",
        "    def Q(self):\n",
        "        pass\n",
        "\n",
        "    def W(self):\n",
        "        pass\n",
        "\n",
        "    def E(self):\n",
        "        pass\n",
        "    \n",
        "    def R(self):\n",
        "        pass\n",
        "\n",
        "    def level_up(self):\n",
        "        pass"
      ],
      "metadata": {
        "id": "OtY0DT6wjX8s"
      },
      "execution_count": 160,
      "outputs": []
    },
    {
      "cell_type": "code",
      "source": [
        "player_1 = Ashe()\n",
        "player_1.mana"
      ],
      "metadata": {
        "colab": {
          "base_uri": "https://localhost:8080/"
        },
        "id": "GFYEwqEUiAAg",
        "outputId": "c328f689-1826-4f38-dc51-ddfc0982425f"
      },
      "execution_count": null,
      "outputs": [
        {
          "output_type": "execute_result",
          "data": {
            "text/plain": [
              "280"
            ]
          },
          "metadata": {},
          "execution_count": 105
        }
      ]
    },
    {
      "cell_type": "code",
      "source": [
        "class Ashe(Champion):\n",
        "\n",
        "    __slots__ = [] #отдельно ограничиваем слоты для чемпиона\n",
        "\n",
        "    def __init__(self):\n",
        "        super().__init__(self.__class__.__name__)\n",
        "        self.__class__.__items = []\n",
        "        self.__class__.__hp = 680\n",
        "        self.__class__.__mana = 280\n",
        "        self.__class__.__level = 1\n",
        "        self.__class__.__gold = 500\n",
        "        self.__class__.__attack_speed = 0.658\n",
        "        self.__class__.__damage = 59\n",
        "        self.__class__.__speed = 325\n",
        "\n",
        "    mana = property(fget = lambda x: x.__mana)\n",
        "    hp = property(fget = lambda x: x.__hp)\n",
        "    items = property(fget = lambda x: x.__items)\n",
        "    level = property(fget = lambda x: x.__level)\n",
        "    gold = property(fget = lambda x: x.__gold)\n",
        "    attack_speed = property(fget = lambda x: x.__attack_speed)\n",
        "    damage = property(fget = lambda x: x.__damage)\n",
        "    speed = property(fget = lambda x: x.__speed)\n",
        "\n",
        "    def passive(self):\n",
        "        return self.mana # через те же getter можно обращаться внутри класса\n",
        "\n",
        "    def Q(self):\n",
        "        pass\n",
        "\n",
        "    def W(self):\n",
        "        pass\n",
        "\n",
        "    def E(self):\n",
        "        pass\n",
        "    \n",
        "    def R(self):\n",
        "        pass\n",
        "\n",
        "    def level_up(self):\n",
        "        pass"
      ],
      "metadata": {
        "id": "sW8v0O5Tj1fD"
      },
      "execution_count": null,
      "outputs": []
    },
    {
      "cell_type": "code",
      "source": [
        "p = Ashe()\n",
        "p.passive()"
      ],
      "metadata": {
        "colab": {
          "base_uri": "https://localhost:8080/"
        },
        "id": "mSdm9Qt2kKis",
        "outputId": "e1f68c8f-38c1-4759-f83d-c093dea4e39c"
      },
      "execution_count": null,
      "outputs": [
        {
          "output_type": "execute_result",
          "data": {
            "text/plain": [
              "280"
            ]
          },
          "metadata": {},
          "execution_count": 108
        }
      ]
    },
    {
      "cell_type": "markdown",
      "source": [
        "Окей, мы написали все properties, но их можно только достать. А как же теперь их изменять (при взаимодействии с героями другими и с объектами?)\n",
        "\n",
        "Можно написать кастомный property! (библиотека [operator](https://docs.python.org/3/library/operator.html) - это удобная вещь для того, чтобы доставать необходимые атрибуты, а также операции, посмотрите обязательно). По сути, мы написали дескриптор"
      ],
      "metadata": {
        "id": "-0Ro2ioznDwM"
      }
    },
    {
      "cell_type": "code",
      "source": [
        "from operator import attrgetter\n",
        "\n",
        "class CustomProperty(object):\n",
        "    def __init__(self, attr):\n",
        "        self.attr = attr\n",
        "\n",
        "    def __get__(self, ins, type):\n",
        "        if ins is None:\n",
        "            return self\n",
        "        else:\n",
        "            return attrgetter(self.attr)(ins) \n",
        "\n",
        "    def __set__(self, ins, value):\n",
        "        setattr(ins, self.attr, value)"
      ],
      "metadata": {
        "id": "Hbu14jSQnU5i"
      },
      "execution_count": 3,
      "outputs": []
    },
    {
      "cell_type": "markdown",
      "source": [
        "### Допишем нашу Ашу до конца (будем считать, что все способности являются AOT, то есть они сразу бьют по таргету)"
      ],
      "metadata": {
        "id": "ROuNE_MBkch1"
      }
    },
    {
      "cell_type": "code",
      "source": [
        "class Ashe(Champion):\n",
        "\n",
        "    __slots__ = [\"__items\", \"__hp\", \"__mana\", \"__level\", \"__attack_speed\", \"__gold\", \"name\", \"__damage\", \"__speed\"]\n",
        "\n",
        "    title = \"Ashe\"\n",
        "\n",
        "    def __init__(self):\n",
        "        super().__init__()\n",
        "        self.__items = []\n",
        "        self.__hp = 680\n",
        "        self.__mana = 280\n",
        "        self.__level = 1\n",
        "        self.__gold = 500\n",
        "        self.__attack_speed = 0.658\n",
        "        self.__damage = 59\n",
        "        self.__speed = 325\n",
        "\n",
        "    mana = CustomProperty(\"__mana\")\n",
        "    hp = CustomProperty(\"_\" + title +\"__hp\")\n",
        "    items = CustomProperty(\"__items\")\n",
        "    level = CustomProperty(\"__level\")\n",
        "    gold = CustomProperty(\"__gold\")\n",
        "    attack_speed = CustomProperty(\"__attack_speed\")\n",
        "    damage = CustomProperty(\"_\" + title +\"__damage\")\n",
        "    speed = CustomProperty(\"_\" + title + \"__speed\")\n",
        "\n",
        "    def passive(self, champ):\n",
        "        if isinstance(champ, Champion):\n",
        "            champ.speed = champ.speed * 0.2\n",
        "            pass\n",
        "        else:\n",
        "            raise ValueError(\"Not a champion\")\n",
        "\n",
        "    def Q(self):\n",
        "        self.damage += 21\n",
        "        self.attack_speed *= 1.25\n",
        "\n",
        "    def W(self, champ):\n",
        "        if isinstance(champ, Champion):\n",
        "            champ.hp -= 20 + self.damage\n",
        "            self.passive(champ)\n",
        "        else:\n",
        "            raise ValueError(\"Not a champion\")\n",
        "\n",
        "    def E(self):\n",
        "        pass\n",
        "    \n",
        "    def R(self, champ):\n",
        "        if isinstance(champ, Champion):\n",
        "            champ.hp = champ.hp - 200\n",
        "            self.passive(champ)\n",
        "        else:\n",
        "            raise ValueError(\"Not a champion\")\n",
        "\n",
        "    def level_up(self):\n",
        "        if self.level < 18:\n",
        "            self.damage += 3\n",
        "            self.attack_speed += 0.1\n",
        "            self.level += 1\n",
        "            self.hp += 150\n",
        "        else:\n",
        "            pass"
      ],
      "metadata": {
        "id": "vmspiQsvkhqT"
      },
      "execution_count": 4,
      "outputs": []
    },
    {
      "cell_type": "code",
      "source": [
        "p_1 = Ashe()\n",
        "p_2 = Ashe()\n",
        "p_1.W(p_2)\n",
        "p_2.hp"
      ],
      "metadata": {
        "colab": {
          "base_uri": "https://localhost:8080/"
        },
        "id": "bbI9vWs8lCtc",
        "outputId": "575430c6-8fa9-483f-9570-312a69242a0a"
      },
      "execution_count": 13,
      "outputs": [
        {
          "output_type": "execute_result",
          "data": {
            "text/plain": [
              "601"
            ]
          },
          "metadata": {},
          "execution_count": 13
        }
      ]
    },
    {
      "cell_type": "markdown",
      "source": [
        "### Что можем добавить?\n",
        "\n",
        "Ну, по сути, можно добавить вызов самого персонажа (чтобы посмотреть, что же у него там происходит)\n",
        "\n",
        "Сделаем функцию callable"
      ],
      "metadata": {
        "id": "jyc_YDenDLfL"
      }
    },
    {
      "cell_type": "code",
      "source": [
        "class Ashe(Champion):\n",
        "\n",
        "    __slots__ = [\"__items\", \"__hp\", \"__mana\", \"__level\", \"__attack_speed\", \"__gold\", \"name\", \"__damage\", \"__speed\"]\n",
        "\n",
        "    title = \"Ashe\"\n",
        "\n",
        "    def __init__(self):\n",
        "        super().__init__(self.__class__.__name__)\n",
        "        self.__items = []\n",
        "        self.__hp = 680\n",
        "        self.__mana = 280\n",
        "        self.__level = 1\n",
        "        self.__gold = 500\n",
        "        self.__attack_speed = 0.658\n",
        "        self.__damage = 59\n",
        "        self.__speed = 325\n",
        "\n",
        "    mana = CustomProperty(\"_\" + title + \"__mana\")\n",
        "    hp = CustomProperty(\"_\" + title +\"__hp\")\n",
        "    items = CustomProperty(\"_\" + title + \"__items\")\n",
        "    level = CustomProperty(\"_\" + title + \"__level\")\n",
        "    gold = CustomProperty(\"_\" + title + \"__gold\")\n",
        "    attack_speed = CustomProperty(\"_\" + title + \"__attack_speed\")\n",
        "    damage = CustomProperty(\"_\" + title +\"__damage\")\n",
        "    speed = CustomProperty(\"_\" + title + \"__speed\")\n",
        "\n",
        "    def passive(self, champ):\n",
        "        if isinstance(champ, Champion):\n",
        "            champ.speed = champ.speed * 0.2\n",
        "            pass\n",
        "        else:\n",
        "            raise ValueError(\"Not a champion\")\n",
        "\n",
        "    def Q(self):\n",
        "        self.damage += 21\n",
        "        self.attack_speed *= 1.25\n",
        "\n",
        "    def W(self, champ):\n",
        "        if isinstance(champ, Champion):\n",
        "            champ.hp -= 20 + self.damage\n",
        "            self.passive(champ)\n",
        "        else:\n",
        "            raise ValueError(\"Not a champion\")\n",
        "\n",
        "    def E(self):\n",
        "        pass\n",
        "    \n",
        "    def R(self, champ):\n",
        "        if isinstance(champ, Champion):\n",
        "            champ.hp = champ.hp - 200\n",
        "            self.passive(champ)\n",
        "        else:\n",
        "            raise ValueError(\"Not a champion\")\n",
        "\n",
        "    def level_up(self):\n",
        "        if self.level < 18:\n",
        "            self.damage += 3\n",
        "            self.attack_speed != 0.1\n",
        "            self.level += 1\n",
        "            self.hp += 150\n",
        "        else:\n",
        "            pass\n",
        "\n",
        "    def __call__(self):\n",
        "        print(\"Name \", Ashe.title)\n",
        "        print('-' * 30)\n",
        "        print(\"HP \", self.hp)\n",
        "        print(\"Mana \", self.mana)\n",
        "        print(\"Level \", self.level)\n",
        "        print(\"Items \", self.items)\n",
        "        print(\"AS \", self.attack_speed)\n",
        "        print(\"Gold \", self.gold)\n",
        "        print(\"Damage \", self.damage)\n",
        "        print(\"Speed Movement \", self.speed)"
      ],
      "metadata": {
        "id": "e5LRoZ8oDY95"
      },
      "execution_count": 18,
      "outputs": []
    },
    {
      "cell_type": "code",
      "source": [
        "p = Ashe()\n",
        "p()"
      ],
      "metadata": {
        "colab": {
          "base_uri": "https://localhost:8080/"
        },
        "id": "NXNzF0ssFuP2",
        "outputId": "5e87f3b0-2c52-43dd-8d9c-6e02a6f3f154"
      },
      "execution_count": 19,
      "outputs": [
        {
          "output_type": "stream",
          "name": "stdout",
          "text": [
            "Name  Ashe\n",
            "------------------------------\n",
            "HP  680\n",
            "Mana  280\n",
            "Level  1\n",
            "Items  []\n",
            "AS  0.658\n",
            "Gold  500\n",
            "Damage  59\n",
            "Speed Movement  325\n"
          ]
        }
      ]
    },
    {
      "cell_type": "markdown",
      "source": [
        "### Что еще добавить?"
      ],
      "metadata": {
        "id": "AZsiZF9gLgdd"
      }
    },
    {
      "cell_type": "markdown",
      "source": [
        "Да на самом деле дофига всего:\n",
        "\n",
        "* Персонажи не стоят на месте (более того, атаки и умения имеют свой собственный range)\n",
        "\n",
        "* Нельзя спамить абилками (очевидно, что у них есть cooldown)\n",
        "\n",
        "* У абилок есть уровни и их надо тоже фигачить\n",
        "\n",
        "Этим займемся на семинаре, попотеем"
      ],
      "metadata": {
        "id": "MhdPexyvLj3k"
      }
    },
    {
      "cell_type": "markdown",
      "source": [
        "### Генераторы и итераторы"
      ],
      "metadata": {
        "id": "ut4IlH0gT4i7"
      }
    },
    {
      "cell_type": "markdown",
      "source": [
        "Ну окей, у нас какой-то герой, мы можем ему задавать перечень команд, которые он должен делать (идти, стрелять, etc). Можно задать с помощью генератора"
      ],
      "metadata": {
        "id": "smi94ayxOh7N"
      }
    },
    {
      "cell_type": "code",
      "source": [
        "class Actions():\n",
        "    def __init__(self, actions_list=None):\n",
        "        if actions_list is None:\n",
        "            self.actions = []\n",
        "        else:\n",
        "            self.actions = actions_list\n",
        "        self.iter_obj = iter(self.actions)\n",
        "\n",
        "    def __iter__(self):\n",
        "        return self\n",
        "\n",
        "    def __next__(self):\n",
        "        while True:\n",
        "            try:\n",
        "                next_obj = next(self.iter_obj)\n",
        "                return next_obj\n",
        "            except StopIteration:\n",
        "                self.iter_obj = iter(self.iterable)\n",
        "\n",
        "    def __add__(self, act):\n",
        "        self.actions.append(str(act))\n",
        "        self.iter_obj = iter(self.actions)\n",
        "        return self\n",
        "\n",
        "    def __sub__(self, act):\n",
        "        try:\n",
        "            self.actions.remove(act)\n",
        "            self.iter_obj = iter(self.actions)\n",
        "        except IndexError :\n",
        "            raise ValueError(\"No such act\")\n",
        "        return self\n",
        "\n",
        "    def pop(self):\n",
        "        self.actions.pop()\n",
        "        return self\n",
        "\n",
        "    def __repr__(self):\n",
        "        return \" \".join(self.actions)\n",
        "    \n",
        "    def __str__(self):\n",
        "        return \" \".join(self.actions)"
      ],
      "metadata": {
        "id": "s3xObRs2nYmC"
      },
      "execution_count": 77,
      "outputs": []
    },
    {
      "cell_type": "markdown",
      "source": [
        "Отлично, теперь этот итератор можно использовать для того, чтобы использовать (можно даже вместе с cooldown, но это надо отдельно)"
      ],
      "metadata": {
        "id": "AzZ78mSWR_Bv"
      }
    },
    {
      "cell_type": "markdown",
      "source": [
        "### Предметы"
      ],
      "metadata": {
        "id": "BwiKavxPVBzt"
      }
    },
    {
      "cell_type": "markdown",
      "source": [
        "Давайте добавим предметы\n",
        "\n",
        "В чем прикол предметов? Это статичные элементы, которые сами по себе ничего не осуществляют (их можно купить-продать)\n",
        "\n",
        "Для этого отлично подойдет [DataClass](https://docs.python.org/3/library/dataclasses.html) - тип классов, который из себя представляет словарик, в виде которого мы и можем хранить предметы"
      ],
      "metadata": {
        "id": "3eXRfaVoVHr9"
      }
    },
    {
      "cell_type": "code",
      "source": [
        "from dataclasses import dataclass, field\n",
        "\n",
        "@dataclass\n",
        "class Item:\n",
        "    \"\"\"Class for keeping track of an item in inventory.\"\"\"\n",
        "    name: str\n",
        "    unit_price: float\n",
        "    quantity_on_hand: int = 0\n",
        "\n",
        "    def total_cost(self) -> float:\n",
        "        return self.unit_price * self.quantity_on_hand"
      ],
      "metadata": {
        "id": "le3-dCJeViaF"
      },
      "execution_count": 105,
      "outputs": []
    },
    {
      "cell_type": "markdown",
      "source": [
        "Смотрите, как отличается от обычного класс. На самом деле это просто ЕЩЕ одна обертка над классом, которая самостоятельно строит init, repr, str etc"
      ],
      "metadata": {
        "id": "dEelbImMWkIf"
      }
    },
    {
      "cell_type": "code",
      "source": [
        "a = Item(\"cool\", 15.0)\n",
        "print(a)"
      ],
      "metadata": {
        "colab": {
          "base_uri": "https://localhost:8080/"
        },
        "id": "9Ug841xNW0rX",
        "outputId": "0df1e5c6-ffef-4fd6-f680-e68b494846c8"
      },
      "execution_count": 82,
      "outputs": [
        {
          "output_type": "stream",
          "name": "stdout",
          "text": [
            "Item(name='cool', unit_price=15.0, quantity_on_hand=0)\n"
          ]
        }
      ]
    },
    {
      "cell_type": "markdown",
      "source": [
        "Но если он сам делает init, как делать наследование? Ну, есть post_init!"
      ],
      "metadata": {
        "id": "Uy0aLE5hXU5l"
      }
    },
    {
      "cell_type": "code",
      "source": [
        "@dataclass\n",
        "class Rectangle:\n",
        "    height: float\n",
        "    width: float\n",
        "\n",
        "@dataclass\n",
        "class Square(Rectangle):\n",
        "    side: float\n",
        "\n",
        "    def __post_init__(self): # по сути добавление к __init__\n",
        "        super().__init__(self.side, self.side) "
      ],
      "metadata": {
        "id": "M83lvvlQXa1f"
      },
      "execution_count": 107,
      "outputs": []
    },
    {
      "cell_type": "markdown",
      "source": [
        "Окей, с простыми типами все понятно. А если мы хотим добавить список?"
      ],
      "metadata": {
        "id": "xaGMkKxGXwog"
      }
    },
    {
      "cell_type": "code",
      "source": [
        "@dataclass\n",
        "class Item:\n",
        "    \"\"\"Class for keeping track of an item in inventory.\"\"\"\n",
        "    name: str\n",
        "    unit_price: float\n",
        "    depend: list = field(default_factory= 'list', repr=False)\n",
        "\n",
        "a = Item(\"a\", 15, [])\n",
        "b = Item(\"b\", 17, [a])\n",
        "print(b)"
      ],
      "metadata": {
        "colab": {
          "base_uri": "https://localhost:8080/"
        },
        "id": "GADaFQTYX2i_",
        "outputId": "faa6643e-2631-41a4-acad-3144b9664406"
      },
      "execution_count": 132,
      "outputs": [
        {
          "output_type": "stream",
          "name": "stdout",
          "text": [
            "Item(name='b', unit_price=17)\n"
          ]
        }
      ]
    },
    {
      "cell_type": "markdown",
      "source": [
        "### Немного про время\n",
        "\n",
        "Мы уже раньше говорили про время и про то, что для дальнейших работ нам потребуется работа со временем (отсчитывать cooldown etc)\n",
        "\n",
        "Давайте чуть-чуть вспомним время (базово)"
      ],
      "metadata": {
        "id": "-kQUGGcjbxrf"
      }
    },
    {
      "cell_type": "code",
      "source": [
        "import time\n",
        "\n",
        "print(time.time()) # в секундах\n",
        "print(time.time_ns()) #в наносекундах\n",
        "print(time.ctime()) # в нормальном формате\n",
        "print(time.time() - time.time()) #секунд для выполнения вывода\n",
        "\n",
        "#Внутри time также есть strptime и strftime, прямо как в datetime"
      ],
      "metadata": {
        "colab": {
          "base_uri": "https://localhost:8080/"
        },
        "id": "Y-zGFwjJdMgf",
        "outputId": "99aa9df2-5a93-4e34-dbaf-f9474985b99a"
      },
      "execution_count": 137,
      "outputs": [
        {
          "output_type": "stream",
          "name": "stdout",
          "text": [
            "1664743873.908518\n",
            "1664743873911315009\n",
            "Sun Oct  2 20:51:13 2022\n",
            "-4.76837158203125e-07\n"
          ]
        }
      ]
    },
    {
      "cell_type": "markdown",
      "source": [
        "### Унификация"
      ],
      "metadata": {
        "id": "GtPUE6cUeXY8"
      }
    },
    {
      "cell_type": "markdown",
      "source": [
        "Давайте себе представим, что мы составляем для команды героев:"
      ],
      "metadata": {
        "id": "l3kLStfVeZdp"
      }
    },
    {
      "cell_type": "code",
      "source": [
        "team_1 = []\n",
        "team_2 = []\n",
        "\n",
        "for i in range(5):\n",
        "    team_1.append(input(\"Team 1, choose your hero:\"))\n",
        "    team_2.append(input(\"Team 2, choose your hero:\"))\n",
        "\n",
        "print('-' * 30)\n",
        "print(team_1)\n",
        "print(team_2)"
      ],
      "metadata": {
        "colab": {
          "base_uri": "https://localhost:8080/"
        },
        "id": "JcVz5S5Le2Oo",
        "outputId": "29b875fe-0c04-4e90-d0b8-23a05f87a7e5"
      },
      "execution_count": 139,
      "outputs": [
        {
          "output_type": "stream",
          "name": "stdout",
          "text": [
            "Team 1, choose your hero:Aatrox\n",
            "Team 2, choose your hero:Ashe\n",
            "Team 1, choose your hero:Akshan\n",
            "Team 2, choose your hero:Rammus\n",
            "Team 1, choose your hero:Zeri\n",
            "Team 2, choose your hero:Sivir\n",
            "Team 1, choose your hero:Yuumi\n",
            "Team 2, choose your hero:Nautilus\n",
            "Team 1, choose your hero:Victor\n",
            "Team 2, choose your hero:Orianna\n",
            "------------------------------\n",
            "['Aatrox', 'Akshan', 'Zeri', 'Yuumi', 'Victor']\n",
            "['Ashe', 'Rammus', 'Sivir', 'Nautilus', 'Orianna']\n"
          ]
        }
      ]
    },
    {
      "cell_type": "markdown",
      "source": [
        "А как потом создавать классы? Брать имя, делать exec с их созданием? Тоска\n",
        "\n",
        "Было бы славно создать общую функцию, чтобы сразу сделать все, что нам нужно и присвоить класс. Ну, давайте сделаем фабрику классов:"
      ],
      "metadata": {
        "id": "-rSmGj3ZfY5u"
      }
    },
    {
      "cell_type": "code",
      "source": [
        "def ChampionSelector(champ):\n",
        "  for cls in Champion.__subclasses__():\n",
        "    if cls.title == champ:\n",
        "      return cls()\n",
        "  raise ValueError"
      ],
      "metadata": {
        "id": "gzOxbrRygANs"
      },
      "execution_count": 10,
      "outputs": []
    },
    {
      "cell_type": "code",
      "source": [
        "a = ChampionSelector(\"Ashe\")\n",
        "type(a)"
      ],
      "metadata": {
        "colab": {
          "base_uri": "https://localhost:8080/"
        },
        "id": "powW97HWgQzs",
        "outputId": "e62a17af-0e1c-4034-e3c4-90bd396afad8"
      },
      "execution_count": 9,
      "outputs": [
        {
          "output_type": "stream",
          "name": "stdout",
          "text": [
            "Ashe\n"
          ]
        },
        {
          "output_type": "execute_result",
          "data": {
            "text/plain": [
              "__main__.Ashe"
            ]
          },
          "metadata": {},
          "execution_count": 9
        }
      ]
    },
    {
      "cell_type": "markdown",
      "source": [
        "Ну все, на этом сегодня закончим пока что (на семинаре мы это дело подшлифуем и сделаем что-то более valuable)\n",
        "\n",
        "А заодно в целом поговорим про планирование (когда мы делаем что-то в ООП, это важная штука)"
      ],
      "metadata": {
        "id": "gZXGP_Aah68q"
      }
    },
    {
      "cell_type": "markdown",
      "source": [
        "## Попугай дня"
      ],
      "metadata": {
        "id": "xAL_LbetgNuo"
      }
    },
    {
      "cell_type": "markdown",
      "source": [
        "![](https://i.pinimg.com/originals/2d/59/dc/2d59dc37ef7d2c3767f075e05ed193a6.jpg)"
      ],
      "metadata": {
        "id": "QdCs2NJKgRGf"
      }
    },
    {
      "cell_type": "markdown",
      "source": [
        "А это не попугай! Это капибара (или ее еще называют водосвинкой, а в Мексике ее вообще зовут кокосовой собачкой)\n",
        "\n",
        "Самые крупные грызуны на планете, максимально милейшие, дружелюбные и очень хорошо ладят с людьми. Едят траву, а водосвинками называются, потому что они плавают и в целом любят воду\n",
        "\n",
        "Какие факты есть про них:\n",
        "\n",
        "1. Они балдежные и очень спокойные\n",
        "\n",
        "2. Католическая церковь в XVI веке говорила, что капибары из-за их полуводного образа жизни являются рыбами, а поэтому их можно было есть в пост\n",
        "\n",
        "3. В Аргентине недавно переселились в богатые районы Буэнос-Айреса (где, естественно, много зелени) и теперь там хозяйствуют (поэтому есть кучами мемов с капибарами-коммунистами). А поскольку естественные враги капибар - это кайманы и пумы, то как-то их и не выселишь"
      ],
      "metadata": {
        "id": "2fjnj9aegYse"
      }
    },
    {
      "cell_type": "markdown",
      "source": [
        "![](https://i.pinimg.com/originals/83/0e/16/830e163003a346352ac0d9ba20203b2e.jpg)"
      ],
      "metadata": {
        "id": "X7eLvbODhmUG"
      }
    }
  ]
}